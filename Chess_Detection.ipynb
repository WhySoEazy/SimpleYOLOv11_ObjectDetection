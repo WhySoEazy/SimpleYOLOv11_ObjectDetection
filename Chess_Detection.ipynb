{
  "cells": [
    {
      "cell_type": "code",
      "execution_count": 1,
      "metadata": {
        "colab": {
          "base_uri": "https://localhost:8080/"
        },
        "id": "pCGGYoWpb2yP",
        "outputId": "68cbdb08-3037-47e2-ba32-0d009fe8839f"
      },
      "outputs": [
        {
          "name": "stdout",
          "output_type": "stream",
          "text": [
            "Collecting roboflow\n",
            "  Downloading roboflow-1.1.65-py3-none-any.whl.metadata (9.7 kB)\n",
            "Requirement already satisfied: certifi in /usr/local/lib/python3.11/dist-packages (from roboflow) (2025.4.26)\n",
            "Collecting idna==3.7 (from roboflow)\n",
            "  Downloading idna-3.7-py3-none-any.whl.metadata (9.9 kB)\n",
            "Requirement already satisfied: cycler in /usr/local/lib/python3.11/dist-packages (from roboflow) (0.12.1)\n",
            "Requirement already satisfied: kiwisolver>=1.3.1 in /usr/local/lib/python3.11/dist-packages (from roboflow) (1.4.8)\n",
            "Requirement already satisfied: matplotlib in /usr/local/lib/python3.11/dist-packages (from roboflow) (3.10.0)\n",
            "Requirement already satisfied: numpy>=1.18.5 in /usr/local/lib/python3.11/dist-packages (from roboflow) (2.0.2)\n",
            "Collecting opencv-python-headless==4.10.0.84 (from roboflow)\n",
            "  Downloading opencv_python_headless-4.10.0.84-cp37-abi3-manylinux_2_17_x86_64.manylinux2014_x86_64.whl.metadata (20 kB)\n",
            "Requirement already satisfied: Pillow>=7.1.2 in /usr/local/lib/python3.11/dist-packages (from roboflow) (11.2.1)\n",
            "Collecting pillow-heif>=0.18.0 (from roboflow)\n",
            "  Downloading pillow_heif-0.22.0-cp311-cp311-manylinux_2_17_x86_64.manylinux2014_x86_64.whl.metadata (9.6 kB)\n",
            "Requirement already satisfied: python-dateutil in /usr/local/lib/python3.11/dist-packages (from roboflow) (2.9.0.post0)\n",
            "Collecting python-dotenv (from roboflow)\n",
            "  Downloading python_dotenv-1.1.0-py3-none-any.whl.metadata (24 kB)\n",
            "Requirement already satisfied: requests in /usr/local/lib/python3.11/dist-packages (from roboflow) (2.32.3)\n",
            "Requirement already satisfied: six in /usr/local/lib/python3.11/dist-packages (from roboflow) (1.17.0)\n",
            "Requirement already satisfied: urllib3>=1.26.6 in /usr/local/lib/python3.11/dist-packages (from roboflow) (2.4.0)\n",
            "Requirement already satisfied: tqdm>=4.41.0 in /usr/local/lib/python3.11/dist-packages (from roboflow) (4.67.1)\n",
            "Requirement already satisfied: PyYAML>=5.3.1 in /usr/local/lib/python3.11/dist-packages (from roboflow) (6.0.2)\n",
            "Requirement already satisfied: requests-toolbelt in /usr/local/lib/python3.11/dist-packages (from roboflow) (1.0.0)\n",
            "Collecting filetype (from roboflow)\n",
            "  Downloading filetype-1.2.0-py2.py3-none-any.whl.metadata (6.5 kB)\n",
            "Requirement already satisfied: contourpy>=1.0.1 in /usr/local/lib/python3.11/dist-packages (from matplotlib->roboflow) (1.3.2)\n",
            "Requirement already satisfied: fonttools>=4.22.0 in /usr/local/lib/python3.11/dist-packages (from matplotlib->roboflow) (4.58.1)\n",
            "Requirement already satisfied: packaging>=20.0 in /usr/local/lib/python3.11/dist-packages (from matplotlib->roboflow) (24.2)\n",
            "Requirement already satisfied: pyparsing>=2.3.1 in /usr/local/lib/python3.11/dist-packages (from matplotlib->roboflow) (3.2.3)\n",
            "Requirement already satisfied: charset-normalizer<4,>=2 in /usr/local/lib/python3.11/dist-packages (from requests->roboflow) (3.4.2)\n",
            "Downloading roboflow-1.1.65-py3-none-any.whl (85 kB)\n",
            "\u001b[2K   \u001b[90m━━━━━━━━━━━━━━━━━━━━━━━━━━━━━━━━━━━━━━━━\u001b[0m \u001b[32m85.8/85.8 kB\u001b[0m \u001b[31m4.9 MB/s\u001b[0m eta \u001b[36m0:00:00\u001b[0m\n",
            "\u001b[?25hDownloading idna-3.7-py3-none-any.whl (66 kB)\n",
            "\u001b[2K   \u001b[90m━━━━━━━━━━━━━━━━━━━━━━━━━━━━━━━━━━━━━━━━\u001b[0m \u001b[32m66.8/66.8 kB\u001b[0m \u001b[31m6.3 MB/s\u001b[0m eta \u001b[36m0:00:00\u001b[0m\n",
            "\u001b[?25hDownloading opencv_python_headless-4.10.0.84-cp37-abi3-manylinux_2_17_x86_64.manylinux2014_x86_64.whl (49.9 MB)\n",
            "\u001b[2K   \u001b[90m━━━━━━━━━━━━━━━━━━━━━━━━━━━━━━━━━━━━━━━━\u001b[0m \u001b[32m49.9/49.9 MB\u001b[0m \u001b[31m12.2 MB/s\u001b[0m eta \u001b[36m0:00:00\u001b[0m\n",
            "\u001b[?25hDownloading pillow_heif-0.22.0-cp311-cp311-manylinux_2_17_x86_64.manylinux2014_x86_64.whl (7.8 MB)\n",
            "\u001b[2K   \u001b[90m━━━━━━━━━━━━━━━━━━━━━━━━━━━━━━━━━━━━━━━━\u001b[0m \u001b[32m7.8/7.8 MB\u001b[0m \u001b[31m57.8 MB/s\u001b[0m eta \u001b[36m0:00:00\u001b[0m\n",
            "\u001b[?25hDownloading filetype-1.2.0-py2.py3-none-any.whl (19 kB)\n",
            "Downloading python_dotenv-1.1.0-py3-none-any.whl (20 kB)\n",
            "Installing collected packages: filetype, python-dotenv, pillow-heif, opencv-python-headless, idna, roboflow\n",
            "  Attempting uninstall: opencv-python-headless\n",
            "    Found existing installation: opencv-python-headless 4.11.0.86\n",
            "    Uninstalling opencv-python-headless-4.11.0.86:\n",
            "      Successfully uninstalled opencv-python-headless-4.11.0.86\n",
            "  Attempting uninstall: idna\n",
            "    Found existing installation: idna 3.10\n",
            "    Uninstalling idna-3.10:\n",
            "      Successfully uninstalled idna-3.10\n",
            "Successfully installed filetype-1.2.0 idna-3.7 opencv-python-headless-4.10.0.84 pillow-heif-0.22.0 python-dotenv-1.1.0 roboflow-1.1.65\n",
            "loading Roboflow workspace...\n",
            "loading Roboflow project...\n"
          ]
        },
        {
          "name": "stderr",
          "output_type": "stream",
          "text": [
            "Downloading Dataset Version Zip in Chess_Detection-1 to yolov11:: 100%|██████████| 3242/3242 [00:00<00:00, 9865.33it/s]"
          ]
        },
        {
          "name": "stdout",
          "output_type": "stream",
          "text": [
            "\n"
          ]
        },
        {
          "name": "stderr",
          "output_type": "stream",
          "text": [
            "\n",
            "Extracting Dataset Version Zip to Chess_Detection-1 in yolov11:: 100%|██████████| 132/132 [00:00<00:00, 7397.56it/s]\n"
          ]
        }
      ],
      "source": [
        "!pip install roboflow\n",
        "\n",
        "from roboflow import Roboflow\n",
        "rf = Roboflow(api_key=\"Rig4Wm7yMAhBIHmqxQIR\")\n",
        "project = rf.workspace(\"supermarketproductdetection\").project(\"chess_detection-uua6r\")\n",
        "version = project.version(1)\n",
        "dataset = version.download(\"yolov11\")"
      ]
    },
    {
      "cell_type": "code",
      "execution_count": 2,
      "metadata": {
        "colab": {
          "base_uri": "https://localhost:8080/"
        },
        "id": "yc0GJFLXb-HI",
        "outputId": "b3fa61ea-63d6-45fb-d919-c2427a1b5c96"
      },
      "outputs": [
        {
          "name": "stdout",
          "output_type": "stream",
          "text": [
            "Collecting ultralytics\n",
            "  Downloading ultralytics-8.3.150-py3-none-any.whl.metadata (37 kB)\n",
            "Requirement already satisfied: numpy>=1.23.0 in /usr/local/lib/python3.11/dist-packages (from ultralytics) (2.0.2)\n",
            "Requirement already satisfied: matplotlib>=3.3.0 in /usr/local/lib/python3.11/dist-packages (from ultralytics) (3.10.0)\n",
            "Requirement already satisfied: opencv-python>=4.6.0 in /usr/local/lib/python3.11/dist-packages (from ultralytics) (4.11.0.86)\n",
            "Requirement already satisfied: pillow>=7.1.2 in /usr/local/lib/python3.11/dist-packages (from ultralytics) (11.2.1)\n",
            "Requirement already satisfied: pyyaml>=5.3.1 in /usr/local/lib/python3.11/dist-packages (from ultralytics) (6.0.2)\n",
            "Requirement already satisfied: requests>=2.23.0 in /usr/local/lib/python3.11/dist-packages (from ultralytics) (2.32.3)\n",
            "Requirement already satisfied: scipy>=1.4.1 in /usr/local/lib/python3.11/dist-packages (from ultralytics) (1.15.3)\n",
            "Requirement already satisfied: torch>=1.8.0 in /usr/local/lib/python3.11/dist-packages (from ultralytics) (2.6.0+cu124)\n",
            "Requirement already satisfied: torchvision>=0.9.0 in /usr/local/lib/python3.11/dist-packages (from ultralytics) (0.21.0+cu124)\n",
            "Requirement already satisfied: tqdm>=4.64.0 in /usr/local/lib/python3.11/dist-packages (from ultralytics) (4.67.1)\n",
            "Requirement already satisfied: psutil in /usr/local/lib/python3.11/dist-packages (from ultralytics) (5.9.5)\n",
            "Requirement already satisfied: py-cpuinfo in /usr/local/lib/python3.11/dist-packages (from ultralytics) (9.0.0)\n",
            "Requirement already satisfied: pandas>=1.1.4 in /usr/local/lib/python3.11/dist-packages (from ultralytics) (2.2.2)\n",
            "Collecting ultralytics-thop>=2.0.0 (from ultralytics)\n",
            "  Downloading ultralytics_thop-2.0.14-py3-none-any.whl.metadata (9.4 kB)\n",
            "Requirement already satisfied: contourpy>=1.0.1 in /usr/local/lib/python3.11/dist-packages (from matplotlib>=3.3.0->ultralytics) (1.3.2)\n",
            "Requirement already satisfied: cycler>=0.10 in /usr/local/lib/python3.11/dist-packages (from matplotlib>=3.3.0->ultralytics) (0.12.1)\n",
            "Requirement already satisfied: fonttools>=4.22.0 in /usr/local/lib/python3.11/dist-packages (from matplotlib>=3.3.0->ultralytics) (4.58.1)\n",
            "Requirement already satisfied: kiwisolver>=1.3.1 in /usr/local/lib/python3.11/dist-packages (from matplotlib>=3.3.0->ultralytics) (1.4.8)\n",
            "Requirement already satisfied: packaging>=20.0 in /usr/local/lib/python3.11/dist-packages (from matplotlib>=3.3.0->ultralytics) (24.2)\n",
            "Requirement already satisfied: pyparsing>=2.3.1 in /usr/local/lib/python3.11/dist-packages (from matplotlib>=3.3.0->ultralytics) (3.2.3)\n",
            "Requirement already satisfied: python-dateutil>=2.7 in /usr/local/lib/python3.11/dist-packages (from matplotlib>=3.3.0->ultralytics) (2.9.0.post0)\n",
            "Requirement already satisfied: pytz>=2020.1 in /usr/local/lib/python3.11/dist-packages (from pandas>=1.1.4->ultralytics) (2025.2)\n",
            "Requirement already satisfied: tzdata>=2022.7 in /usr/local/lib/python3.11/dist-packages (from pandas>=1.1.4->ultralytics) (2025.2)\n",
            "Requirement already satisfied: charset-normalizer<4,>=2 in /usr/local/lib/python3.11/dist-packages (from requests>=2.23.0->ultralytics) (3.4.2)\n",
            "Requirement already satisfied: idna<4,>=2.5 in /usr/local/lib/python3.11/dist-packages (from requests>=2.23.0->ultralytics) (3.7)\n",
            "Requirement already satisfied: urllib3<3,>=1.21.1 in /usr/local/lib/python3.11/dist-packages (from requests>=2.23.0->ultralytics) (2.4.0)\n",
            "Requirement already satisfied: certifi>=2017.4.17 in /usr/local/lib/python3.11/dist-packages (from requests>=2.23.0->ultralytics) (2025.4.26)\n",
            "Requirement already satisfied: filelock in /usr/local/lib/python3.11/dist-packages (from torch>=1.8.0->ultralytics) (3.18.0)\n",
            "Requirement already satisfied: typing-extensions>=4.10.0 in /usr/local/lib/python3.11/dist-packages (from torch>=1.8.0->ultralytics) (4.13.2)\n",
            "Requirement already satisfied: networkx in /usr/local/lib/python3.11/dist-packages (from torch>=1.8.0->ultralytics) (3.5)\n",
            "Requirement already satisfied: jinja2 in /usr/local/lib/python3.11/dist-packages (from torch>=1.8.0->ultralytics) (3.1.6)\n",
            "Requirement already satisfied: fsspec in /usr/local/lib/python3.11/dist-packages (from torch>=1.8.0->ultralytics) (2025.3.2)\n",
            "Collecting nvidia-cuda-nvrtc-cu12==12.4.127 (from torch>=1.8.0->ultralytics)\n",
            "  Downloading nvidia_cuda_nvrtc_cu12-12.4.127-py3-none-manylinux2014_x86_64.whl.metadata (1.5 kB)\n",
            "Collecting nvidia-cuda-runtime-cu12==12.4.127 (from torch>=1.8.0->ultralytics)\n",
            "  Downloading nvidia_cuda_runtime_cu12-12.4.127-py3-none-manylinux2014_x86_64.whl.metadata (1.5 kB)\n",
            "Collecting nvidia-cuda-cupti-cu12==12.4.127 (from torch>=1.8.0->ultralytics)\n",
            "  Downloading nvidia_cuda_cupti_cu12-12.4.127-py3-none-manylinux2014_x86_64.whl.metadata (1.6 kB)\n",
            "Collecting nvidia-cudnn-cu12==9.1.0.70 (from torch>=1.8.0->ultralytics)\n",
            "  Downloading nvidia_cudnn_cu12-9.1.0.70-py3-none-manylinux2014_x86_64.whl.metadata (1.6 kB)\n",
            "Collecting nvidia-cublas-cu12==12.4.5.8 (from torch>=1.8.0->ultralytics)\n",
            "  Downloading nvidia_cublas_cu12-12.4.5.8-py3-none-manylinux2014_x86_64.whl.metadata (1.5 kB)\n",
            "Collecting nvidia-cufft-cu12==11.2.1.3 (from torch>=1.8.0->ultralytics)\n",
            "  Downloading nvidia_cufft_cu12-11.2.1.3-py3-none-manylinux2014_x86_64.whl.metadata (1.5 kB)\n",
            "Collecting nvidia-curand-cu12==10.3.5.147 (from torch>=1.8.0->ultralytics)\n",
            "  Downloading nvidia_curand_cu12-10.3.5.147-py3-none-manylinux2014_x86_64.whl.metadata (1.5 kB)\n",
            "Collecting nvidia-cusolver-cu12==11.6.1.9 (from torch>=1.8.0->ultralytics)\n",
            "  Downloading nvidia_cusolver_cu12-11.6.1.9-py3-none-manylinux2014_x86_64.whl.metadata (1.6 kB)\n",
            "Collecting nvidia-cusparse-cu12==12.3.1.170 (from torch>=1.8.0->ultralytics)\n",
            "  Downloading nvidia_cusparse_cu12-12.3.1.170-py3-none-manylinux2014_x86_64.whl.metadata (1.6 kB)\n",
            "Requirement already satisfied: nvidia-cusparselt-cu12==0.6.2 in /usr/local/lib/python3.11/dist-packages (from torch>=1.8.0->ultralytics) (0.6.2)\n",
            "Requirement already satisfied: nvidia-nccl-cu12==2.21.5 in /usr/local/lib/python3.11/dist-packages (from torch>=1.8.0->ultralytics) (2.21.5)\n",
            "Requirement already satisfied: nvidia-nvtx-cu12==12.4.127 in /usr/local/lib/python3.11/dist-packages (from torch>=1.8.0->ultralytics) (12.4.127)\n",
            "Collecting nvidia-nvjitlink-cu12==12.4.127 (from torch>=1.8.0->ultralytics)\n",
            "  Downloading nvidia_nvjitlink_cu12-12.4.127-py3-none-manylinux2014_x86_64.whl.metadata (1.5 kB)\n",
            "Requirement already satisfied: triton==3.2.0 in /usr/local/lib/python3.11/dist-packages (from torch>=1.8.0->ultralytics) (3.2.0)\n",
            "Requirement already satisfied: sympy==1.13.1 in /usr/local/lib/python3.11/dist-packages (from torch>=1.8.0->ultralytics) (1.13.1)\n",
            "Requirement already satisfied: mpmath<1.4,>=1.1.0 in /usr/local/lib/python3.11/dist-packages (from sympy==1.13.1->torch>=1.8.0->ultralytics) (1.3.0)\n",
            "Requirement already satisfied: six>=1.5 in /usr/local/lib/python3.11/dist-packages (from python-dateutil>=2.7->matplotlib>=3.3.0->ultralytics) (1.17.0)\n",
            "Requirement already satisfied: MarkupSafe>=2.0 in /usr/local/lib/python3.11/dist-packages (from jinja2->torch>=1.8.0->ultralytics) (3.0.2)\n",
            "Downloading ultralytics-8.3.150-py3-none-any.whl (1.0 MB)\n",
            "\u001b[2K   \u001b[90m━━━━━━━━━━━━━━━━━━━━━━━━━━━━━━━━━━━━━━━━\u001b[0m \u001b[32m1.0/1.0 MB\u001b[0m \u001b[31m29.4 MB/s\u001b[0m eta \u001b[36m0:00:00\u001b[0m\n",
            "\u001b[?25hDownloading nvidia_cublas_cu12-12.4.5.8-py3-none-manylinux2014_x86_64.whl (363.4 MB)\n",
            "\u001b[2K   \u001b[90m━━━━━━━━━━━━━━━━━━━━━━━━━━━━━━━━━━━━━━━━\u001b[0m \u001b[32m363.4/363.4 MB\u001b[0m \u001b[31m3.6 MB/s\u001b[0m eta \u001b[36m0:00:00\u001b[0m\n",
            "\u001b[?25hDownloading nvidia_cuda_cupti_cu12-12.4.127-py3-none-manylinux2014_x86_64.whl (13.8 MB)\n",
            "\u001b[2K   \u001b[90m━━━━━━━━━━━━━━━━━━━━━━━━━━━━━━━━━━━━━━━━\u001b[0m \u001b[32m13.8/13.8 MB\u001b[0m \u001b[31m82.0 MB/s\u001b[0m eta \u001b[36m0:00:00\u001b[0m\n",
            "\u001b[?25hDownloading nvidia_cuda_nvrtc_cu12-12.4.127-py3-none-manylinux2014_x86_64.whl (24.6 MB)\n",
            "\u001b[2K   \u001b[90m━━━━━━━━━━━━━━━━━━━━━━━━━━━━━━━━━━━━━━━━\u001b[0m \u001b[32m24.6/24.6 MB\u001b[0m \u001b[31m50.6 MB/s\u001b[0m eta \u001b[36m0:00:00\u001b[0m\n",
            "\u001b[?25hDownloading nvidia_cuda_runtime_cu12-12.4.127-py3-none-manylinux2014_x86_64.whl (883 kB)\n",
            "\u001b[2K   \u001b[90m━━━━━━━━━━━━━━━━━━━━━━━━━━━━━━━━━━━━━━━━\u001b[0m \u001b[32m883.7/883.7 kB\u001b[0m \u001b[31m27.0 MB/s\u001b[0m eta \u001b[36m0:00:00\u001b[0m\n",
            "\u001b[?25hDownloading nvidia_cudnn_cu12-9.1.0.70-py3-none-manylinux2014_x86_64.whl (664.8 MB)\n",
            "\u001b[2K   \u001b[90m━━━━━━━━━━━━━━━━━━━━━━━━━━━━━━━━━━━━━━━━\u001b[0m \u001b[32m664.8/664.8 MB\u001b[0m \u001b[31m2.6 MB/s\u001b[0m eta \u001b[36m0:00:00\u001b[0m\n",
            "\u001b[?25hDownloading nvidia_cufft_cu12-11.2.1.3-py3-none-manylinux2014_x86_64.whl (211.5 MB)\n",
            "\u001b[2K   \u001b[90m━━━━━━━━━━━━━━━━━━━━━━━━━━━━━━━━━━━━━━━━\u001b[0m \u001b[32m211.5/211.5 MB\u001b[0m \u001b[31m5.4 MB/s\u001b[0m eta \u001b[36m0:00:00\u001b[0m\n",
            "\u001b[?25hDownloading nvidia_curand_cu12-10.3.5.147-py3-none-manylinux2014_x86_64.whl (56.3 MB)\n",
            "\u001b[2K   \u001b[90m━━━━━━━━━━━━━━━━━━━━━━━━━━━━━━━━━━━━━━━━\u001b[0m \u001b[32m56.3/56.3 MB\u001b[0m \u001b[31m12.9 MB/s\u001b[0m eta \u001b[36m0:00:00\u001b[0m\n",
            "\u001b[?25hDownloading nvidia_cusolver_cu12-11.6.1.9-py3-none-manylinux2014_x86_64.whl (127.9 MB)\n",
            "\u001b[2K   \u001b[90m━━━━━━━━━━━━━━━━━━━━━━━━━━━━━━━━━━━━━━━━\u001b[0m \u001b[32m127.9/127.9 MB\u001b[0m \u001b[31m7.3 MB/s\u001b[0m eta \u001b[36m0:00:00\u001b[0m\n",
            "\u001b[?25hDownloading nvidia_cusparse_cu12-12.3.1.170-py3-none-manylinux2014_x86_64.whl (207.5 MB)\n",
            "\u001b[2K   \u001b[90m━━━━━━━━━━━━━━━━━━━━━━━━━━━━━━━━━━━━━━━━\u001b[0m \u001b[32m207.5/207.5 MB\u001b[0m \u001b[31m5.5 MB/s\u001b[0m eta \u001b[36m0:00:00\u001b[0m\n",
            "\u001b[?25hDownloading nvidia_nvjitlink_cu12-12.4.127-py3-none-manylinux2014_x86_64.whl (21.1 MB)\n",
            "\u001b[2K   \u001b[90m━━━━━━━━━━━━━━━━━━━━━━━━━━━━━━━━━━━━━━━━\u001b[0m \u001b[32m21.1/21.1 MB\u001b[0m \u001b[31m69.0 MB/s\u001b[0m eta \u001b[36m0:00:00\u001b[0m\n",
            "\u001b[?25hDownloading ultralytics_thop-2.0.14-py3-none-any.whl (26 kB)\n",
            "Installing collected packages: nvidia-nvjitlink-cu12, nvidia-curand-cu12, nvidia-cufft-cu12, nvidia-cuda-runtime-cu12, nvidia-cuda-nvrtc-cu12, nvidia-cuda-cupti-cu12, nvidia-cublas-cu12, nvidia-cusparse-cu12, nvidia-cudnn-cu12, nvidia-cusolver-cu12, ultralytics-thop, ultralytics\n",
            "  Attempting uninstall: nvidia-nvjitlink-cu12\n",
            "    Found existing installation: nvidia-nvjitlink-cu12 12.5.82\n",
            "    Uninstalling nvidia-nvjitlink-cu12-12.5.82:\n",
            "      Successfully uninstalled nvidia-nvjitlink-cu12-12.5.82\n",
            "  Attempting uninstall: nvidia-curand-cu12\n",
            "    Found existing installation: nvidia-curand-cu12 10.3.6.82\n",
            "    Uninstalling nvidia-curand-cu12-10.3.6.82:\n",
            "      Successfully uninstalled nvidia-curand-cu12-10.3.6.82\n",
            "  Attempting uninstall: nvidia-cufft-cu12\n",
            "    Found existing installation: nvidia-cufft-cu12 11.2.3.61\n",
            "    Uninstalling nvidia-cufft-cu12-11.2.3.61:\n",
            "      Successfully uninstalled nvidia-cufft-cu12-11.2.3.61\n",
            "  Attempting uninstall: nvidia-cuda-runtime-cu12\n",
            "    Found existing installation: nvidia-cuda-runtime-cu12 12.5.82\n",
            "    Uninstalling nvidia-cuda-runtime-cu12-12.5.82:\n",
            "      Successfully uninstalled nvidia-cuda-runtime-cu12-12.5.82\n",
            "  Attempting uninstall: nvidia-cuda-nvrtc-cu12\n",
            "    Found existing installation: nvidia-cuda-nvrtc-cu12 12.5.82\n",
            "    Uninstalling nvidia-cuda-nvrtc-cu12-12.5.82:\n",
            "      Successfully uninstalled nvidia-cuda-nvrtc-cu12-12.5.82\n",
            "  Attempting uninstall: nvidia-cuda-cupti-cu12\n",
            "    Found existing installation: nvidia-cuda-cupti-cu12 12.5.82\n",
            "    Uninstalling nvidia-cuda-cupti-cu12-12.5.82:\n",
            "      Successfully uninstalled nvidia-cuda-cupti-cu12-12.5.82\n",
            "  Attempting uninstall: nvidia-cublas-cu12\n",
            "    Found existing installation: nvidia-cublas-cu12 12.5.3.2\n",
            "    Uninstalling nvidia-cublas-cu12-12.5.3.2:\n",
            "      Successfully uninstalled nvidia-cublas-cu12-12.5.3.2\n",
            "  Attempting uninstall: nvidia-cusparse-cu12\n",
            "    Found existing installation: nvidia-cusparse-cu12 12.5.1.3\n",
            "    Uninstalling nvidia-cusparse-cu12-12.5.1.3:\n",
            "      Successfully uninstalled nvidia-cusparse-cu12-12.5.1.3\n",
            "  Attempting uninstall: nvidia-cudnn-cu12\n",
            "    Found existing installation: nvidia-cudnn-cu12 9.3.0.75\n",
            "    Uninstalling nvidia-cudnn-cu12-9.3.0.75:\n",
            "      Successfully uninstalled nvidia-cudnn-cu12-9.3.0.75\n",
            "  Attempting uninstall: nvidia-cusolver-cu12\n",
            "    Found existing installation: nvidia-cusolver-cu12 11.6.3.83\n",
            "    Uninstalling nvidia-cusolver-cu12-11.6.3.83:\n",
            "      Successfully uninstalled nvidia-cusolver-cu12-11.6.3.83\n",
            "Successfully installed nvidia-cublas-cu12-12.4.5.8 nvidia-cuda-cupti-cu12-12.4.127 nvidia-cuda-nvrtc-cu12-12.4.127 nvidia-cuda-runtime-cu12-12.4.127 nvidia-cudnn-cu12-9.1.0.70 nvidia-cufft-cu12-11.2.1.3 nvidia-curand-cu12-10.3.5.147 nvidia-cusolver-cu12-11.6.1.9 nvidia-cusparse-cu12-12.3.1.170 nvidia-nvjitlink-cu12-12.4.127 ultralytics-8.3.150 ultralytics-thop-2.0.14\n",
            "Creating new Ultralytics Settings v0.0.6 file ✅ \n",
            "View Ultralytics Settings with 'yolo settings' or at '/root/.config/Ultralytics/settings.json'\n",
            "Update Settings with 'yolo settings key=value', i.e. 'yolo settings runs_dir=path/to/dir'. For help see https://docs.ultralytics.com/quickstart/#ultralytics-settings.\n",
            "Downloading https://github.com/ultralytics/assets/releases/download/v8.3.0/yolo11n.pt to 'yolo11n.pt'...\n"
          ]
        },
        {
          "name": "stderr",
          "output_type": "stream",
          "text": [
            "100%|██████████| 5.35M/5.35M [00:00<00:00, 87.5MB/s]\n"
          ]
        },
        {
          "name": "stdout",
          "output_type": "stream",
          "text": [
            "Ultralytics 8.3.150 🚀 Python-3.11.13 torch-2.6.0+cu124 CUDA:0 (Tesla T4, 15095MiB)\n",
            "\u001b[34m\u001b[1mengine/trainer: \u001b[0magnostic_nms=False, amp=True, augment=False, auto_augment=randaugment, batch=16, bgr=0.0, box=7.5, cache=False, cfg=None, classes=None, close_mosaic=10, cls=0.5, conf=None, copy_paste=0.0, copy_paste_mode=flip, cos_lr=False, cutmix=0.0, data=/content/Chess_Detection-1/data.yaml, degrees=0.0, deterministic=True, device=None, dfl=1.5, dnn=False, dropout=0.0, dynamic=False, embed=None, epochs=100, erasing=0.4, exist_ok=False, fliplr=0.5, flipud=0.0, format=torchscript, fraction=1.0, freeze=None, half=False, hsv_h=0.015, hsv_s=0.7, hsv_v=0.4, imgsz=640, int8=False, iou=0.7, keras=False, kobj=1.0, line_width=None, lr0=0.01, lrf=0.01, mask_ratio=4, max_det=300, mixup=0.0, mode=train, model=yolo11n.pt, momentum=0.937, mosaic=1.0, multi_scale=False, name=train, nbs=64, nms=False, opset=None, optimize=False, optimizer=auto, overlap_mask=True, patience=100, perspective=0.0, plots=True, pose=12.0, pretrained=True, profile=False, project=None, rect=False, resume=False, retina_masks=False, save=True, save_conf=False, save_crop=False, save_dir=runs/detect/train, save_frames=False, save_json=False, save_period=-1, save_txt=False, scale=0.5, seed=0, shear=0.0, show=False, show_boxes=True, show_conf=True, show_labels=True, simplify=True, single_cls=False, source=None, split=val, stream_buffer=False, task=detect, time=None, tracker=botsort.yaml, translate=0.1, val=True, verbose=True, vid_stride=1, visualize=False, warmup_bias_lr=0.1, warmup_epochs=3.0, warmup_momentum=0.8, weight_decay=0.0005, workers=8, workspace=None\n",
            "Downloading https://ultralytics.com/assets/Arial.ttf to '/root/.config/Ultralytics/Arial.ttf'...\n"
          ]
        },
        {
          "name": "stderr",
          "output_type": "stream",
          "text": [
            "100%|██████████| 755k/755k [00:00<00:00, 17.7MB/s]"
          ]
        },
        {
          "name": "stdout",
          "output_type": "stream",
          "text": [
            "Overriding model.yaml nc=80 with nc=6\n",
            "\n",
            "                   from  n    params  module                                       arguments                     \n",
            "  0                  -1  1       464  ultralytics.nn.modules.conv.Conv             [3, 16, 3, 2]                 \n",
            "  1                  -1  1      4672  ultralytics.nn.modules.conv.Conv             [16, 32, 3, 2]                \n",
            "  2                  -1  1      6640  ultralytics.nn.modules.block.C3k2            [32, 64, 1, False, 0.25]      \n",
            "  3                  -1  1     36992  ultralytics.nn.modules.conv.Conv             [64, 64, 3, 2]                \n",
            "  4                  -1  1     26080  ultralytics.nn.modules.block.C3k2            [64, 128, 1, False, 0.25]     \n",
            "  5                  -1  1    147712  ultralytics.nn.modules.conv.Conv             [128, 128, 3, 2]              \n",
            "  6                  -1  1     87040  ultralytics.nn.modules.block.C3k2            [128, 128, 1, True]           \n",
            "  7                  -1  1    295424  ultralytics.nn.modules.conv.Conv             [128, 256, 3, 2]              \n",
            "  8                  -1  1    346112  ultralytics.nn.modules.block.C3k2            [256, 256, 1, True]           \n",
            "  9                  -1  1    164608  ultralytics.nn.modules.block.SPPF            [256, 256, 5]                 \n",
            " 10                  -1  1    249728  ultralytics.nn.modules.block.C2PSA           [256, 256, 1]                 \n",
            " 11                  -1  1         0  torch.nn.modules.upsampling.Upsample         [None, 2, 'nearest']          \n",
            " 12             [-1, 6]  1         0  ultralytics.nn.modules.conv.Concat           [1]                           \n",
            " 13                  -1  1    111296  ultralytics.nn.modules.block.C3k2            [384, 128, 1, False]          \n",
            " 14                  -1  1         0  torch.nn.modules.upsampling.Upsample         [None, 2, 'nearest']          \n",
            " 15             [-1, 4]  1         0  ultralytics.nn.modules.conv.Concat           [1]                           \n",
            " 16                  -1  1     32096  ultralytics.nn.modules.block.C3k2            [256, 64, 1, False]           \n",
            " 17                  -1  1     36992  ultralytics.nn.modules.conv.Conv             [64, 64, 3, 2]                \n",
            " 18            [-1, 13]  1         0  ultralytics.nn.modules.conv.Concat           [1]                           \n",
            " 19                  -1  1     86720  ultralytics.nn.modules.block.C3k2            [192, 128, 1, False]          \n",
            " 20                  -1  1    147712  ultralytics.nn.modules.conv.Conv             [128, 128, 3, 2]              \n",
            " 21            [-1, 10]  1         0  ultralytics.nn.modules.conv.Concat           [1]                           \n"
          ]
        },
        {
          "name": "stderr",
          "output_type": "stream",
          "text": [
            "\n"
          ]
        },
        {
          "name": "stdout",
          "output_type": "stream",
          "text": [
            " 22                  -1  1    378880  ultralytics.nn.modules.block.C3k2            [384, 256, 1, True]           \n",
            " 23        [16, 19, 22]  1    431842  ultralytics.nn.modules.head.Detect           [6, [64, 128, 256]]           \n",
            "YOLO11n summary: 181 layers, 2,591,010 parameters, 2,590,994 gradients, 6.4 GFLOPs\n",
            "\n",
            "Transferred 448/499 items from pretrained weights\n",
            "Freezing layer 'model.23.dfl.conv.weight'\n",
            "\u001b[34m\u001b[1mAMP: \u001b[0mrunning Automatic Mixed Precision (AMP) checks...\n",
            "\u001b[34m\u001b[1mAMP: \u001b[0mchecks passed ✅\n",
            "\u001b[34m\u001b[1mtrain: \u001b[0mFast image access ✅ (ping: 0.0±0.0 ms, read: 233.7±206.9 MB/s, size: 53.3 KB)\n"
          ]
        },
        {
          "name": "stderr",
          "output_type": "stream",
          "text": [
            "\u001b[34m\u001b[1mtrain: \u001b[0mScanning /content/Chess_Detection-1/train/labels... 54 images, 0 backgrounds, 0 corrupt: 100%|██████████| 54/54 [00:00<00:00, 1274.41it/s]"
          ]
        },
        {
          "name": "stdout",
          "output_type": "stream",
          "text": [
            "\u001b[34m\u001b[1mtrain: \u001b[0mNew cache created: /content/Chess_Detection-1/train/labels.cache\n"
          ]
        },
        {
          "name": "stderr",
          "output_type": "stream",
          "text": [
            "\n"
          ]
        },
        {
          "name": "stdout",
          "output_type": "stream",
          "text": [
            "\u001b[34m\u001b[1malbumentations: \u001b[0mBlur(p=0.01, blur_limit=(3, 7)), MedianBlur(p=0.01, blur_limit=(3, 7)), ToGray(p=0.01, method='weighted_average', num_output_channels=3), CLAHE(p=0.01, clip_limit=(1.0, 4.0), tile_grid_size=(8, 8))\n",
            "\u001b[34m\u001b[1mval: \u001b[0mFast image access ✅ (ping: 0.0±0.0 ms, read: 24.8±14.7 MB/s, size: 53.4 KB)\n"
          ]
        },
        {
          "name": "stderr",
          "output_type": "stream",
          "text": [
            "\u001b[34m\u001b[1mval: \u001b[0mScanning /content/Chess_Detection-1/valid/labels... 3 images, 0 backgrounds, 0 corrupt: 100%|██████████| 3/3 [00:00<00:00, 237.55it/s]"
          ]
        },
        {
          "name": "stdout",
          "output_type": "stream",
          "text": [
            "\u001b[34m\u001b[1mval: \u001b[0mNew cache created: /content/Chess_Detection-1/valid/labels.cache\n"
          ]
        },
        {
          "name": "stderr",
          "output_type": "stream",
          "text": [
            "\n"
          ]
        },
        {
          "name": "stdout",
          "output_type": "stream",
          "text": [
            "Plotting labels to runs/detect/train/labels.jpg... \n",
            "\u001b[34m\u001b[1moptimizer:\u001b[0m 'optimizer=auto' found, ignoring 'lr0=0.01' and 'momentum=0.937' and determining best 'optimizer', 'lr0' and 'momentum' automatically... \n",
            "\u001b[34m\u001b[1moptimizer:\u001b[0m AdamW(lr=0.001, momentum=0.9) with parameter groups 81 weight(decay=0.0), 88 weight(decay=0.0005), 87 bias(decay=0.0)\n",
            "Image sizes 640 train, 640 val\n",
            "Using 2 dataloader workers\n",
            "Logging results to \u001b[1mruns/detect/train\u001b[0m\n",
            "Starting training for 100 epochs...\n",
            "\n",
            "      Epoch    GPU_mem   box_loss   cls_loss   dfl_loss  Instances       Size\n"
          ]
        },
        {
          "name": "stderr",
          "output_type": "stream",
          "text": [
            "      1/100      2.47G      1.627      4.171      1.161        106        640: 100%|██████████| 4/4 [00:03<00:00,  1.27it/s]\n",
            "                 Class     Images  Instances      Box(P          R      mAP50  mAP50-95): 100%|██████████| 1/1 [00:01<00:00,  1.05s/it]"
          ]
        },
        {
          "name": "stdout",
          "output_type": "stream",
          "text": [
            "                   all          3         84          0          0          0          0\n"
          ]
        },
        {
          "name": "stderr",
          "output_type": "stream",
          "text": [
            "\n"
          ]
        },
        {
          "name": "stdout",
          "output_type": "stream",
          "text": [
            "\n",
            "      Epoch    GPU_mem   box_loss   cls_loss   dfl_loss  Instances       Size\n"
          ]
        },
        {
          "name": "stderr",
          "output_type": "stream",
          "text": [
            "      2/100      2.77G      1.369      4.121      1.075        117        640: 100%|██████████| 4/4 [00:01<00:00,  3.19it/s]\n",
            "                 Class     Images  Instances      Box(P          R      mAP50  mAP50-95): 100%|██████████| 1/1 [00:00<00:00, 11.19it/s]"
          ]
        },
        {
          "name": "stdout",
          "output_type": "stream",
          "text": [
            "                   all          3         84          0          0          0          0\n"
          ]
        },
        {
          "name": "stderr",
          "output_type": "stream",
          "text": [
            "\n"
          ]
        },
        {
          "name": "stdout",
          "output_type": "stream",
          "text": [
            "\n",
            "      Epoch    GPU_mem   box_loss   cls_loss   dfl_loss  Instances       Size\n"
          ]
        },
        {
          "name": "stderr",
          "output_type": "stream",
          "text": [
            "      3/100      2.96G      0.789      3.877     0.9016        178        640: 100%|██████████| 4/4 [00:01<00:00,  2.85it/s]\n",
            "                 Class     Images  Instances      Box(P          R      mAP50  mAP50-95): 100%|██████████| 1/1 [00:00<00:00, 19.28it/s]"
          ]
        },
        {
          "name": "stdout",
          "output_type": "stream",
          "text": [
            "                   all          3         84     0.0855       0.51      0.217      0.166\n"
          ]
        },
        {
          "name": "stderr",
          "output_type": "stream",
          "text": [
            "\n"
          ]
        },
        {
          "name": "stdout",
          "output_type": "stream",
          "text": [
            "\n",
            "      Epoch    GPU_mem   box_loss   cls_loss   dfl_loss  Instances       Size\n"
          ]
        },
        {
          "name": "stderr",
          "output_type": "stream",
          "text": [
            "      4/100      3.16G     0.6185      3.577     0.8406         82        640: 100%|██████████| 4/4 [00:00<00:00,  4.22it/s]\n",
            "                 Class     Images  Instances      Box(P          R      mAP50  mAP50-95): 100%|██████████| 1/1 [00:00<00:00, 19.39it/s]"
          ]
        },
        {
          "name": "stdout",
          "output_type": "stream",
          "text": [
            "                   all          3         84     0.0731      0.798      0.254      0.187\n"
          ]
        },
        {
          "name": "stderr",
          "output_type": "stream",
          "text": [
            "\n"
          ]
        },
        {
          "name": "stdout",
          "output_type": "stream",
          "text": [
            "\n",
            "      Epoch    GPU_mem   box_loss   cls_loss   dfl_loss  Instances       Size\n"
          ]
        },
        {
          "name": "stderr",
          "output_type": "stream",
          "text": [
            "      5/100      3.19G     0.6661      3.498     0.8362        172        640: 100%|██████████| 4/4 [00:00<00:00,  4.79it/s]\n",
            "                 Class     Images  Instances      Box(P          R      mAP50  mAP50-95): 100%|██████████| 1/1 [00:00<00:00, 10.32it/s]"
          ]
        },
        {
          "name": "stdout",
          "output_type": "stream",
          "text": [
            "                   all          3         84     0.0779      0.833      0.253      0.164\n"
          ]
        },
        {
          "name": "stderr",
          "output_type": "stream",
          "text": [
            "\n"
          ]
        },
        {
          "name": "stdout",
          "output_type": "stream",
          "text": [
            "\n",
            "      Epoch    GPU_mem   box_loss   cls_loss   dfl_loss  Instances       Size\n"
          ]
        },
        {
          "name": "stderr",
          "output_type": "stream",
          "text": [
            "      6/100       3.2G     0.5789       3.34     0.8254        139        640: 100%|██████████| 4/4 [00:00<00:00,  4.75it/s]\n",
            "                 Class     Images  Instances      Box(P          R      mAP50  mAP50-95): 100%|██████████| 1/1 [00:00<00:00, 11.06it/s]"
          ]
        },
        {
          "name": "stdout",
          "output_type": "stream",
          "text": [
            "                   all          3         84     0.0696      0.821      0.253      0.168\n"
          ]
        },
        {
          "name": "stderr",
          "output_type": "stream",
          "text": [
            "\n"
          ]
        },
        {
          "name": "stdout",
          "output_type": "stream",
          "text": [
            "\n",
            "      Epoch    GPU_mem   box_loss   cls_loss   dfl_loss  Instances       Size\n"
          ]
        },
        {
          "name": "stderr",
          "output_type": "stream",
          "text": [
            "      7/100      3.21G      0.584      3.128     0.8254         88        640: 100%|██████████| 4/4 [00:00<00:00,  4.43it/s]\n",
            "                 Class     Images  Instances      Box(P          R      mAP50  mAP50-95): 100%|██████████| 1/1 [00:00<00:00, 17.36it/s]"
          ]
        },
        {
          "name": "stdout",
          "output_type": "stream",
          "text": [
            "                   all          3         84      0.076      0.863      0.274      0.214\n"
          ]
        },
        {
          "name": "stderr",
          "output_type": "stream",
          "text": [
            "\n"
          ]
        },
        {
          "name": "stdout",
          "output_type": "stream",
          "text": [
            "\n",
            "      Epoch    GPU_mem   box_loss   cls_loss   dfl_loss  Instances       Size\n"
          ]
        },
        {
          "name": "stderr",
          "output_type": "stream",
          "text": [
            "      8/100      3.23G     0.5698      2.983     0.8275        113        640: 100%|██████████| 4/4 [00:00<00:00,  4.46it/s]\n",
            "                 Class     Images  Instances      Box(P          R      mAP50  mAP50-95): 100%|██████████| 1/1 [00:00<00:00, 18.74it/s]"
          ]
        },
        {
          "name": "stdout",
          "output_type": "stream",
          "text": [
            "                   all          3         84     0.0816      0.867      0.306      0.217\n"
          ]
        },
        {
          "name": "stderr",
          "output_type": "stream",
          "text": [
            "\n"
          ]
        },
        {
          "name": "stdout",
          "output_type": "stream",
          "text": [
            "\n",
            "      Epoch    GPU_mem   box_loss   cls_loss   dfl_loss  Instances       Size\n"
          ]
        },
        {
          "name": "stderr",
          "output_type": "stream",
          "text": [
            "      9/100      3.24G     0.5786      2.861     0.8282         99        640: 100%|██████████| 4/4 [00:00<00:00,  4.53it/s]\n",
            "                 Class     Images  Instances      Box(P          R      mAP50  mAP50-95): 100%|██████████| 1/1 [00:00<00:00, 15.51it/s]"
          ]
        },
        {
          "name": "stdout",
          "output_type": "stream",
          "text": [
            "                   all          3         84     0.0855      0.879      0.362      0.289\n"
          ]
        },
        {
          "name": "stderr",
          "output_type": "stream",
          "text": [
            "\n"
          ]
        },
        {
          "name": "stdout",
          "output_type": "stream",
          "text": [
            "\n",
            "      Epoch    GPU_mem   box_loss   cls_loss   dfl_loss  Instances       Size\n"
          ]
        },
        {
          "name": "stderr",
          "output_type": "stream",
          "text": [
            "     10/100      3.26G      0.582      2.711     0.8299        128        640: 100%|██████████| 4/4 [00:01<00:00,  3.42it/s]\n",
            "                 Class     Images  Instances      Box(P          R      mAP50  mAP50-95): 100%|██████████| 1/1 [00:00<00:00,  6.72it/s]"
          ]
        },
        {
          "name": "stdout",
          "output_type": "stream",
          "text": [
            "                   all          3         84     0.0751      0.849      0.401      0.295\n"
          ]
        },
        {
          "name": "stderr",
          "output_type": "stream",
          "text": [
            "\n"
          ]
        },
        {
          "name": "stdout",
          "output_type": "stream",
          "text": [
            "\n",
            "      Epoch    GPU_mem   box_loss   cls_loss   dfl_loss  Instances       Size\n"
          ]
        },
        {
          "name": "stderr",
          "output_type": "stream",
          "text": [
            "     11/100      3.27G     0.5411      2.394     0.8433         73        640: 100%|██████████| 4/4 [00:01<00:00,  2.71it/s]\n",
            "                 Class     Images  Instances      Box(P          R      mAP50  mAP50-95): 100%|██████████| 1/1 [00:00<00:00,  5.67it/s]"
          ]
        },
        {
          "name": "stdout",
          "output_type": "stream",
          "text": [
            "                   all          3         84     0.0767       0.79      0.468      0.344\n"
          ]
        },
        {
          "name": "stderr",
          "output_type": "stream",
          "text": [
            "\n"
          ]
        },
        {
          "name": "stdout",
          "output_type": "stream",
          "text": [
            "\n",
            "      Epoch    GPU_mem   box_loss   cls_loss   dfl_loss  Instances       Size\n"
          ]
        },
        {
          "name": "stderr",
          "output_type": "stream",
          "text": [
            "     12/100      3.29G      0.589      2.149     0.8298        103        640: 100%|██████████| 4/4 [00:01<00:00,  2.79it/s]\n",
            "                 Class     Images  Instances      Box(P          R      mAP50  mAP50-95): 100%|██████████| 1/1 [00:00<00:00, 12.43it/s]"
          ]
        },
        {
          "name": "stdout",
          "output_type": "stream",
          "text": [
            "                   all          3         84     0.0584      0.673      0.412      0.317\n"
          ]
        },
        {
          "name": "stderr",
          "output_type": "stream",
          "text": [
            "\n"
          ]
        },
        {
          "name": "stdout",
          "output_type": "stream",
          "text": [
            "\n",
            "      Epoch    GPU_mem   box_loss   cls_loss   dfl_loss  Instances       Size\n"
          ]
        },
        {
          "name": "stderr",
          "output_type": "stream",
          "text": [
            "     13/100       3.3G     0.5748      2.085     0.8245        167        640: 100%|██████████| 4/4 [00:00<00:00,  4.71it/s]\n",
            "                 Class     Images  Instances      Box(P          R      mAP50  mAP50-95): 100%|██████████| 1/1 [00:00<00:00, 18.90it/s]"
          ]
        },
        {
          "name": "stdout",
          "output_type": "stream",
          "text": [
            "                   all          3         84     0.0461      0.556       0.38      0.273\n"
          ]
        },
        {
          "name": "stderr",
          "output_type": "stream",
          "text": [
            "\n"
          ]
        },
        {
          "name": "stdout",
          "output_type": "stream",
          "text": [
            "\n",
            "      Epoch    GPU_mem   box_loss   cls_loss   dfl_loss  Instances       Size\n"
          ]
        },
        {
          "name": "stderr",
          "output_type": "stream",
          "text": [
            "     14/100      3.32G     0.5633      1.709     0.8305        153        640: 100%|██████████| 4/4 [00:00<00:00,  4.98it/s]\n",
            "                 Class     Images  Instances      Box(P          R      mAP50  mAP50-95): 100%|██████████| 1/1 [00:00<00:00, 19.59it/s]"
          ]
        },
        {
          "name": "stdout",
          "output_type": "stream",
          "text": [
            "                   all          3         84     0.0452      0.583      0.332      0.234\n"
          ]
        },
        {
          "name": "stderr",
          "output_type": "stream",
          "text": [
            "\n"
          ]
        },
        {
          "name": "stdout",
          "output_type": "stream",
          "text": [
            "\n",
            "      Epoch    GPU_mem   box_loss   cls_loss   dfl_loss  Instances       Size\n"
          ]
        },
        {
          "name": "stderr",
          "output_type": "stream",
          "text": [
            "     15/100      3.33G      0.645      1.768      0.822        248        640: 100%|██████████| 4/4 [00:00<00:00,  4.53it/s]\n",
            "                 Class     Images  Instances      Box(P          R      mAP50  mAP50-95): 100%|██████████| 1/1 [00:00<00:00, 10.48it/s]"
          ]
        },
        {
          "name": "stdout",
          "output_type": "stream",
          "text": [
            "                   all          3         84     0.0428      0.625       0.37      0.299\n"
          ]
        },
        {
          "name": "stderr",
          "output_type": "stream",
          "text": [
            "\n"
          ]
        },
        {
          "name": "stdout",
          "output_type": "stream",
          "text": [
            "\n",
            "      Epoch    GPU_mem   box_loss   cls_loss   dfl_loss  Instances       Size\n"
          ]
        },
        {
          "name": "stderr",
          "output_type": "stream",
          "text": [
            "     16/100      3.35G     0.6402      1.846     0.8308         65        640: 100%|██████████| 4/4 [00:00<00:00,  4.44it/s]\n",
            "                 Class     Images  Instances      Box(P          R      mAP50  mAP50-95): 100%|██████████| 1/1 [00:00<00:00, 17.85it/s]"
          ]
        },
        {
          "name": "stdout",
          "output_type": "stream",
          "text": [
            "                   all          3         84     0.0423      0.667      0.358      0.291\n"
          ]
        },
        {
          "name": "stderr",
          "output_type": "stream",
          "text": [
            "\n"
          ]
        },
        {
          "name": "stdout",
          "output_type": "stream",
          "text": [
            "\n",
            "      Epoch    GPU_mem   box_loss   cls_loss   dfl_loss  Instances       Size\n"
          ]
        },
        {
          "name": "stderr",
          "output_type": "stream",
          "text": [
            "     17/100      3.36G     0.5693      1.478     0.8275        114        640: 100%|██████████| 4/4 [00:00<00:00,  4.57it/s]\n",
            "                 Class     Images  Instances      Box(P          R      mAP50  mAP50-95): 100%|██████████| 1/1 [00:00<00:00, 14.15it/s]"
          ]
        },
        {
          "name": "stdout",
          "output_type": "stream",
          "text": [
            "                   all          3         84     0.0461      0.708      0.565      0.464\n"
          ]
        },
        {
          "name": "stderr",
          "output_type": "stream",
          "text": [
            "\n"
          ]
        },
        {
          "name": "stdout",
          "output_type": "stream",
          "text": [
            "\n",
            "      Epoch    GPU_mem   box_loss   cls_loss   dfl_loss  Instances       Size\n"
          ]
        },
        {
          "name": "stderr",
          "output_type": "stream",
          "text": [
            "     18/100      3.38G      0.557      1.507     0.8219        137        640: 100%|██████████| 4/4 [00:00<00:00,  4.47it/s]\n",
            "                 Class     Images  Instances      Box(P          R      mAP50  mAP50-95): 100%|██████████| 1/1 [00:00<00:00, 17.86it/s]"
          ]
        },
        {
          "name": "stdout",
          "output_type": "stream",
          "text": [
            "                   all          3         84      0.978      0.319      0.675      0.587\n"
          ]
        },
        {
          "name": "stderr",
          "output_type": "stream",
          "text": [
            "\n"
          ]
        },
        {
          "name": "stdout",
          "output_type": "stream",
          "text": [
            "\n",
            "      Epoch    GPU_mem   box_loss   cls_loss   dfl_loss  Instances       Size\n"
          ]
        },
        {
          "name": "stderr",
          "output_type": "stream",
          "text": [
            "     19/100      3.39G     0.5668      1.416     0.8256        141        640: 100%|██████████| 4/4 [00:00<00:00,  4.47it/s]\n",
            "                 Class     Images  Instances      Box(P          R      mAP50  mAP50-95): 100%|██████████| 1/1 [00:00<00:00, 18.94it/s]"
          ]
        },
        {
          "name": "stdout",
          "output_type": "stream",
          "text": [
            "                   all          3         84      0.997      0.264      0.711      0.614\n"
          ]
        },
        {
          "name": "stderr",
          "output_type": "stream",
          "text": [
            "\n"
          ]
        },
        {
          "name": "stdout",
          "output_type": "stream",
          "text": [
            "\n",
            "      Epoch    GPU_mem   box_loss   cls_loss   dfl_loss  Instances       Size\n"
          ]
        },
        {
          "name": "stderr",
          "output_type": "stream",
          "text": [
            "     20/100      3.66G     0.5205      1.284     0.8091        107        640: 100%|██████████| 4/4 [00:00<00:00,  4.67it/s]\n",
            "                 Class     Images  Instances      Box(P          R      mAP50  mAP50-95): 100%|██████████| 1/1 [00:00<00:00, 18.02it/s]"
          ]
        },
        {
          "name": "stdout",
          "output_type": "stream",
          "text": [
            "                   all          3         84      0.997      0.319      0.696      0.596\n"
          ]
        },
        {
          "name": "stderr",
          "output_type": "stream",
          "text": [
            "\n"
          ]
        },
        {
          "name": "stdout",
          "output_type": "stream",
          "text": [
            "\n",
            "      Epoch    GPU_mem   box_loss   cls_loss   dfl_loss  Instances       Size\n"
          ]
        },
        {
          "name": "stderr",
          "output_type": "stream",
          "text": [
            "     21/100      3.68G      0.576      1.398     0.8398        112        640: 100%|██████████| 4/4 [00:01<00:00,  2.90it/s]\n",
            "                 Class     Images  Instances      Box(P          R      mAP50  mAP50-95): 100%|██████████| 1/1 [00:00<00:00, 12.32it/s]"
          ]
        },
        {
          "name": "stdout",
          "output_type": "stream",
          "text": [
            "                   all          3         84      0.997      0.218      0.626      0.542\n"
          ]
        },
        {
          "name": "stderr",
          "output_type": "stream",
          "text": [
            "\n"
          ]
        },
        {
          "name": "stdout",
          "output_type": "stream",
          "text": [
            "\n",
            "      Epoch    GPU_mem   box_loss   cls_loss   dfl_loss  Instances       Size\n"
          ]
        },
        {
          "name": "stderr",
          "output_type": "stream",
          "text": [
            "     22/100       3.7G     0.4683      1.143     0.7989        112        640: 100%|██████████| 4/4 [00:01<00:00,  3.59it/s]\n",
            "                 Class     Images  Instances      Box(P          R      mAP50  mAP50-95): 100%|██████████| 1/1 [00:00<00:00, 19.65it/s]"
          ]
        },
        {
          "name": "stdout",
          "output_type": "stream",
          "text": [
            "                   all          3         84      0.998      0.214      0.616      0.541\n"
          ]
        },
        {
          "name": "stderr",
          "output_type": "stream",
          "text": [
            "\n"
          ]
        },
        {
          "name": "stdout",
          "output_type": "stream",
          "text": [
            "\n",
            "      Epoch    GPU_mem   box_loss   cls_loss   dfl_loss  Instances       Size\n"
          ]
        },
        {
          "name": "stderr",
          "output_type": "stream",
          "text": [
            "     23/100      3.71G     0.5068       1.21     0.8145        249        640: 100%|██████████| 4/4 [00:00<00:00,  4.66it/s]\n",
            "                 Class     Images  Instances      Box(P          R      mAP50  mAP50-95): 100%|██████████| 1/1 [00:00<00:00, 18.78it/s]"
          ]
        },
        {
          "name": "stdout",
          "output_type": "stream",
          "text": [
            "                   all          3         84          1      0.179      0.661      0.585\n"
          ]
        },
        {
          "name": "stderr",
          "output_type": "stream",
          "text": [
            "\n"
          ]
        },
        {
          "name": "stdout",
          "output_type": "stream",
          "text": [
            "\n",
            "      Epoch    GPU_mem   box_loss   cls_loss   dfl_loss  Instances       Size\n"
          ]
        },
        {
          "name": "stderr",
          "output_type": "stream",
          "text": [
            "     24/100      3.72G     0.4745      1.091      0.814        136        640: 100%|██████████| 4/4 [00:00<00:00,  4.58it/s]\n",
            "                 Class     Images  Instances      Box(P          R      mAP50  mAP50-95): 100%|██████████| 1/1 [00:00<00:00, 19.01it/s]"
          ]
        },
        {
          "name": "stdout",
          "output_type": "stream",
          "text": [
            "                   all          3         84      0.995      0.216      0.733      0.666\n"
          ]
        },
        {
          "name": "stderr",
          "output_type": "stream",
          "text": [
            "\n"
          ]
        },
        {
          "name": "stdout",
          "output_type": "stream",
          "text": [
            "\n",
            "      Epoch    GPU_mem   box_loss   cls_loss   dfl_loss  Instances       Size\n"
          ]
        },
        {
          "name": "stderr",
          "output_type": "stream",
          "text": [
            "     25/100      3.74G     0.4581      1.081     0.7997        174        640: 100%|██████████| 4/4 [00:00<00:00,  4.57it/s]\n",
            "                 Class     Images  Instances      Box(P          R      mAP50  mAP50-95): 100%|██████████| 1/1 [00:00<00:00, 17.58it/s]"
          ]
        },
        {
          "name": "stdout",
          "output_type": "stream",
          "text": [
            "                   all          3         84      0.985       0.47      0.906      0.825\n"
          ]
        },
        {
          "name": "stderr",
          "output_type": "stream",
          "text": [
            "\n"
          ]
        },
        {
          "name": "stdout",
          "output_type": "stream",
          "text": [
            "\n",
            "      Epoch    GPU_mem   box_loss   cls_loss   dfl_loss  Instances       Size\n"
          ]
        },
        {
          "name": "stderr",
          "output_type": "stream",
          "text": [
            "     26/100      3.75G     0.4624      1.062      0.814        129        640: 100%|██████████| 4/4 [00:00<00:00,  4.75it/s]\n",
            "                 Class     Images  Instances      Box(P          R      mAP50  mAP50-95): 100%|██████████| 1/1 [00:00<00:00, 12.92it/s]"
          ]
        },
        {
          "name": "stdout",
          "output_type": "stream",
          "text": [
            "                   all          3         84      0.976      0.592       0.98      0.915\n"
          ]
        },
        {
          "name": "stderr",
          "output_type": "stream",
          "text": [
            "\n"
          ]
        },
        {
          "name": "stdout",
          "output_type": "stream",
          "text": [
            "\n",
            "      Epoch    GPU_mem   box_loss   cls_loss   dfl_loss  Instances       Size\n"
          ]
        },
        {
          "name": "stderr",
          "output_type": "stream",
          "text": [
            "     27/100      3.77G     0.4583      1.119      0.821         97        640: 100%|██████████| 4/4 [00:00<00:00,  4.53it/s]\n",
            "                 Class     Images  Instances      Box(P          R      mAP50  mAP50-95): 100%|██████████| 1/1 [00:00<00:00, 18.82it/s]"
          ]
        },
        {
          "name": "stdout",
          "output_type": "stream",
          "text": [
            "                   all          3         84      0.955      0.762      0.994      0.923\n"
          ]
        },
        {
          "name": "stderr",
          "output_type": "stream",
          "text": [
            "\n"
          ]
        },
        {
          "name": "stdout",
          "output_type": "stream",
          "text": [
            "\n",
            "      Epoch    GPU_mem   box_loss   cls_loss   dfl_loss  Instances       Size\n"
          ]
        },
        {
          "name": "stderr",
          "output_type": "stream",
          "text": [
            "     28/100      3.78G     0.4308      1.029      0.821        112        640: 100%|██████████| 4/4 [00:00<00:00,  4.85it/s]\n",
            "                 Class     Images  Instances      Box(P          R      mAP50  mAP50-95): 100%|██████████| 1/1 [00:00<00:00, 13.77it/s]"
          ]
        },
        {
          "name": "stdout",
          "output_type": "stream",
          "text": [
            "                   all          3         84      0.952       0.59      0.993       0.94\n"
          ]
        },
        {
          "name": "stderr",
          "output_type": "stream",
          "text": [
            "\n"
          ]
        },
        {
          "name": "stdout",
          "output_type": "stream",
          "text": [
            "\n",
            "      Epoch    GPU_mem   box_loss   cls_loss   dfl_loss  Instances       Size\n"
          ]
        },
        {
          "name": "stderr",
          "output_type": "stream",
          "text": [
            "     29/100       3.8G     0.4333      1.042     0.8006         88        640: 100%|██████████| 4/4 [00:00<00:00,  4.91it/s]\n",
            "                 Class     Images  Instances      Box(P          R      mAP50  mAP50-95): 100%|██████████| 1/1 [00:00<00:00, 11.16it/s]"
          ]
        },
        {
          "name": "stdout",
          "output_type": "stream",
          "text": [
            "                   all          3         84      0.922      0.439      0.977      0.939\n"
          ]
        },
        {
          "name": "stderr",
          "output_type": "stream",
          "text": [
            "\n"
          ]
        },
        {
          "name": "stdout",
          "output_type": "stream",
          "text": [
            "\n",
            "      Epoch    GPU_mem   box_loss   cls_loss   dfl_loss  Instances       Size\n"
          ]
        },
        {
          "name": "stderr",
          "output_type": "stream",
          "text": [
            "     30/100      3.81G     0.4385     0.9776     0.8172        158        640: 100%|██████████| 4/4 [00:01<00:00,  3.38it/s]\n",
            "                 Class     Images  Instances      Box(P          R      mAP50  mAP50-95): 100%|██████████| 1/1 [00:00<00:00, 10.90it/s]"
          ]
        },
        {
          "name": "stdout",
          "output_type": "stream",
          "text": [
            "                   all          3         84      0.924        0.4      0.965       0.92\n"
          ]
        },
        {
          "name": "stderr",
          "output_type": "stream",
          "text": [
            "\n"
          ]
        },
        {
          "name": "stdout",
          "output_type": "stream",
          "text": [
            "\n",
            "      Epoch    GPU_mem   box_loss   cls_loss   dfl_loss  Instances       Size\n"
          ]
        },
        {
          "name": "stderr",
          "output_type": "stream",
          "text": [
            "     31/100      3.83G     0.4235     0.9785     0.7908        121        640: 100%|██████████| 4/4 [00:01<00:00,  2.98it/s]\n",
            "                 Class     Images  Instances      Box(P          R      mAP50  mAP50-95): 100%|██████████| 1/1 [00:00<00:00, 13.85it/s]"
          ]
        },
        {
          "name": "stdout",
          "output_type": "stream",
          "text": [
            "                   all          3         84      0.947      0.738       0.99       0.94\n"
          ]
        },
        {
          "name": "stderr",
          "output_type": "stream",
          "text": [
            "\n"
          ]
        },
        {
          "name": "stdout",
          "output_type": "stream",
          "text": [
            "\n",
            "      Epoch    GPU_mem   box_loss   cls_loss   dfl_loss  Instances       Size\n"
          ]
        },
        {
          "name": "stderr",
          "output_type": "stream",
          "text": [
            "     32/100      3.84G     0.3872      1.017     0.7959        149        640: 100%|██████████| 4/4 [00:00<00:00,  4.59it/s]\n",
            "                 Class     Images  Instances      Box(P          R      mAP50  mAP50-95): 100%|██████████| 1/1 [00:00<00:00, 15.06it/s]"
          ]
        },
        {
          "name": "stdout",
          "output_type": "stream",
          "text": [
            "                   all          3         84      0.936      0.855      0.994      0.948\n"
          ]
        },
        {
          "name": "stderr",
          "output_type": "stream",
          "text": [
            "\n"
          ]
        },
        {
          "name": "stdout",
          "output_type": "stream",
          "text": [
            "\n",
            "      Epoch    GPU_mem   box_loss   cls_loss   dfl_loss  Instances       Size\n"
          ]
        },
        {
          "name": "stderr",
          "output_type": "stream",
          "text": [
            "     33/100      3.86G     0.4172     0.9848     0.8077        151        640: 100%|██████████| 4/4 [00:00<00:00,  4.61it/s]\n",
            "                 Class     Images  Instances      Box(P          R      mAP50  mAP50-95): 100%|██████████| 1/1 [00:00<00:00, 12.72it/s]"
          ]
        },
        {
          "name": "stdout",
          "output_type": "stream",
          "text": [
            "                   all          3         84      0.927      0.917      0.994      0.946\n"
          ]
        },
        {
          "name": "stderr",
          "output_type": "stream",
          "text": [
            "\n"
          ]
        },
        {
          "name": "stdout",
          "output_type": "stream",
          "text": [
            "\n",
            "      Epoch    GPU_mem   box_loss   cls_loss   dfl_loss  Instances       Size\n"
          ]
        },
        {
          "name": "stderr",
          "output_type": "stream",
          "text": [
            "     34/100      3.87G     0.4242     0.9054     0.8058        186        640: 100%|██████████| 4/4 [00:00<00:00,  4.67it/s]\n",
            "                 Class     Images  Instances      Box(P          R      mAP50  mAP50-95): 100%|██████████| 1/1 [00:00<00:00, 16.59it/s]"
          ]
        },
        {
          "name": "stdout",
          "output_type": "stream",
          "text": [
            "                   all          3         84      0.912      0.919      0.988      0.927\n"
          ]
        },
        {
          "name": "stderr",
          "output_type": "stream",
          "text": [
            "\n"
          ]
        },
        {
          "name": "stdout",
          "output_type": "stream",
          "text": [
            "\n",
            "      Epoch    GPU_mem   box_loss   cls_loss   dfl_loss  Instances       Size\n"
          ]
        },
        {
          "name": "stderr",
          "output_type": "stream",
          "text": [
            "     35/100      3.88G     0.3869     0.8591     0.7996        188        640: 100%|██████████| 4/4 [00:00<00:00,  4.28it/s]\n",
            "                 Class     Images  Instances      Box(P          R      mAP50  mAP50-95): 100%|██████████| 1/1 [00:00<00:00, 17.34it/s]"
          ]
        },
        {
          "name": "stdout",
          "output_type": "stream",
          "text": [
            "                   all          3         84      0.925      0.923      0.993      0.924\n"
          ]
        },
        {
          "name": "stderr",
          "output_type": "stream",
          "text": [
            "\n"
          ]
        },
        {
          "name": "stdout",
          "output_type": "stream",
          "text": [
            "\n",
            "      Epoch    GPU_mem   box_loss   cls_loss   dfl_loss  Instances       Size\n"
          ]
        },
        {
          "name": "stderr",
          "output_type": "stream",
          "text": [
            "     36/100       3.9G     0.3849     0.9744     0.8012        228        640: 100%|██████████| 4/4 [00:00<00:00,  4.64it/s]\n",
            "                 Class     Images  Instances      Box(P          R      mAP50  mAP50-95): 100%|██████████| 1/1 [00:00<00:00, 18.72it/s]"
          ]
        },
        {
          "name": "stdout",
          "output_type": "stream",
          "text": [
            "                   all          3         84      0.916      0.926      0.994      0.929\n"
          ]
        },
        {
          "name": "stderr",
          "output_type": "stream",
          "text": [
            "\n"
          ]
        },
        {
          "name": "stdout",
          "output_type": "stream",
          "text": [
            "\n",
            "      Epoch    GPU_mem   box_loss   cls_loss   dfl_loss  Instances       Size\n"
          ]
        },
        {
          "name": "stderr",
          "output_type": "stream",
          "text": [
            "     37/100      3.91G     0.3652     0.8572     0.7919         89        640: 100%|██████████| 4/4 [00:00<00:00,  4.65it/s]\n",
            "                 Class     Images  Instances      Box(P          R      mAP50  mAP50-95): 100%|██████████| 1/1 [00:00<00:00, 18.08it/s]"
          ]
        },
        {
          "name": "stdout",
          "output_type": "stream",
          "text": [
            "                   all          3         84      0.914      0.921      0.994      0.933\n"
          ]
        },
        {
          "name": "stderr",
          "output_type": "stream",
          "text": [
            "\n"
          ]
        },
        {
          "name": "stdout",
          "output_type": "stream",
          "text": [
            "\n",
            "      Epoch    GPU_mem   box_loss   cls_loss   dfl_loss  Instances       Size\n"
          ]
        },
        {
          "name": "stderr",
          "output_type": "stream",
          "text": [
            "     38/100      3.93G     0.3736     0.7917     0.8014        137        640: 100%|██████████| 4/4 [00:00<00:00,  4.63it/s]\n",
            "                 Class     Images  Instances      Box(P          R      mAP50  mAP50-95): 100%|██████████| 1/1 [00:00<00:00, 17.80it/s]"
          ]
        },
        {
          "name": "stdout",
          "output_type": "stream",
          "text": [
            "                   all          3         84      0.916      0.916      0.994       0.94\n"
          ]
        },
        {
          "name": "stderr",
          "output_type": "stream",
          "text": [
            "\n"
          ]
        },
        {
          "name": "stdout",
          "output_type": "stream",
          "text": [
            "\n",
            "      Epoch    GPU_mem   box_loss   cls_loss   dfl_loss  Instances       Size\n"
          ]
        },
        {
          "name": "stderr",
          "output_type": "stream",
          "text": [
            "     39/100      3.95G     0.3553      0.856     0.8017         91        640: 100%|██████████| 4/4 [00:00<00:00,  4.48it/s]\n",
            "                 Class     Images  Instances      Box(P          R      mAP50  mAP50-95): 100%|██████████| 1/1 [00:00<00:00, 17.79it/s]"
          ]
        },
        {
          "name": "stdout",
          "output_type": "stream",
          "text": [
            "                   all          3         84      0.914      0.957      0.995      0.935\n"
          ]
        },
        {
          "name": "stderr",
          "output_type": "stream",
          "text": [
            "\n"
          ]
        },
        {
          "name": "stdout",
          "output_type": "stream",
          "text": [
            "\n",
            "      Epoch    GPU_mem   box_loss   cls_loss   dfl_loss  Instances       Size\n"
          ]
        },
        {
          "name": "stderr",
          "output_type": "stream",
          "text": [
            "     40/100      3.96G     0.3802     0.7774     0.8003        130        640: 100%|██████████| 4/4 [00:01<00:00,  2.92it/s]\n",
            "                 Class     Images  Instances      Box(P          R      mAP50  mAP50-95): 100%|██████████| 1/1 [00:00<00:00,  7.70it/s]\n"
          ]
        },
        {
          "name": "stdout",
          "output_type": "stream",
          "text": [
            "                   all          3         84      0.915       0.98      0.995      0.959\n",
            "\n",
            "      Epoch    GPU_mem   box_loss   cls_loss   dfl_loss  Instances       Size\n"
          ]
        },
        {
          "name": "stderr",
          "output_type": "stream",
          "text": [
            "     41/100      3.97G     0.3941     0.8003     0.8065        154        640: 100%|██████████| 4/4 [00:00<00:00,  4.57it/s]\n",
            "                 Class     Images  Instances      Box(P          R      mAP50  mAP50-95): 100%|██████████| 1/1 [00:00<00:00, 17.55it/s]"
          ]
        },
        {
          "name": "stdout",
          "output_type": "stream",
          "text": [
            "                   all          3         84      0.917      0.994      0.995      0.967\n"
          ]
        },
        {
          "name": "stderr",
          "output_type": "stream",
          "text": [
            "\n"
          ]
        },
        {
          "name": "stdout",
          "output_type": "stream",
          "text": [
            "\n",
            "      Epoch    GPU_mem   box_loss   cls_loss   dfl_loss  Instances       Size\n"
          ]
        },
        {
          "name": "stderr",
          "output_type": "stream",
          "text": [
            "     42/100      3.99G     0.3583     0.7971     0.7905        129        640: 100%|██████████| 4/4 [00:00<00:00,  4.41it/s]\n",
            "                 Class     Images  Instances      Box(P          R      mAP50  mAP50-95): 100%|██████████| 1/1 [00:00<00:00, 18.24it/s]"
          ]
        },
        {
          "name": "stdout",
          "output_type": "stream",
          "text": [
            "                   all          3         84      0.921      0.989      0.995      0.954\n"
          ]
        },
        {
          "name": "stderr",
          "output_type": "stream",
          "text": [
            "\n"
          ]
        },
        {
          "name": "stdout",
          "output_type": "stream",
          "text": [
            "\n",
            "      Epoch    GPU_mem   box_loss   cls_loss   dfl_loss  Instances       Size\n"
          ]
        },
        {
          "name": "stderr",
          "output_type": "stream",
          "text": [
            "     43/100         4G     0.4004     0.9254     0.7999        184        640: 100%|██████████| 4/4 [00:00<00:00,  4.40it/s]\n",
            "                 Class     Images  Instances      Box(P          R      mAP50  mAP50-95): 100%|██████████| 1/1 [00:00<00:00, 17.51it/s]"
          ]
        },
        {
          "name": "stdout",
          "output_type": "stream",
          "text": [
            "                   all          3         84      0.922      0.915      0.995      0.947\n"
          ]
        },
        {
          "name": "stderr",
          "output_type": "stream",
          "text": [
            "\n"
          ]
        },
        {
          "name": "stdout",
          "output_type": "stream",
          "text": [
            "\n",
            "      Epoch    GPU_mem   box_loss   cls_loss   dfl_loss  Instances       Size\n"
          ]
        },
        {
          "name": "stderr",
          "output_type": "stream",
          "text": [
            "     44/100      4.02G     0.3565     0.7968     0.7964        166        640: 100%|██████████| 4/4 [00:00<00:00,  4.59it/s]\n",
            "                 Class     Images  Instances      Box(P          R      mAP50  mAP50-95): 100%|██████████| 1/1 [00:00<00:00, 12.32it/s]"
          ]
        },
        {
          "name": "stdout",
          "output_type": "stream",
          "text": [
            "                   all          3         84      0.922      0.905      0.995       0.96\n"
          ]
        },
        {
          "name": "stderr",
          "output_type": "stream",
          "text": [
            "\n"
          ]
        },
        {
          "name": "stdout",
          "output_type": "stream",
          "text": [
            "\n",
            "      Epoch    GPU_mem   box_loss   cls_loss   dfl_loss  Instances       Size\n"
          ]
        },
        {
          "name": "stderr",
          "output_type": "stream",
          "text": [
            "     45/100      4.04G     0.3514     0.7547     0.7932        156        640: 100%|██████████| 4/4 [00:00<00:00,  4.60it/s]\n",
            "                 Class     Images  Instances      Box(P          R      mAP50  mAP50-95): 100%|██████████| 1/1 [00:00<00:00, 17.33it/s]"
          ]
        },
        {
          "name": "stdout",
          "output_type": "stream",
          "text": [
            "                   all          3         84      0.919      0.958      0.995      0.966\n"
          ]
        },
        {
          "name": "stderr",
          "output_type": "stream",
          "text": [
            "\n"
          ]
        },
        {
          "name": "stdout",
          "output_type": "stream",
          "text": [
            "\n",
            "      Epoch    GPU_mem   box_loss   cls_loss   dfl_loss  Instances       Size\n"
          ]
        },
        {
          "name": "stderr",
          "output_type": "stream",
          "text": [
            "     46/100      4.05G      0.355     0.8311     0.7965        171        640: 100%|██████████| 4/4 [00:00<00:00,  4.57it/s]\n",
            "                 Class     Images  Instances      Box(P          R      mAP50  mAP50-95): 100%|██████████| 1/1 [00:00<00:00, 18.27it/s]"
          ]
        },
        {
          "name": "stdout",
          "output_type": "stream",
          "text": [
            "                   all          3         84      0.919      0.961      0.994      0.953\n"
          ]
        },
        {
          "name": "stderr",
          "output_type": "stream",
          "text": [
            "\n"
          ]
        },
        {
          "name": "stdout",
          "output_type": "stream",
          "text": [
            "\n",
            "      Epoch    GPU_mem   box_loss   cls_loss   dfl_loss  Instances       Size\n"
          ]
        },
        {
          "name": "stderr",
          "output_type": "stream",
          "text": [
            "     47/100      4.06G     0.3461     0.8482     0.7978         76        640: 100%|██████████| 4/4 [00:00<00:00,  4.34it/s]\n",
            "                 Class     Images  Instances      Box(P          R      mAP50  mAP50-95): 100%|██████████| 1/1 [00:00<00:00, 16.48it/s]"
          ]
        },
        {
          "name": "stdout",
          "output_type": "stream",
          "text": [
            "                   all          3         84       0.92      0.936      0.994      0.946\n"
          ]
        },
        {
          "name": "stderr",
          "output_type": "stream",
          "text": [
            "\n"
          ]
        },
        {
          "name": "stdout",
          "output_type": "stream",
          "text": [
            "\n",
            "      Epoch    GPU_mem   box_loss   cls_loss   dfl_loss  Instances       Size\n"
          ]
        },
        {
          "name": "stderr",
          "output_type": "stream",
          "text": [
            "     48/100      4.08G     0.3313     0.7891     0.7856        149        640: 100%|██████████| 4/4 [00:00<00:00,  4.47it/s]\n",
            "                 Class     Images  Instances      Box(P          R      mAP50  mAP50-95): 100%|██████████| 1/1 [00:00<00:00, 18.28it/s]"
          ]
        },
        {
          "name": "stdout",
          "output_type": "stream",
          "text": [
            "                   all          3         84       0.93      0.863      0.992       0.95\n"
          ]
        },
        {
          "name": "stderr",
          "output_type": "stream",
          "text": [
            "\n"
          ]
        },
        {
          "name": "stdout",
          "output_type": "stream",
          "text": [
            "\n",
            "      Epoch    GPU_mem   box_loss   cls_loss   dfl_loss  Instances       Size\n"
          ]
        },
        {
          "name": "stderr",
          "output_type": "stream",
          "text": [
            "     49/100      4.09G     0.3547      0.883     0.8001         60        640: 100%|██████████| 4/4 [00:01<00:00,  3.01it/s]\n",
            "                 Class     Images  Instances      Box(P          R      mAP50  mAP50-95): 100%|██████████| 1/1 [00:00<00:00,  5.56it/s]"
          ]
        },
        {
          "name": "stdout",
          "output_type": "stream",
          "text": [
            "                   all          3         84       0.94      0.771      0.983      0.946\n"
          ]
        },
        {
          "name": "stderr",
          "output_type": "stream",
          "text": [
            "\n"
          ]
        },
        {
          "name": "stdout",
          "output_type": "stream",
          "text": [
            "\n",
            "      Epoch    GPU_mem   box_loss   cls_loss   dfl_loss  Instances       Size\n"
          ]
        },
        {
          "name": "stderr",
          "output_type": "stream",
          "text": [
            "     50/100      4.11G     0.3499     0.7743      0.784        182        640: 100%|██████████| 4/4 [00:00<00:00,  4.20it/s]\n",
            "                 Class     Images  Instances      Box(P          R      mAP50  mAP50-95): 100%|██████████| 1/1 [00:00<00:00, 15.23it/s]"
          ]
        },
        {
          "name": "stdout",
          "output_type": "stream",
          "text": [
            "                   all          3         84      0.944      0.742      0.933      0.896\n"
          ]
        },
        {
          "name": "stderr",
          "output_type": "stream",
          "text": [
            "\n"
          ]
        },
        {
          "name": "stdout",
          "output_type": "stream",
          "text": [
            "\n",
            "      Epoch    GPU_mem   box_loss   cls_loss   dfl_loss  Instances       Size\n"
          ]
        },
        {
          "name": "stderr",
          "output_type": "stream",
          "text": [
            "     51/100      4.12G     0.3574      0.834     0.8007        123        640: 100%|██████████| 4/4 [00:00<00:00,  4.53it/s]\n",
            "                 Class     Images  Instances      Box(P          R      mAP50  mAP50-95): 100%|██████████| 1/1 [00:00<00:00, 17.52it/s]"
          ]
        },
        {
          "name": "stdout",
          "output_type": "stream",
          "text": [
            "                   all          3         84      0.927      0.779      0.989       0.95\n"
          ]
        },
        {
          "name": "stderr",
          "output_type": "stream",
          "text": [
            "\n"
          ]
        },
        {
          "name": "stdout",
          "output_type": "stream",
          "text": [
            "\n",
            "      Epoch    GPU_mem   box_loss   cls_loss   dfl_loss  Instances       Size\n"
          ]
        },
        {
          "name": "stderr",
          "output_type": "stream",
          "text": [
            "     52/100      4.14G     0.3142      0.757     0.7932        125        640: 100%|██████████| 4/4 [00:00<00:00,  4.53it/s]\n",
            "                 Class     Images  Instances      Box(P          R      mAP50  mAP50-95): 100%|██████████| 1/1 [00:00<00:00, 17.92it/s]"
          ]
        },
        {
          "name": "stdout",
          "output_type": "stream",
          "text": [
            "                   all          3         84      0.914      0.976      0.994      0.973\n"
          ]
        },
        {
          "name": "stderr",
          "output_type": "stream",
          "text": [
            "\n"
          ]
        },
        {
          "name": "stdout",
          "output_type": "stream",
          "text": [
            "\n",
            "      Epoch    GPU_mem   box_loss   cls_loss   dfl_loss  Instances       Size\n"
          ]
        },
        {
          "name": "stderr",
          "output_type": "stream",
          "text": [
            "     53/100      4.15G       0.35     0.8157     0.7821         87        640: 100%|██████████| 4/4 [00:00<00:00,  4.69it/s]\n",
            "                 Class     Images  Instances      Box(P          R      mAP50  mAP50-95): 100%|██████████| 1/1 [00:00<00:00, 17.39it/s]"
          ]
        },
        {
          "name": "stdout",
          "output_type": "stream",
          "text": [
            "                   all          3         84      0.918      0.989      0.995       0.97\n"
          ]
        },
        {
          "name": "stderr",
          "output_type": "stream",
          "text": [
            "\n"
          ]
        },
        {
          "name": "stdout",
          "output_type": "stream",
          "text": [
            "\n",
            "      Epoch    GPU_mem   box_loss   cls_loss   dfl_loss  Instances       Size\n"
          ]
        },
        {
          "name": "stderr",
          "output_type": "stream",
          "text": [
            "     54/100      4.17G     0.3576      0.794     0.7998         88        640: 100%|██████████| 4/4 [00:00<00:00,  4.53it/s]\n",
            "                 Class     Images  Instances      Box(P          R      mAP50  mAP50-95): 100%|██████████| 1/1 [00:00<00:00, 18.44it/s]"
          ]
        },
        {
          "name": "stdout",
          "output_type": "stream",
          "text": [
            "                   all          3         84      0.924      0.989      0.995      0.957\n"
          ]
        },
        {
          "name": "stderr",
          "output_type": "stream",
          "text": [
            "\n"
          ]
        },
        {
          "name": "stdout",
          "output_type": "stream",
          "text": [
            "\n",
            "      Epoch    GPU_mem   box_loss   cls_loss   dfl_loss  Instances       Size\n"
          ]
        },
        {
          "name": "stderr",
          "output_type": "stream",
          "text": [
            "     55/100      4.18G     0.3489     0.7314     0.7986        140        640: 100%|██████████| 4/4 [00:00<00:00,  4.60it/s]\n",
            "                 Class     Images  Instances      Box(P          R      mAP50  mAP50-95): 100%|██████████| 1/1 [00:00<00:00, 17.65it/s]"
          ]
        },
        {
          "name": "stdout",
          "output_type": "stream",
          "text": [
            "                   all          3         84      0.924      0.988      0.995      0.937\n"
          ]
        },
        {
          "name": "stderr",
          "output_type": "stream",
          "text": [
            "\n"
          ]
        },
        {
          "name": "stdout",
          "output_type": "stream",
          "text": [
            "\n",
            "      Epoch    GPU_mem   box_loss   cls_loss   dfl_loss  Instances       Size\n"
          ]
        },
        {
          "name": "stderr",
          "output_type": "stream",
          "text": [
            "     56/100       4.2G     0.3406     0.7714     0.7882        155        640: 100%|██████████| 4/4 [00:00<00:00,  4.50it/s]\n",
            "                 Class     Images  Instances      Box(P          R      mAP50  mAP50-95): 100%|██████████| 1/1 [00:00<00:00, 17.38it/s]"
          ]
        },
        {
          "name": "stdout",
          "output_type": "stream",
          "text": [
            "                   all          3         84      0.925      0.987      0.995      0.957\n"
          ]
        },
        {
          "name": "stderr",
          "output_type": "stream",
          "text": [
            "\n"
          ]
        },
        {
          "name": "stdout",
          "output_type": "stream",
          "text": [
            "\n",
            "      Epoch    GPU_mem   box_loss   cls_loss   dfl_loss  Instances       Size\n"
          ]
        },
        {
          "name": "stderr",
          "output_type": "stream",
          "text": [
            "     57/100      4.21G     0.3303     0.7279     0.7872        144        640: 100%|██████████| 4/4 [00:00<00:00,  4.65it/s]\n",
            "                 Class     Images  Instances      Box(P          R      mAP50  mAP50-95): 100%|██████████| 1/1 [00:00<00:00, 17.57it/s]"
          ]
        },
        {
          "name": "stdout",
          "output_type": "stream",
          "text": [
            "                   all          3         84      0.926      0.988      0.995      0.962\n"
          ]
        },
        {
          "name": "stderr",
          "output_type": "stream",
          "text": [
            "\n"
          ]
        },
        {
          "name": "stdout",
          "output_type": "stream",
          "text": [
            "\n",
            "      Epoch    GPU_mem   box_loss   cls_loss   dfl_loss  Instances       Size\n"
          ]
        },
        {
          "name": "stderr",
          "output_type": "stream",
          "text": [
            "     58/100      4.23G     0.3398     0.7513      0.796        172        640: 100%|██████████| 4/4 [00:01<00:00,  3.70it/s]\n",
            "                 Class     Images  Instances      Box(P          R      mAP50  mAP50-95): 100%|██████████| 1/1 [00:00<00:00, 11.77it/s]"
          ]
        },
        {
          "name": "stdout",
          "output_type": "stream",
          "text": [
            "                   all          3         84      0.929      0.988      0.995      0.976\n"
          ]
        },
        {
          "name": "stderr",
          "output_type": "stream",
          "text": [
            "\n"
          ]
        },
        {
          "name": "stdout",
          "output_type": "stream",
          "text": [
            "\n",
            "      Epoch    GPU_mem   box_loss   cls_loss   dfl_loss  Instances       Size\n"
          ]
        },
        {
          "name": "stderr",
          "output_type": "stream",
          "text": [
            "     59/100      4.24G     0.3082     0.6667     0.7902        150        640: 100%|██████████| 4/4 [00:01<00:00,  3.02it/s]\n",
            "                 Class     Images  Instances      Box(P          R      mAP50  mAP50-95): 100%|██████████| 1/1 [00:00<00:00,  9.74it/s]"
          ]
        },
        {
          "name": "stdout",
          "output_type": "stream",
          "text": [
            "                   all          3         84      0.929      0.985      0.995      0.969\n"
          ]
        },
        {
          "name": "stderr",
          "output_type": "stream",
          "text": [
            "\n"
          ]
        },
        {
          "name": "stdout",
          "output_type": "stream",
          "text": [
            "\n",
            "      Epoch    GPU_mem   box_loss   cls_loss   dfl_loss  Instances       Size\n"
          ]
        },
        {
          "name": "stderr",
          "output_type": "stream",
          "text": [
            "     60/100      4.26G     0.3469     0.7266      0.797        154        640: 100%|██████████| 4/4 [00:00<00:00,  4.56it/s]\n",
            "                 Class     Images  Instances      Box(P          R      mAP50  mAP50-95): 100%|██████████| 1/1 [00:00<00:00, 17.44it/s]"
          ]
        },
        {
          "name": "stdout",
          "output_type": "stream",
          "text": [
            "                   all          3         84      0.926      0.986      0.995      0.947\n"
          ]
        },
        {
          "name": "stderr",
          "output_type": "stream",
          "text": [
            "\n"
          ]
        },
        {
          "name": "stdout",
          "output_type": "stream",
          "text": [
            "\n",
            "      Epoch    GPU_mem   box_loss   cls_loss   dfl_loss  Instances       Size\n"
          ]
        },
        {
          "name": "stderr",
          "output_type": "stream",
          "text": [
            "     61/100      4.27G     0.3139     0.7479     0.7934        210        640: 100%|██████████| 4/4 [00:00<00:00,  4.44it/s]\n",
            "                 Class     Images  Instances      Box(P          R      mAP50  mAP50-95): 100%|██████████| 1/1 [00:00<00:00, 18.61it/s]"
          ]
        },
        {
          "name": "stdout",
          "output_type": "stream",
          "text": [
            "                   all          3         84      0.923      0.987      0.995      0.971\n"
          ]
        },
        {
          "name": "stderr",
          "output_type": "stream",
          "text": [
            "\n"
          ]
        },
        {
          "name": "stdout",
          "output_type": "stream",
          "text": [
            "\n",
            "      Epoch    GPU_mem   box_loss   cls_loss   dfl_loss  Instances       Size\n"
          ]
        },
        {
          "name": "stderr",
          "output_type": "stream",
          "text": [
            "     62/100      4.29G      0.305     0.6753     0.7881        190        640: 100%|██████████| 4/4 [00:00<00:00,  4.62it/s]\n",
            "                 Class     Images  Instances      Box(P          R      mAP50  mAP50-95): 100%|██████████| 1/1 [00:00<00:00, 18.22it/s]"
          ]
        },
        {
          "name": "stdout",
          "output_type": "stream",
          "text": [
            "                   all          3         84       0.92      0.989      0.995      0.971\n"
          ]
        },
        {
          "name": "stderr",
          "output_type": "stream",
          "text": [
            "\n"
          ]
        },
        {
          "name": "stdout",
          "output_type": "stream",
          "text": [
            "\n",
            "      Epoch    GPU_mem   box_loss   cls_loss   dfl_loss  Instances       Size\n"
          ]
        },
        {
          "name": "stderr",
          "output_type": "stream",
          "text": [
            "     63/100       4.3G     0.3229     0.7105     0.7885        165        640: 100%|██████████| 4/4 [00:00<00:00,  4.58it/s]\n",
            "                 Class     Images  Instances      Box(P          R      mAP50  mAP50-95): 100%|██████████| 1/1 [00:00<00:00, 17.53it/s]"
          ]
        },
        {
          "name": "stdout",
          "output_type": "stream",
          "text": [
            "                   all          3         84      0.923      0.984      0.995      0.965\n"
          ]
        },
        {
          "name": "stderr",
          "output_type": "stream",
          "text": [
            "\n"
          ]
        },
        {
          "name": "stdout",
          "output_type": "stream",
          "text": [
            "\n",
            "      Epoch    GPU_mem   box_loss   cls_loss   dfl_loss  Instances       Size\n"
          ]
        },
        {
          "name": "stderr",
          "output_type": "stream",
          "text": [
            "     64/100      4.32G     0.3171      0.733     0.7978        160        640: 100%|██████████| 4/4 [00:00<00:00,  4.58it/s]\n",
            "                 Class     Images  Instances      Box(P          R      mAP50  mAP50-95): 100%|██████████| 1/1 [00:00<00:00, 17.02it/s]"
          ]
        },
        {
          "name": "stdout",
          "output_type": "stream",
          "text": [
            "                   all          3         84      0.923      0.976      0.994      0.957\n"
          ]
        },
        {
          "name": "stderr",
          "output_type": "stream",
          "text": [
            "\n"
          ]
        },
        {
          "name": "stdout",
          "output_type": "stream",
          "text": [
            "\n",
            "      Epoch    GPU_mem   box_loss   cls_loss   dfl_loss  Instances       Size\n"
          ]
        },
        {
          "name": "stderr",
          "output_type": "stream",
          "text": [
            "     65/100      4.33G      0.308     0.6848     0.7853        103        640: 100%|██████████| 4/4 [00:00<00:00,  4.54it/s]\n",
            "                 Class     Images  Instances      Box(P          R      mAP50  mAP50-95): 100%|██████████| 1/1 [00:00<00:00, 18.50it/s]"
          ]
        },
        {
          "name": "stdout",
          "output_type": "stream",
          "text": [
            "                   all          3         84      0.919      0.981      0.995      0.958\n"
          ]
        },
        {
          "name": "stderr",
          "output_type": "stream",
          "text": [
            "\n"
          ]
        },
        {
          "name": "stdout",
          "output_type": "stream",
          "text": [
            "\n",
            "      Epoch    GPU_mem   box_loss   cls_loss   dfl_loss  Instances       Size\n"
          ]
        },
        {
          "name": "stderr",
          "output_type": "stream",
          "text": [
            "     66/100      4.35G     0.3122     0.6856     0.7883         92        640: 100%|██████████| 4/4 [00:00<00:00,  4.41it/s]\n",
            "                 Class     Images  Instances      Box(P          R      mAP50  mAP50-95): 100%|██████████| 1/1 [00:00<00:00, 17.54it/s]"
          ]
        },
        {
          "name": "stdout",
          "output_type": "stream",
          "text": [
            "                   all          3         84      0.916      0.988      0.995      0.964\n"
          ]
        },
        {
          "name": "stderr",
          "output_type": "stream",
          "text": [
            "\n"
          ]
        },
        {
          "name": "stdout",
          "output_type": "stream",
          "text": [
            "\n",
            "      Epoch    GPU_mem   box_loss   cls_loss   dfl_loss  Instances       Size\n"
          ]
        },
        {
          "name": "stderr",
          "output_type": "stream",
          "text": [
            "     67/100      4.36G      0.323     0.7213     0.7919        147        640: 100%|██████████| 4/4 [00:00<00:00,  4.52it/s]\n",
            "                 Class     Images  Instances      Box(P          R      mAP50  mAP50-95): 100%|██████████| 1/1 [00:00<00:00, 17.09it/s]"
          ]
        },
        {
          "name": "stdout",
          "output_type": "stream",
          "text": [
            "                   all          3         84       0.92      0.982      0.995      0.962\n"
          ]
        },
        {
          "name": "stderr",
          "output_type": "stream",
          "text": [
            "\n"
          ]
        },
        {
          "name": "stdout",
          "output_type": "stream",
          "text": [
            "\n",
            "      Epoch    GPU_mem   box_loss   cls_loss   dfl_loss  Instances       Size\n"
          ]
        },
        {
          "name": "stderr",
          "output_type": "stream",
          "text": [
            "     68/100      4.38G     0.3093     0.6557     0.7827        103        640: 100%|██████████| 4/4 [00:01<00:00,  2.92it/s]\n",
            "                 Class     Images  Instances      Box(P          R      mAP50  mAP50-95): 100%|██████████| 1/1 [00:00<00:00, 11.01it/s]"
          ]
        },
        {
          "name": "stdout",
          "output_type": "stream",
          "text": [
            "                   all          3         84      0.959      0.958      0.995      0.953\n"
          ]
        },
        {
          "name": "stderr",
          "output_type": "stream",
          "text": [
            "\n"
          ]
        },
        {
          "name": "stdout",
          "output_type": "stream",
          "text": [
            "\n",
            "      Epoch    GPU_mem   box_loss   cls_loss   dfl_loss  Instances       Size\n"
          ]
        },
        {
          "name": "stderr",
          "output_type": "stream",
          "text": [
            "     69/100      4.39G      0.305     0.7001     0.7888        172        640: 100%|██████████| 4/4 [00:00<00:00,  4.03it/s]\n",
            "                 Class     Images  Instances      Box(P          R      mAP50  mAP50-95): 100%|██████████| 1/1 [00:00<00:00, 17.47it/s]"
          ]
        },
        {
          "name": "stdout",
          "output_type": "stream",
          "text": [
            "                   all          3         84      0.963      0.958      0.995      0.955\n"
          ]
        },
        {
          "name": "stderr",
          "output_type": "stream",
          "text": [
            "\n"
          ]
        },
        {
          "name": "stdout",
          "output_type": "stream",
          "text": [
            "\n",
            "      Epoch    GPU_mem   box_loss   cls_loss   dfl_loss  Instances       Size\n"
          ]
        },
        {
          "name": "stderr",
          "output_type": "stream",
          "text": [
            "     70/100       4.4G     0.3094     0.7624     0.7807        175        640: 100%|██████████| 4/4 [00:00<00:00,  4.40it/s]\n",
            "                 Class     Images  Instances      Box(P          R      mAP50  mAP50-95): 100%|██████████| 1/1 [00:00<00:00, 16.58it/s]"
          ]
        },
        {
          "name": "stdout",
          "output_type": "stream",
          "text": [
            "                   all          3         84      0.963      0.956      0.995      0.947\n"
          ]
        },
        {
          "name": "stderr",
          "output_type": "stream",
          "text": [
            "\n"
          ]
        },
        {
          "name": "stdout",
          "output_type": "stream",
          "text": [
            "\n",
            "      Epoch    GPU_mem   box_loss   cls_loss   dfl_loss  Instances       Size\n"
          ]
        },
        {
          "name": "stderr",
          "output_type": "stream",
          "text": [
            "     71/100      4.42G     0.2964     0.6413     0.7918        124        640: 100%|██████████| 4/4 [00:00<00:00,  4.43it/s]\n",
            "                 Class     Images  Instances      Box(P          R      mAP50  mAP50-95): 100%|██████████| 1/1 [00:00<00:00, 17.80it/s]"
          ]
        },
        {
          "name": "stdout",
          "output_type": "stream",
          "text": [
            "                   all          3         84      0.932      0.989      0.995      0.964\n"
          ]
        },
        {
          "name": "stderr",
          "output_type": "stream",
          "text": [
            "\n"
          ]
        },
        {
          "name": "stdout",
          "output_type": "stream",
          "text": [
            "\n",
            "      Epoch    GPU_mem   box_loss   cls_loss   dfl_loss  Instances       Size\n"
          ]
        },
        {
          "name": "stderr",
          "output_type": "stream",
          "text": [
            "     72/100      4.44G     0.3039     0.6909     0.7968        114        640: 100%|██████████| 4/4 [00:00<00:00,  4.78it/s]\n",
            "                 Class     Images  Instances      Box(P          R      mAP50  mAP50-95): 100%|██████████| 1/1 [00:00<00:00, 16.91it/s]"
          ]
        },
        {
          "name": "stdout",
          "output_type": "stream",
          "text": [
            "                   all          3         84      0.936      0.986      0.995      0.973\n"
          ]
        },
        {
          "name": "stderr",
          "output_type": "stream",
          "text": [
            "\n"
          ]
        },
        {
          "name": "stdout",
          "output_type": "stream",
          "text": [
            "\n",
            "      Epoch    GPU_mem   box_loss   cls_loss   dfl_loss  Instances       Size\n"
          ]
        },
        {
          "name": "stderr",
          "output_type": "stream",
          "text": [
            "     73/100      4.45G     0.3079     0.7737     0.7887         85        640: 100%|██████████| 4/4 [00:00<00:00,  4.47it/s]\n",
            "                 Class     Images  Instances      Box(P          R      mAP50  mAP50-95): 100%|██████████| 1/1 [00:00<00:00, 18.74it/s]"
          ]
        },
        {
          "name": "stdout",
          "output_type": "stream",
          "text": [
            "                   all          3         84      0.935      0.985      0.995      0.971\n"
          ]
        },
        {
          "name": "stderr",
          "output_type": "stream",
          "text": [
            "\n"
          ]
        },
        {
          "name": "stdout",
          "output_type": "stream",
          "text": [
            "\n",
            "      Epoch    GPU_mem   box_loss   cls_loss   dfl_loss  Instances       Size\n"
          ]
        },
        {
          "name": "stderr",
          "output_type": "stream",
          "text": [
            "     74/100      4.46G     0.3503     0.7603     0.7847        131        640: 100%|██████████| 4/4 [00:00<00:00,  4.48it/s]\n",
            "                 Class     Images  Instances      Box(P          R      mAP50  mAP50-95): 100%|██████████| 1/1 [00:00<00:00, 12.70it/s]"
          ]
        },
        {
          "name": "stdout",
          "output_type": "stream",
          "text": [
            "                   all          3         84      0.925      0.985      0.995      0.964\n"
          ]
        },
        {
          "name": "stderr",
          "output_type": "stream",
          "text": [
            "\n"
          ]
        },
        {
          "name": "stdout",
          "output_type": "stream",
          "text": [
            "\n",
            "      Epoch    GPU_mem   box_loss   cls_loss   dfl_loss  Instances       Size\n"
          ]
        },
        {
          "name": "stderr",
          "output_type": "stream",
          "text": [
            "     75/100      4.48G     0.3049     0.7312     0.7945        135        640: 100%|██████████| 4/4 [00:00<00:00,  4.57it/s]\n",
            "                 Class     Images  Instances      Box(P          R      mAP50  mAP50-95): 100%|██████████| 1/1 [00:00<00:00, 17.37it/s]"
          ]
        },
        {
          "name": "stdout",
          "output_type": "stream",
          "text": [
            "                   all          3         84      0.914      0.986      0.995      0.964\n"
          ]
        },
        {
          "name": "stderr",
          "output_type": "stream",
          "text": [
            "\n"
          ]
        },
        {
          "name": "stdout",
          "output_type": "stream",
          "text": [
            "\n",
            "      Epoch    GPU_mem   box_loss   cls_loss   dfl_loss  Instances       Size\n"
          ]
        },
        {
          "name": "stderr",
          "output_type": "stream",
          "text": [
            "     76/100      4.49G     0.2883       0.66     0.7885        107        640: 100%|██████████| 4/4 [00:00<00:00,  4.38it/s]\n",
            "                 Class     Images  Instances      Box(P          R      mAP50  mAP50-95): 100%|██████████| 1/1 [00:00<00:00, 18.01it/s]"
          ]
        },
        {
          "name": "stdout",
          "output_type": "stream",
          "text": [
            "                   all          3         84      0.911      0.986      0.995      0.969\n"
          ]
        },
        {
          "name": "stderr",
          "output_type": "stream",
          "text": [
            "\n"
          ]
        },
        {
          "name": "stdout",
          "output_type": "stream",
          "text": [
            "\n",
            "      Epoch    GPU_mem   box_loss   cls_loss   dfl_loss  Instances       Size\n"
          ]
        },
        {
          "name": "stderr",
          "output_type": "stream",
          "text": [
            "     77/100      4.51G     0.3045     0.6694     0.7931         72        640: 100%|██████████| 4/4 [00:01<00:00,  3.26it/s]\n",
            "                 Class     Images  Instances      Box(P          R      mAP50  mAP50-95): 100%|██████████| 1/1 [00:00<00:00, 13.39it/s]"
          ]
        },
        {
          "name": "stdout",
          "output_type": "stream",
          "text": [
            "                   all          3         84       0.91      0.986      0.995      0.967\n"
          ]
        },
        {
          "name": "stderr",
          "output_type": "stream",
          "text": [
            "\n"
          ]
        },
        {
          "name": "stdout",
          "output_type": "stream",
          "text": [
            "\n",
            "      Epoch    GPU_mem   box_loss   cls_loss   dfl_loss  Instances       Size\n"
          ]
        },
        {
          "name": "stderr",
          "output_type": "stream",
          "text": [
            "     78/100      4.52G     0.2894     0.6543     0.7978        114        640: 100%|██████████| 4/4 [00:01<00:00,  2.99it/s]\n",
            "                 Class     Images  Instances      Box(P          R      mAP50  mAP50-95): 100%|██████████| 1/1 [00:00<00:00, 16.10it/s]"
          ]
        },
        {
          "name": "stdout",
          "output_type": "stream",
          "text": [
            "                   all          3         84      0.911      0.986      0.995      0.971\n"
          ]
        },
        {
          "name": "stderr",
          "output_type": "stream",
          "text": [
            "\n"
          ]
        },
        {
          "name": "stdout",
          "output_type": "stream",
          "text": [
            "\n",
            "      Epoch    GPU_mem   box_loss   cls_loss   dfl_loss  Instances       Size\n"
          ]
        },
        {
          "name": "stderr",
          "output_type": "stream",
          "text": [
            "     79/100      4.54G     0.2884     0.7025     0.7775        114        640: 100%|██████████| 4/4 [00:00<00:00,  4.38it/s]\n",
            "                 Class     Images  Instances      Box(P          R      mAP50  mAP50-95): 100%|██████████| 1/1 [00:00<00:00, 16.08it/s]"
          ]
        },
        {
          "name": "stdout",
          "output_type": "stream",
          "text": [
            "                   all          3         84      0.912      0.984      0.995      0.975\n"
          ]
        },
        {
          "name": "stderr",
          "output_type": "stream",
          "text": [
            "\n"
          ]
        },
        {
          "name": "stdout",
          "output_type": "stream",
          "text": [
            "\n",
            "      Epoch    GPU_mem   box_loss   cls_loss   dfl_loss  Instances       Size\n"
          ]
        },
        {
          "name": "stderr",
          "output_type": "stream",
          "text": [
            "     80/100      4.55G     0.2824     0.6997     0.7839        126        640: 100%|██████████| 4/4 [00:00<00:00,  4.48it/s]\n",
            "                 Class     Images  Instances      Box(P          R      mAP50  mAP50-95): 100%|██████████| 1/1 [00:00<00:00, 18.46it/s]"
          ]
        },
        {
          "name": "stdout",
          "output_type": "stream",
          "text": [
            "                   all          3         84      0.912      0.979      0.995      0.971\n"
          ]
        },
        {
          "name": "stderr",
          "output_type": "stream",
          "text": [
            "\n"
          ]
        },
        {
          "name": "stdout",
          "output_type": "stream",
          "text": [
            "\n",
            "      Epoch    GPU_mem   box_loss   cls_loss   dfl_loss  Instances       Size\n"
          ]
        },
        {
          "name": "stderr",
          "output_type": "stream",
          "text": [
            "     81/100      4.57G     0.3102     0.6689     0.7874        123        640: 100%|██████████| 4/4 [00:00<00:00,  4.51it/s]\n",
            "                 Class     Images  Instances      Box(P          R      mAP50  mAP50-95): 100%|██████████| 1/1 [00:00<00:00, 17.58it/s]"
          ]
        },
        {
          "name": "stdout",
          "output_type": "stream",
          "text": [
            "                   all          3         84      0.912      0.978      0.995      0.966\n"
          ]
        },
        {
          "name": "stderr",
          "output_type": "stream",
          "text": [
            "\n"
          ]
        },
        {
          "name": "stdout",
          "output_type": "stream",
          "text": [
            "\n",
            "      Epoch    GPU_mem   box_loss   cls_loss   dfl_loss  Instances       Size\n"
          ]
        },
        {
          "name": "stderr",
          "output_type": "stream",
          "text": [
            "     82/100      4.58G     0.3076     0.7205     0.7921        137        640: 100%|██████████| 4/4 [00:00<00:00,  4.77it/s]\n",
            "                 Class     Images  Instances      Box(P          R      mAP50  mAP50-95): 100%|██████████| 1/1 [00:00<00:00, 14.06it/s]"
          ]
        },
        {
          "name": "stdout",
          "output_type": "stream",
          "text": [
            "                   all          3         84      0.912      0.978      0.994      0.971\n"
          ]
        },
        {
          "name": "stderr",
          "output_type": "stream",
          "text": [
            "\n"
          ]
        },
        {
          "name": "stdout",
          "output_type": "stream",
          "text": [
            "\n",
            "      Epoch    GPU_mem   box_loss   cls_loss   dfl_loss  Instances       Size\n"
          ]
        },
        {
          "name": "stderr",
          "output_type": "stream",
          "text": [
            "     83/100       4.6G     0.3104     0.6885     0.7852        200        640: 100%|██████████| 4/4 [00:00<00:00,  4.49it/s]\n",
            "                 Class     Images  Instances      Box(P          R      mAP50  mAP50-95): 100%|██████████| 1/1 [00:00<00:00, 18.05it/s]"
          ]
        },
        {
          "name": "stdout",
          "output_type": "stream",
          "text": [
            "                   all          3         84      0.912      0.981      0.994      0.974\n"
          ]
        },
        {
          "name": "stderr",
          "output_type": "stream",
          "text": [
            "\n"
          ]
        },
        {
          "name": "stdout",
          "output_type": "stream",
          "text": [
            "\n",
            "      Epoch    GPU_mem   box_loss   cls_loss   dfl_loss  Instances       Size\n"
          ]
        },
        {
          "name": "stderr",
          "output_type": "stream",
          "text": [
            "     84/100      4.61G     0.3002     0.6678     0.7966        114        640: 100%|██████████| 4/4 [00:00<00:00,  4.54it/s]\n",
            "                 Class     Images  Instances      Box(P          R      mAP50  mAP50-95): 100%|██████████| 1/1 [00:00<00:00, 17.37it/s]"
          ]
        },
        {
          "name": "stdout",
          "output_type": "stream",
          "text": [
            "                   all          3         84      0.911      0.983      0.994      0.975\n"
          ]
        },
        {
          "name": "stderr",
          "output_type": "stream",
          "text": [
            "\n"
          ]
        },
        {
          "name": "stdout",
          "output_type": "stream",
          "text": [
            "\n",
            "      Epoch    GPU_mem   box_loss   cls_loss   dfl_loss  Instances       Size\n"
          ]
        },
        {
          "name": "stderr",
          "output_type": "stream",
          "text": [
            "     85/100      4.63G     0.2975     0.7106     0.7835         81        640: 100%|██████████| 4/4 [00:00<00:00,  4.59it/s]\n",
            "                 Class     Images  Instances      Box(P          R      mAP50  mAP50-95): 100%|██████████| 1/1 [00:00<00:00, 13.14it/s]"
          ]
        },
        {
          "name": "stdout",
          "output_type": "stream",
          "text": [
            "                   all          3         84       0.91      0.985      0.994      0.974\n"
          ]
        },
        {
          "name": "stderr",
          "output_type": "stream",
          "text": [
            "\n"
          ]
        },
        {
          "name": "stdout",
          "output_type": "stream",
          "text": [
            "\n",
            "      Epoch    GPU_mem   box_loss   cls_loss   dfl_loss  Instances       Size\n"
          ]
        },
        {
          "name": "stderr",
          "output_type": "stream",
          "text": [
            "     86/100      4.64G     0.2706      0.628     0.7781         98        640: 100%|██████████| 4/4 [00:00<00:00,  4.38it/s]\n",
            "                 Class     Images  Instances      Box(P          R      mAP50  mAP50-95): 100%|██████████| 1/1 [00:00<00:00, 13.67it/s]"
          ]
        },
        {
          "name": "stdout",
          "output_type": "stream",
          "text": [
            "                   all          3         84       0.91      0.987      0.995       0.97\n"
          ]
        },
        {
          "name": "stderr",
          "output_type": "stream",
          "text": [
            "\n"
          ]
        },
        {
          "name": "stdout",
          "output_type": "stream",
          "text": [
            "\n",
            "      Epoch    GPU_mem   box_loss   cls_loss   dfl_loss  Instances       Size\n"
          ]
        },
        {
          "name": "stderr",
          "output_type": "stream",
          "text": [
            "     87/100      4.66G     0.2949     0.7408       0.79         72        640: 100%|██████████| 4/4 [00:01<00:00,  2.88it/s]\n",
            "                 Class     Images  Instances      Box(P          R      mAP50  mAP50-95): 100%|██████████| 1/1 [00:00<00:00,  6.96it/s]\n"
          ]
        },
        {
          "name": "stdout",
          "output_type": "stream",
          "text": [
            "                   all          3         84       0.91      0.986      0.994      0.976\n",
            "\n",
            "      Epoch    GPU_mem   box_loss   cls_loss   dfl_loss  Instances       Size\n"
          ]
        },
        {
          "name": "stderr",
          "output_type": "stream",
          "text": [
            "     88/100      4.67G      0.287     0.6789     0.7867         99        640: 100%|██████████| 4/4 [00:00<00:00,  4.42it/s]\n",
            "                 Class     Images  Instances      Box(P          R      mAP50  mAP50-95): 100%|██████████| 1/1 [00:00<00:00, 16.12it/s]"
          ]
        },
        {
          "name": "stdout",
          "output_type": "stream",
          "text": [
            "                   all          3         84       0.91      0.986      0.994      0.975\n"
          ]
        },
        {
          "name": "stderr",
          "output_type": "stream",
          "text": [
            "\n"
          ]
        },
        {
          "name": "stdout",
          "output_type": "stream",
          "text": [
            "\n",
            "      Epoch    GPU_mem   box_loss   cls_loss   dfl_loss  Instances       Size\n"
          ]
        },
        {
          "name": "stderr",
          "output_type": "stream",
          "text": [
            "     89/100      4.69G     0.2888     0.6373     0.7886        172        640: 100%|██████████| 4/4 [00:00<00:00,  4.46it/s]\n",
            "                 Class     Images  Instances      Box(P          R      mAP50  mAP50-95): 100%|██████████| 1/1 [00:00<00:00, 14.50it/s]"
          ]
        },
        {
          "name": "stdout",
          "output_type": "stream",
          "text": [
            "                   all          3         84       0.91      0.985      0.994      0.975\n"
          ]
        },
        {
          "name": "stderr",
          "output_type": "stream",
          "text": [
            "\n"
          ]
        },
        {
          "name": "stdout",
          "output_type": "stream",
          "text": [
            "\n",
            "      Epoch    GPU_mem   box_loss   cls_loss   dfl_loss  Instances       Size\n"
          ]
        },
        {
          "name": "stderr",
          "output_type": "stream",
          "text": [
            "     90/100       4.7G     0.2952     0.6922     0.7891        141        640: 100%|██████████| 4/4 [00:00<00:00,  4.35it/s]\n",
            "                 Class     Images  Instances      Box(P          R      mAP50  mAP50-95): 100%|██████████| 1/1 [00:00<00:00, 17.75it/s]"
          ]
        },
        {
          "name": "stdout",
          "output_type": "stream",
          "text": [
            "                   all          3         84       0.91      0.984      0.994      0.972\n"
          ]
        },
        {
          "name": "stderr",
          "output_type": "stream",
          "text": [
            "\n"
          ]
        },
        {
          "name": "stdout",
          "output_type": "stream",
          "text": [
            "Closing dataloader mosaic\n",
            "\u001b[34m\u001b[1malbumentations: \u001b[0mBlur(p=0.01, blur_limit=(3, 7)), MedianBlur(p=0.01, blur_limit=(3, 7)), ToGray(p=0.01, method='weighted_average', num_output_channels=3), CLAHE(p=0.01, clip_limit=(1.0, 4.0), tile_grid_size=(8, 8))\n",
            "\n",
            "      Epoch    GPU_mem   box_loss   cls_loss   dfl_loss  Instances       Size\n"
          ]
        },
        {
          "name": "stderr",
          "output_type": "stream",
          "text": [
            "     91/100      4.71G      0.331     0.8192     0.8053         61        640: 100%|██████████| 4/4 [00:02<00:00,  1.85it/s]\n",
            "                 Class     Images  Instances      Box(P          R      mAP50  mAP50-95): 100%|██████████| 1/1 [00:00<00:00,  3.83it/s]"
          ]
        },
        {
          "name": "stdout",
          "output_type": "stream",
          "text": [
            "                   all          3         84      0.911      0.979      0.994      0.974\n"
          ]
        },
        {
          "name": "stderr",
          "output_type": "stream",
          "text": [
            "\n"
          ]
        },
        {
          "name": "stdout",
          "output_type": "stream",
          "text": [
            "\n",
            "      Epoch    GPU_mem   box_loss   cls_loss   dfl_loss  Instances       Size\n"
          ]
        },
        {
          "name": "stderr",
          "output_type": "stream",
          "text": [
            "     92/100      4.73G     0.3026     0.7281     0.7955         72        640: 100%|██████████| 4/4 [00:00<00:00,  4.60it/s]\n",
            "                 Class     Images  Instances      Box(P          R      mAP50  mAP50-95): 100%|██████████| 1/1 [00:00<00:00, 17.15it/s]"
          ]
        },
        {
          "name": "stdout",
          "output_type": "stream",
          "text": [
            "                   all          3         84      0.911      0.975      0.994      0.973\n"
          ]
        },
        {
          "name": "stderr",
          "output_type": "stream",
          "text": [
            "\n"
          ]
        },
        {
          "name": "stdout",
          "output_type": "stream",
          "text": [
            "\n",
            "      Epoch    GPU_mem   box_loss   cls_loss   dfl_loss  Instances       Size\n"
          ]
        },
        {
          "name": "stderr",
          "output_type": "stream",
          "text": [
            "     93/100      4.74G     0.2838     0.7809     0.7839         72        640: 100%|██████████| 4/4 [00:00<00:00,  4.87it/s]\n",
            "                 Class     Images  Instances      Box(P          R      mAP50  mAP50-95): 100%|██████████| 1/1 [00:00<00:00, 18.05it/s]"
          ]
        },
        {
          "name": "stdout",
          "output_type": "stream",
          "text": [
            "                   all          3         84      0.912      0.973      0.994      0.973\n"
          ]
        },
        {
          "name": "stderr",
          "output_type": "stream",
          "text": [
            "\n"
          ]
        },
        {
          "name": "stdout",
          "output_type": "stream",
          "text": [
            "\n",
            "      Epoch    GPU_mem   box_loss   cls_loss   dfl_loss  Instances       Size\n"
          ]
        },
        {
          "name": "stderr",
          "output_type": "stream",
          "text": [
            "     94/100      4.76G     0.3009     0.6999     0.7863        117        640: 100%|██████████| 4/4 [00:00<00:00,  4.14it/s]\n",
            "                 Class     Images  Instances      Box(P          R      mAP50  mAP50-95): 100%|██████████| 1/1 [00:00<00:00, 12.44it/s]"
          ]
        },
        {
          "name": "stdout",
          "output_type": "stream",
          "text": [
            "                   all          3         84      0.913      0.968      0.993      0.975\n"
          ]
        },
        {
          "name": "stderr",
          "output_type": "stream",
          "text": [
            "\n"
          ]
        },
        {
          "name": "stdout",
          "output_type": "stream",
          "text": [
            "\n",
            "      Epoch    GPU_mem   box_loss   cls_loss   dfl_loss  Instances       Size\n"
          ]
        },
        {
          "name": "stderr",
          "output_type": "stream",
          "text": [
            "     95/100      4.77G     0.2802     0.6604     0.7884         98        640: 100%|██████████| 4/4 [00:01<00:00,  3.08it/s]\n",
            "                 Class     Images  Instances      Box(P          R      mAP50  mAP50-95): 100%|██████████| 1/1 [00:00<00:00,  7.49it/s]\n"
          ]
        },
        {
          "name": "stdout",
          "output_type": "stream",
          "text": [
            "                   all          3         84      0.915      0.964      0.993      0.976\n",
            "\n",
            "      Epoch    GPU_mem   box_loss   cls_loss   dfl_loss  Instances       Size\n"
          ]
        },
        {
          "name": "stderr",
          "output_type": "stream",
          "text": [
            "     96/100      4.79G     0.3332     0.8077     0.7999         49        640: 100%|██████████| 4/4 [00:00<00:00,  4.64it/s]\n",
            "                 Class     Images  Instances      Box(P          R      mAP50  mAP50-95): 100%|██████████| 1/1 [00:00<00:00, 16.61it/s]"
          ]
        },
        {
          "name": "stdout",
          "output_type": "stream",
          "text": [
            "                   all          3         84      0.917      0.959      0.993      0.976\n"
          ]
        },
        {
          "name": "stderr",
          "output_type": "stream",
          "text": [
            "\n"
          ]
        },
        {
          "name": "stdout",
          "output_type": "stream",
          "text": [
            "\n",
            "      Epoch    GPU_mem   box_loss   cls_loss   dfl_loss  Instances       Size\n"
          ]
        },
        {
          "name": "stderr",
          "output_type": "stream",
          "text": [
            "     97/100       4.8G     0.2983     0.6858     0.7904        120        640: 100%|██████████| 4/4 [00:00<00:00,  4.63it/s]\n",
            "                 Class     Images  Instances      Box(P          R      mAP50  mAP50-95): 100%|██████████| 1/1 [00:00<00:00, 14.78it/s]"
          ]
        },
        {
          "name": "stdout",
          "output_type": "stream",
          "text": [
            "                   all          3         84      0.918      0.958      0.993      0.976\n"
          ]
        },
        {
          "name": "stderr",
          "output_type": "stream",
          "text": [
            "\n"
          ]
        },
        {
          "name": "stdout",
          "output_type": "stream",
          "text": [
            "\n",
            "      Epoch    GPU_mem   box_loss   cls_loss   dfl_loss  Instances       Size\n"
          ]
        },
        {
          "name": "stderr",
          "output_type": "stream",
          "text": [
            "     98/100      4.82G     0.3093     0.7458      0.792         84        640: 100%|██████████| 4/4 [00:00<00:00,  4.61it/s]\n",
            "                 Class     Images  Instances      Box(P          R      mAP50  mAP50-95): 100%|██████████| 1/1 [00:00<00:00, 17.21it/s]"
          ]
        },
        {
          "name": "stdout",
          "output_type": "stream",
          "text": [
            "                   all          3         84       0.93      0.949      0.993      0.977\n"
          ]
        },
        {
          "name": "stderr",
          "output_type": "stream",
          "text": [
            "\n"
          ]
        },
        {
          "name": "stdout",
          "output_type": "stream",
          "text": [
            "\n",
            "      Epoch    GPU_mem   box_loss   cls_loss   dfl_loss  Instances       Size\n"
          ]
        },
        {
          "name": "stderr",
          "output_type": "stream",
          "text": [
            "     99/100      4.83G     0.2851     0.7518     0.7863         57        640: 100%|██████████| 4/4 [00:00<00:00,  4.77it/s]\n",
            "                 Class     Images  Instances      Box(P          R      mAP50  mAP50-95): 100%|██████████| 1/1 [00:00<00:00, 15.80it/s]"
          ]
        },
        {
          "name": "stdout",
          "output_type": "stream",
          "text": [
            "                   all          3         84      0.932      0.948      0.993      0.974\n"
          ]
        },
        {
          "name": "stderr",
          "output_type": "stream",
          "text": [
            "\n"
          ]
        },
        {
          "name": "stdout",
          "output_type": "stream",
          "text": [
            "\n",
            "      Epoch    GPU_mem   box_loss   cls_loss   dfl_loss  Instances       Size\n"
          ]
        },
        {
          "name": "stderr",
          "output_type": "stream",
          "text": [
            "    100/100      4.85G     0.2938     0.6953     0.7868         70        640: 100%|██████████| 4/4 [00:00<00:00,  4.69it/s]\n",
            "                 Class     Images  Instances      Box(P          R      mAP50  mAP50-95): 100%|██████████| 1/1 [00:00<00:00, 17.04it/s]"
          ]
        },
        {
          "name": "stdout",
          "output_type": "stream",
          "text": [
            "                   all          3         84      0.934      0.947      0.993      0.974\n"
          ]
        },
        {
          "name": "stderr",
          "output_type": "stream",
          "text": [
            "\n"
          ]
        },
        {
          "name": "stdout",
          "output_type": "stream",
          "text": [
            "\n",
            "100 epochs completed in 0.039 hours.\n",
            "Optimizer stripped from runs/detect/train/weights/last.pt, 5.5MB\n",
            "Optimizer stripped from runs/detect/train/weights/best.pt, 5.5MB\n",
            "\n",
            "Validating runs/detect/train/weights/best.pt...\n",
            "Ultralytics 8.3.150 🚀 Python-3.11.13 torch-2.6.0+cu124 CUDA:0 (Tesla T4, 15095MiB)\n",
            "YOLO11n summary (fused): 100 layers, 2,583,322 parameters, 0 gradients, 6.3 GFLOPs\n"
          ]
        },
        {
          "name": "stderr",
          "output_type": "stream",
          "text": [
            "                 Class     Images  Instances      Box(P          R      mAP50  mAP50-95): 100%|██████████| 1/1 [00:00<00:00, 17.07it/s]\n"
          ]
        },
        {
          "name": "stdout",
          "output_type": "stream",
          "text": [
            "                   all          3         84      0.929       0.95      0.993      0.977\n",
            "                Bishop          3         12      0.948          1      0.995      0.995\n",
            "                  King          3          6      0.884          1      0.995      0.995\n",
            "                Knight          3          6        0.9          1      0.995      0.976\n",
            "                  Pawn          3         42          1      0.698      0.982      0.928\n",
            "                 Queen          3          6      0.874          1      0.995      0.995\n",
            "                  Rook          3         12      0.971          1      0.995      0.971\n",
            "Speed: 0.4ms preprocess, 8.2ms inference, 0.0ms loss, 4.2ms postprocess per image\n",
            "Results saved to \u001b[1mruns/detect/train\u001b[0m\n"
          ]
        }
      ],
      "source": [
        "!pip install ultralytics\n",
        "from ultralytics import YOLO\n",
        "\n",
        "# Load a COCO-pretrained YOLO11n model\n",
        "model = YOLO(\"yolo11n.pt\")\n",
        "\n",
        "# Train the model on the COCO8 example dataset for 100 epochs\n",
        "results = model.train(data=\"/content/Chess_Detection-1/data.yaml\", epochs=100, imgsz=640)"
      ]
    },
    {
      "cell_type": "code",
      "execution_count": 9,
      "metadata": {
        "colab": {
          "base_uri": "https://localhost:8080/"
        },
        "id": "72X0slt8hHdM",
        "outputId": "d9a6c20d-3473-460e-da15-707bdc561b38"
      },
      "outputs": [
        {
          "name": "stdout",
          "output_type": "stream",
          "text": [
            "Ultralytics 8.3.150 🚀 Python-3.11.13 torch-2.6.0+cu124 CUDA:0 (Tesla T4, 15095MiB)\n",
            "YOLO11n summary (fused): 100 layers, 2,583,322 parameters, 0 gradients, 6.3 GFLOPs\n",
            "\n",
            "image 1/1 /content/chess.png: 640x640 4 Bishops, 2 Kings, 4 Knights, 16 Pawns, 2 Queens, 4 Rooks, 19.8ms\n",
            "Speed: 8.4ms preprocess, 19.8ms inference, 172.4ms postprocess per image at shape (1, 3, 640, 640)\n",
            "Results saved to \u001b[1mruns/detect/predict5\u001b[0m\n",
            "💡 Learn more at https://docs.ultralytics.com/modes/predict\n"
          ]
        }
      ],
      "source": [
        "!yolo predict model=/content/runs/detect/train/weights/best.pt source=chess.png imgsz=640 show_conf=False"
      ]
    },
    {
      "attachments": {
        "image.png": {
          "image/png": "[encoded data removed]"
        }
      },
      "cell_type": "markdown",
      "metadata": {},
      "source": [
        "![image.png](attachment:image.png)"
      ]
    },
    {
      "cell_type": "code",
      "execution_count": 10,
      "metadata": {
        "colab": {
          "base_uri": "https://localhost:8080/"
        },
        "id": "PgPnZjj8jw3R",
        "outputId": "e3dbff2b-3250-4ff1-a805-5fd94fbf42e8"
      },
      "outputs": [
        {
          "name": "stdout",
          "output_type": "stream",
          "text": [
            "Ultralytics 8.3.150 🚀 Python-3.11.13 torch-2.6.0+cu124 CUDA:0 (Tesla T4, 15095MiB)\n",
            "YOLO11n summary (fused): 100 layers, 2,583,322 parameters, 0 gradients, 6.3 GFLOPs\n",
            "\n",
            "video 1/1 (frame 1/1001) /content/chess.mp4: 640x640 4 Bishops, 2 Kings, 4 Knights, 16 Pawns, 2 Queens, 4 Rooks, 9.4ms\n",
            "video 1/1 (frame 2/1001) /content/chess.mp4: 640x640 4 Bishops, 2 Kings, 4 Knights, 16 Pawns, 2 Queens, 4 Rooks, 9.1ms\n",
            "video 1/1 (frame 3/1001) /content/chess.mp4: 640x640 4 Bishops, 2 Kings, 4 Knights, 16 Pawns, 2 Queens, 4 Rooks, 8.4ms\n",
            "video 1/1 (frame 4/1001) /content/chess.mp4: 640x640 4 Bishops, 2 Kings, 4 Knights, 17 Pawns, 2 Queens, 4 Rooks, 8.4ms\n",
            "video 1/1 (frame 5/1001) /content/chess.mp4: 640x640 4 Bishops, 2 Kings, 4 Knights, 17 Pawns, 2 Queens, 4 Rooks, 8.5ms\n",
            "video 1/1 (frame 6/1001) /content/chess.mp4: 640x640 4 Bishops, 2 Kings, 4 Knights, 17 Pawns, 2 Queens, 4 Rooks, 8.7ms\n",
            "video 1/1 (frame 7/1001) /content/chess.mp4: 640x640 4 Bishops, 2 Kings, 4 Knights, 17 Pawns, 2 Queens, 4 Rooks, 8.6ms\n",
            "video 1/1 (frame 8/1001) /content/chess.mp4: 640x640 4 Bishops, 2 Kings, 4 Knights, 17 Pawns, 2 Queens, 4 Rooks, 8.2ms\n",
            "video 1/1 (frame 9/1001) /content/chess.mp4: 640x640 4 Bishops, 2 Kings, 4 Knights, 17 Pawns, 2 Queens, 4 Rooks, 8.3ms\n",
            "video 1/1 (frame 10/1001) /content/chess.mp4: 640x640 4 Bishops, 2 Kings, 4 Knights, 17 Pawns, 2 Queens, 4 Rooks, 8.3ms\n",
            "video 1/1 (frame 11/1001) /content/chess.mp4: 640x640 4 Bishops, 2 Kings, 4 Knights, 17 Pawns, 2 Queens, 4 Rooks, 12.9ms\n",
            "video 1/1 (frame 12/1001) /content/chess.mp4: 640x640 4 Bishops, 2 Kings, 4 Knights, 17 Pawns, 2 Queens, 4 Rooks, 8.4ms\n",
            "video 1/1 (frame 13/1001) /content/chess.mp4: 640x640 4 Bishops, 2 Kings, 4 Knights, 17 Pawns, 2 Queens, 4 Rooks, 8.3ms\n",
            "video 1/1 (frame 14/1001) /content/chess.mp4: 640x640 4 Bishops, 2 Kings, 4 Knights, 17 Pawns, 2 Queens, 4 Rooks, 11.1ms\n",
            "video 1/1 (frame 15/1001) /content/chess.mp4: 640x640 4 Bishops, 2 Kings, 4 Knights, 17 Pawns, 2 Queens, 4 Rooks, 8.6ms\n",
            "video 1/1 (frame 16/1001) /content/chess.mp4: 640x640 4 Bishops, 2 Kings, 4 Knights, 17 Pawns, 2 Queens, 4 Rooks, 8.7ms\n",
            "video 1/1 (frame 17/1001) /content/chess.mp4: 640x640 4 Bishops, 2 Kings, 4 Knights, 17 Pawns, 2 Queens, 4 Rooks, 8.3ms\n",
            "video 1/1 (frame 18/1001) /content/chess.mp4: 640x640 4 Bishops, 2 Kings, 4 Knights, 16 Pawns, 2 Queens, 4 Rooks, 8.6ms\n",
            "video 1/1 (frame 19/1001) /content/chess.mp4: 640x640 4 Bishops, 2 Kings, 4 Knights, 16 Pawns, 2 Queens, 4 Rooks, 11.4ms\n",
            "video 1/1 (frame 20/1001) /content/chess.mp4: 640x640 4 Bishops, 2 Kings, 4 Knights, 16 Pawns, 2 Queens, 4 Rooks, 8.4ms\n",
            "video 1/1 (frame 21/1001) /content/chess.mp4: 640x640 4 Bishops, 2 Kings, 4 Knights, 16 Pawns, 2 Queens, 4 Rooks, 8.5ms\n",
            "video 1/1 (frame 22/1001) /content/chess.mp4: 640x640 4 Bishops, 2 Kings, 4 Knights, 17 Pawns, 2 Queens, 4 Rooks, 8.4ms\n",
            "video 1/1 (frame 23/1001) /content/chess.mp4: 640x640 4 Bishops, 2 Kings, 4 Knights, 17 Pawns, 2 Queens, 4 Rooks, 8.3ms\n",
            "video 1/1 (frame 24/1001) /content/chess.mp4: 640x640 4 Bishops, 2 Kings, 4 Knights, 17 Pawns, 2 Queens, 4 Rooks, 8.2ms\n",
            "video 1/1 (frame 25/1001) /content/chess.mp4: 640x640 4 Bishops, 2 Kings, 4 Knights, 17 Pawns, 2 Queens, 4 Rooks, 8.2ms\n",
            "video 1/1 (frame 26/1001) /content/chess.mp4: 640x640 4 Bishops, 2 Kings, 4 Knights, 16 Pawns, 2 Queens, 4 Rooks, 8.3ms\n",
            "video 1/1 (frame 27/1001) /content/chess.mp4: 640x640 4 Bishops, 2 Kings, 4 Knights, 16 Pawns, 2 Queens, 4 Rooks, 10.4ms\n",
            "video 1/1 (frame 28/1001) /content/chess.mp4: 640x640 4 Bishops, 2 Kings, 4 Knights, 16 Pawns, 2 Queens, 4 Rooks, 8.2ms\n",
            "video 1/1 (frame 29/1001) /content/chess.mp4: 640x640 4 Bishops, 2 Kings, 4 Knights, 16 Pawns, 2 Queens, 4 Rooks, 8.1ms\n",
            "video 1/1 (frame 30/1001) /content/chess.mp4: 640x640 4 Bishops, 2 Kings, 4 Knights, 17 Pawns, 2 Queens, 4 Rooks, 8.3ms\n",
            "video 1/1 (frame 31/1001) /content/chess.mp4: 640x640 4 Bishops, 2 Kings, 4 Knights, 17 Pawns, 2 Queens, 4 Rooks, 16.2ms\n",
            "video 1/1 (frame 32/1001) /content/chess.mp4: 640x640 4 Bishops, 2 Kings, 4 Knights, 17 Pawns, 2 Queens, 4 Rooks, 8.4ms\n",
            "video 1/1 (frame 33/1001) /content/chess.mp4: 640x640 4 Bishops, 2 Kings, 4 Knights, 17 Pawns, 2 Queens, 4 Rooks, 8.1ms\n",
            "video 1/1 (frame 34/1001) /content/chess.mp4: 640x640 4 Bishops, 2 Kings, 4 Knights, 17 Pawns, 2 Queens, 4 Rooks, 8.2ms\n",
            "video 1/1 (frame 35/1001) /content/chess.mp4: 640x640 4 Bishops, 2 Kings, 4 Knights, 17 Pawns, 2 Queens, 4 Rooks, 8.2ms\n",
            "video 1/1 (frame 36/1001) /content/chess.mp4: 640x640 4 Bishops, 2 Kings, 4 Knights, 17 Pawns, 2 Queens, 4 Rooks, 8.4ms\n",
            "video 1/1 (frame 37/1001) /content/chess.mp4: 640x640 4 Bishops, 2 Kings, 4 Knights, 17 Pawns, 2 Queens, 4 Rooks, 8.2ms\n",
            "video 1/1 (frame 38/1001) /content/chess.mp4: 640x640 4 Bishops, 2 Kings, 4 Knights, 17 Pawns, 2 Queens, 4 Rooks, 8.2ms\n",
            "video 1/1 (frame 39/1001) /content/chess.mp4: 640x640 4 Bishops, 2 Kings, 4 Knights, 17 Pawns, 2 Queens, 4 Rooks, 10.6ms\n",
            "video 1/1 (frame 40/1001) /content/chess.mp4: 640x640 4 Bishops, 2 Kings, 4 Knights, 17 Pawns, 2 Queens, 4 Rooks, 8.6ms\n",
            "video 1/1 (frame 41/1001) /content/chess.mp4: 640x640 4 Bishops, 2 Kings, 4 Knights, 17 Pawns, 2 Queens, 4 Rooks, 8.7ms\n",
            "video 1/1 (frame 42/1001) /content/chess.mp4: 640x640 4 Bishops, 2 Kings, 4 Knights, 17 Pawns, 2 Queens, 4 Rooks, 9.1ms\n",
            "video 1/1 (frame 43/1001) /content/chess.mp4: 640x640 4 Bishops, 2 Kings, 4 Knights, 17 Pawns, 2 Queens, 4 Rooks, 8.6ms\n",
            "video 1/1 (frame 44/1001) /content/chess.mp4: 640x640 4 Bishops, 2 Kings, 4 Knights, 17 Pawns, 2 Queens, 4 Rooks, 8.8ms\n",
            "video 1/1 (frame 45/1001) /content/chess.mp4: 640x640 4 Bishops, 2 Kings, 4 Knights, 17 Pawns, 2 Queens, 4 Rooks, 9.4ms\n",
            "video 1/1 (frame 46/1001) /content/chess.mp4: 640x640 4 Bishops, 2 Kings, 4 Knights, 17 Pawns, 2 Queens, 4 Rooks, 8.7ms\n",
            "video 1/1 (frame 47/1001) /content/chess.mp4: 640x640 4 Bishops, 2 Kings, 4 Knights, 17 Pawns, 2 Queens, 4 Rooks, 8.6ms\n",
            "video 1/1 (frame 48/1001) /content/chess.mp4: 640x640 4 Bishops, 2 Kings, 4 Knights, 17 Pawns, 2 Queens, 4 Rooks, 8.6ms\n",
            "video 1/1 (frame 49/1001) /content/chess.mp4: 640x640 4 Bishops, 2 Kings, 4 Knights, 17 Pawns, 2 Queens, 4 Rooks, 8.3ms\n",
            "video 1/1 (frame 50/1001) /content/chess.mp4: 640x640 4 Bishops, 2 Kings, 4 Knights, 17 Pawns, 2 Queens, 4 Rooks, 8.2ms\n",
            "video 1/1 (frame 51/1001) /content/chess.mp4: 640x640 4 Bishops, 2 Kings, 4 Knights, 17 Pawns, 2 Queens, 4 Rooks, 9.6ms\n",
            "video 1/1 (frame 52/1001) /content/chess.mp4: 640x640 4 Bishops, 2 Kings, 4 Knights, 17 Pawns, 2 Queens, 4 Rooks, 8.7ms\n",
            "video 1/1 (frame 53/1001) /content/chess.mp4: 640x640 4 Bishops, 2 Kings, 4 Knights, 17 Pawns, 2 Queens, 4 Rooks, 8.7ms\n",
            "video 1/1 (frame 54/1001) /content/chess.mp4: 640x640 4 Bishops, 2 Kings, 4 Knights, 17 Pawns, 2 Queens, 4 Rooks, 8.2ms\n",
            "video 1/1 (frame 55/1001) /content/chess.mp4: 640x640 4 Bishops, 2 Kings, 4 Knights, 17 Pawns, 2 Queens, 4 Rooks, 9.4ms\n",
            "video 1/1 (frame 56/1001) /content/chess.mp4: 640x640 4 Bishops, 2 Kings, 4 Knights, 18 Pawns, 2 Queens, 4 Rooks, 11.7ms\n",
            "video 1/1 (frame 57/1001) /content/chess.mp4: 640x640 4 Bishops, 2 Kings, 4 Knights, 17 Pawns, 2 Queens, 4 Rooks, 8.2ms\n",
            "video 1/1 (frame 58/1001) /content/chess.mp4: 640x640 4 Bishops, 2 Kings, 4 Knights, 18 Pawns, 2 Queens, 4 Rooks, 8.2ms\n",
            "video 1/1 (frame 59/1001) /content/chess.mp4: 640x640 4 Bishops, 2 Kings, 4 Knights, 17 Pawns, 2 Queens, 4 Rooks, 8.7ms\n",
            "video 1/1 (frame 60/1001) /content/chess.mp4: 640x640 4 Bishops, 2 Kings, 4 Knights, 18 Pawns, 2 Queens, 4 Rooks, 8.4ms\n",
            "video 1/1 (frame 61/1001) /content/chess.mp4: 640x640 4 Bishops, 2 Kings, 4 Knights, 17 Pawns, 2 Queens, 4 Rooks, 8.5ms\n",
            "video 1/1 (frame 62/1001) /content/chess.mp4: 640x640 4 Bishops, 2 Kings, 4 Knights, 18 Pawns, 2 Queens, 4 Rooks, 8.5ms\n",
            "video 1/1 (frame 63/1001) /content/chess.mp4: 640x640 4 Bishops, 2 Kings, 4 Knights, 17 Pawns, 2 Queens, 4 Rooks, 8.2ms\n",
            "video 1/1 (frame 64/1001) /content/chess.mp4: 640x640 4 Bishops, 2 Kings, 4 Knights, 17 Pawns, 2 Queens, 4 Rooks, 8.3ms\n",
            "video 1/1 (frame 65/1001) /content/chess.mp4: 640x640 4 Bishops, 2 Kings, 4 Knights, 17 Pawns, 2 Queens, 4 Rooks, 8.5ms\n",
            "video 1/1 (frame 66/1001) /content/chess.mp4: 640x640 4 Bishops, 2 Kings, 4 Knights, 17 Pawns, 2 Queens, 4 Rooks, 8.2ms\n",
            "video 1/1 (frame 67/1001) /content/chess.mp4: 640x640 4 Bishops, 2 Kings, 4 Knights, 17 Pawns, 2 Queens, 4 Rooks, 8.2ms\n",
            "video 1/1 (frame 68/1001) /content/chess.mp4: 640x640 4 Bishops, 2 Kings, 4 Knights, 17 Pawns, 2 Queens, 4 Rooks, 9.9ms\n",
            "video 1/1 (frame 69/1001) /content/chess.mp4: 640x640 4 Bishops, 2 Kings, 4 Knights, 17 Pawns, 2 Queens, 4 Rooks, 8.8ms\n",
            "video 1/1 (frame 70/1001) /content/chess.mp4: 640x640 4 Bishops, 2 Kings, 4 Knights, 17 Pawns, 2 Queens, 4 Rooks, 8.3ms\n",
            "video 1/1 (frame 71/1001) /content/chess.mp4: 640x640 4 Bishops, 2 Kings, 4 Knights, 17 Pawns, 2 Queens, 4 Rooks, 9.0ms\n",
            "video 1/1 (frame 72/1001) /content/chess.mp4: 640x640 4 Bishops, 2 Kings, 4 Knights, 17 Pawns, 2 Queens, 4 Rooks, 8.4ms\n",
            "video 1/1 (frame 73/1001) /content/chess.mp4: 640x640 4 Bishops, 2 Kings, 4 Knights, 9 Pawns, 2 Queens, 4 Rooks, 8.9ms\n",
            "video 1/1 (frame 74/1001) /content/chess.mp4: 640x640 4 Bishops, 2 Kings, 4 Knights, 9 Pawns, 2 Queens, 4 Rooks, 15.0ms\n",
            "video 1/1 (frame 75/1001) /content/chess.mp4: 640x640 4 Bishops, 2 Kings, 4 Knights, 10 Pawns, 2 Queens, 4 Rooks, 8.9ms\n",
            "video 1/1 (frame 76/1001) /content/chess.mp4: 640x640 4 Bishops, 2 Kings, 4 Knights, 9 Pawns, 2 Queens, 4 Rooks, 8.5ms\n",
            "video 1/1 (frame 77/1001) /content/chess.mp4: 640x640 4 Bishops, 2 Kings, 4 Knights, 9 Pawns, 2 Queens, 4 Rooks, 8.7ms\n",
            "video 1/1 (frame 78/1001) /content/chess.mp4: 640x640 4 Bishops, 2 Kings, 4 Knights, 9 Pawns, 2 Queens, 4 Rooks, 9.2ms\n",
            "video 1/1 (frame 79/1001) /content/chess.mp4: 640x640 4 Bishops, 2 Kings, 4 Knights, 9 Pawns, 2 Queens, 4 Rooks, 8.5ms\n",
            "video 1/1 (frame 80/1001) /content/chess.mp4: 640x640 4 Bishops, 2 Kings, 4 Knights, 9 Pawns, 2 Queens, 4 Rooks, 8.4ms\n",
            "video 1/1 (frame 81/1001) /content/chess.mp4: 640x640 4 Bishops, 2 Kings, 4 Knights, 9 Pawns, 2 Queens, 4 Rooks, 8.7ms\n",
            "video 1/1 (frame 82/1001) /content/chess.mp4: 640x640 4 Bishops, 2 Kings, 4 Knights, 9 Pawns, 2 Queens, 4 Rooks, 8.5ms\n",
            "video 1/1 (frame 83/1001) /content/chess.mp4: 640x640 4 Bishops, 2 Kings, 4 Knights, 9 Pawns, 2 Queens, 4 Rooks, 8.6ms\n",
            "video 1/1 (frame 84/1001) /content/chess.mp4: 640x640 4 Bishops, 2 Kings, 4 Knights, 11 Pawns, 2 Queens, 4 Rooks, 10.7ms\n",
            "video 1/1 (frame 85/1001) /content/chess.mp4: 640x640 4 Bishops, 2 Kings, 4 Knights, 11 Pawns, 2 Queens, 4 Rooks, 8.6ms\n",
            "video 1/1 (frame 86/1001) /content/chess.mp4: 640x640 4 Bishops, 2 Kings, 4 Knights, 11 Pawns, 2 Queens, 4 Rooks, 10.3ms\n",
            "video 1/1 (frame 87/1001) /content/chess.mp4: 640x640 4 Bishops, 2 Kings, 4 Knights, 11 Pawns, 2 Queens, 4 Rooks, 8.2ms\n",
            "video 1/1 (frame 88/1001) /content/chess.mp4: 640x640 4 Bishops, 2 Kings, 4 Knights, 12 Pawns, 2 Queens, 4 Rooks, 8.2ms\n",
            "video 1/1 (frame 89/1001) /content/chess.mp4: 640x640 4 Bishops, 2 Kings, 4 Knights, 12 Pawns, 2 Queens, 4 Rooks, 8.7ms\n",
            "video 1/1 (frame 90/1001) /content/chess.mp4: 640x640 4 Bishops, 2 Kings, 4 Knights, 10 Pawns, 2 Queens, 4 Rooks, 8.9ms\n",
            "video 1/1 (frame 91/1001) /content/chess.mp4: 640x640 4 Bishops, 2 Kings, 4 Knights, 10 Pawns, 2 Queens, 4 Rooks, 8.3ms\n",
            "video 1/1 (frame 92/1001) /content/chess.mp4: 640x640 4 Bishops, 2 Kings, 4 Knights, 10 Pawns, 2 Queens, 4 Rooks, 8.7ms\n",
            "video 1/1 (frame 93/1001) /content/chess.mp4: 640x640 4 Bishops, 2 Kings, 4 Knights, 10 Pawns, 2 Queens, 4 Rooks, 8.5ms\n",
            "video 1/1 (frame 94/1001) /content/chess.mp4: 640x640 4 Bishops, 2 Kings, 4 Knights, 10 Pawns, 2 Queens, 4 Rooks, 9.0ms\n",
            "video 1/1 (frame 95/1001) /content/chess.mp4: 640x640 4 Bishops, 2 Kings, 4 Knights, 10 Pawns, 2 Queens, 4 Rooks, 10.4ms\n",
            "video 1/1 (frame 96/1001) /content/chess.mp4: 640x640 4 Bishops, 2 Kings, 4 Knights, 10 Pawns, 2 Queens, 4 Rooks, 8.4ms\n",
            "video 1/1 (frame 97/1001) /content/chess.mp4: 640x640 4 Bishops, 2 Kings, 4 Knights, 10 Pawns, 2 Queens, 4 Rooks, 8.4ms\n",
            "video 1/1 (frame 98/1001) /content/chess.mp4: 640x640 4 Bishops, 2 Kings, 4 Knights, 11 Pawns, 2 Queens, 4 Rooks, 10.8ms\n",
            "video 1/1 (frame 99/1001) /content/chess.mp4: 640x640 4 Bishops, 2 Kings, 4 Knights, 11 Pawns, 2 Queens, 4 Rooks, 9.5ms\n",
            "video 1/1 (frame 100/1001) /content/chess.mp4: 640x640 4 Bishops, 2 Kings, 4 Knights, 10 Pawns, 2 Queens, 4 Rooks, 8.6ms\n",
            "video 1/1 (frame 101/1001) /content/chess.mp4: 640x640 4 Bishops, 2 Kings, 4 Knights, 11 Pawns, 2 Queens, 4 Rooks, 8.6ms\n",
            "video 1/1 (frame 102/1001) /content/chess.mp4: 640x640 4 Bishops, 2 Kings, 4 Knights, 11 Pawns, 2 Queens, 4 Rooks, 8.7ms\n",
            "video 1/1 (frame 103/1001) /content/chess.mp4: 640x640 4 Bishops, 2 Kings, 4 Knights, 11 Pawns, 2 Queens, 4 Rooks, 8.4ms\n",
            "video 1/1 (frame 104/1001) /content/chess.mp4: 640x640 4 Bishops, 2 Kings, 4 Knights, 11 Pawns, 2 Queens, 4 Rooks, 8.5ms\n",
            "video 1/1 (frame 105/1001) /content/chess.mp4: 640x640 4 Bishops, 2 Kings, 4 Knights, 11 Pawns, 2 Queens, 4 Rooks, 8.5ms\n",
            "video 1/1 (frame 106/1001) /content/chess.mp4: 640x640 4 Bishops, 2 Kings, 4 Knights, 11 Pawns, 2 Queens, 4 Rooks, 8.3ms\n",
            "video 1/1 (frame 107/1001) /content/chess.mp4: 640x640 4 Bishops, 2 Kings, 4 Knights, 11 Pawns, 2 Queens, 4 Rooks, 8.4ms\n",
            "video 1/1 (frame 108/1001) /content/chess.mp4: 640x640 4 Bishops, 2 Kings, 4 Knights, 11 Pawns, 2 Queens, 4 Rooks, 8.8ms\n",
            "video 1/1 (frame 109/1001) /content/chess.mp4: 640x640 4 Bishops, 2 Kings, 4 Knights, 17 Pawns, 2 Queens, 4 Rooks, 8.5ms\n",
            "video 1/1 (frame 110/1001) /content/chess.mp4: 640x640 4 Bishops, 2 Kings, 4 Knights, 17 Pawns, 2 Queens, 4 Rooks, 8.7ms\n",
            "video 1/1 (frame 111/1001) /content/chess.mp4: 640x640 4 Bishops, 2 Kings, 4 Knights, 17 Pawns, 2 Queens, 4 Rooks, 8.6ms\n",
            "video 1/1 (frame 112/1001) /content/chess.mp4: 640x640 4 Bishops, 2 Kings, 4 Knights, 16 Pawns, 2 Queens, 4 Rooks, 8.6ms\n",
            "video 1/1 (frame 113/1001) /content/chess.mp4: 640x640 4 Bishops, 2 Kings, 4 Knights, 16 Pawns, 2 Queens, 4 Rooks, 8.6ms\n",
            "video 1/1 (frame 114/1001) /content/chess.mp4: 640x640 4 Bishops, 2 Kings, 4 Knights, 16 Pawns, 2 Queens, 4 Rooks, 9.2ms\n",
            "video 1/1 (frame 115/1001) /content/chess.mp4: 640x640 4 Bishops, 2 Kings, 4 Knights, 16 Pawns, 2 Queens, 4 Rooks, 8.5ms\n",
            "video 1/1 (frame 116/1001) /content/chess.mp4: 640x640 4 Bishops, 2 Kings, 4 Knights, 16 Pawns, 2 Queens, 4 Rooks, 8.4ms\n",
            "video 1/1 (frame 117/1001) /content/chess.mp4: 640x640 4 Bishops, 2 Kings, 4 Knights, 16 Pawns, 2 Queens, 4 Rooks, 8.4ms\n",
            "video 1/1 (frame 118/1001) /content/chess.mp4: 640x640 4 Bishops, 2 Kings, 4 Knights, 16 Pawns, 2 Queens, 4 Rooks, 9.0ms\n",
            "video 1/1 (frame 119/1001) /content/chess.mp4: 640x640 4 Bishops, 2 Kings, 4 Knights, 16 Pawns, 2 Queens, 4 Rooks, 17.0ms\n",
            "video 1/1 (frame 120/1001) /content/chess.mp4: 640x640 4 Bishops, 2 Kings, 4 Knights, 16 Pawns, 2 Queens, 4 Rooks, 9.1ms\n",
            "video 1/1 (frame 121/1001) /content/chess.mp4: 640x640 4 Bishops, 2 Kings, 4 Knights, 16 Pawns, 2 Queens, 4 Rooks, 8.8ms\n",
            "video 1/1 (frame 122/1001) /content/chess.mp4: 640x640 4 Bishops, 2 Kings, 4 Knights, 16 Pawns, 2 Queens, 4 Rooks, 9.1ms\n",
            "video 1/1 (frame 123/1001) /content/chess.mp4: 640x640 4 Bishops, 2 Kings, 4 Knights, 16 Pawns, 2 Queens, 4 Rooks, 8.4ms\n",
            "video 1/1 (frame 124/1001) /content/chess.mp4: 640x640 4 Bishops, 2 Kings, 4 Knights, 16 Pawns, 2 Queens, 4 Rooks, 8.6ms\n",
            "video 1/1 (frame 125/1001) /content/chess.mp4: 640x640 4 Bishops, 2 Kings, 4 Knights, 16 Pawns, 2 Queens, 4 Rooks, 8.4ms\n",
            "video 1/1 (frame 126/1001) /content/chess.mp4: 640x640 4 Bishops, 2 Kings, 4 Knights, 16 Pawns, 2 Queens, 4 Rooks, 8.6ms\n",
            "video 1/1 (frame 127/1001) /content/chess.mp4: 640x640 4 Bishops, 2 Kings, 4 Knights, 16 Pawns, 2 Queens, 4 Rooks, 10.6ms\n",
            "video 1/1 (frame 128/1001) /content/chess.mp4: 640x640 4 Bishops, 2 Kings, 4 Knights, 16 Pawns, 2 Queens, 4 Rooks, 8.4ms\n",
            "video 1/1 (frame 129/1001) /content/chess.mp4: 640x640 4 Bishops, 2 Kings, 3 Knights, 15 Pawns, 2 Queens, 4 Rooks, 10.8ms\n",
            "video 1/1 (frame 130/1001) /content/chess.mp4: 640x640 4 Bishops, 2 Kings, 4 Knights, 15 Pawns, 2 Queens, 4 Rooks, 8.9ms\n",
            "video 1/1 (frame 131/1001) /content/chess.mp4: 640x640 4 Bishops, 2 Kings, 4 Knights, 15 Pawns, 2 Queens, 4 Rooks, 8.4ms\n",
            "video 1/1 (frame 132/1001) /content/chess.mp4: 640x640 4 Bishops, 2 Kings, 4 Knights, 16 Pawns, 2 Queens, 4 Rooks, 10.5ms\n",
            "video 1/1 (frame 133/1001) /content/chess.mp4: 640x640 4 Bishops, 2 Kings, 4 Knights, 15 Pawns, 2 Queens, 4 Rooks, 9.5ms\n",
            "video 1/1 (frame 134/1001) /content/chess.mp4: 640x640 4 Bishops, 2 Kings, 4 Knights, 16 Pawns, 2 Queens, 4 Rooks, 8.3ms\n",
            "video 1/1 (frame 135/1001) /content/chess.mp4: 640x640 4 Bishops, 2 Kings, 4 Knights, 16 Pawns, 2 Queens, 4 Rooks, 8.4ms\n",
            "video 1/1 (frame 136/1001) /content/chess.mp4: 640x640 4 Bishops, 2 Kings, 4 Knights, 16 Pawns, 2 Queens, 4 Rooks, 8.4ms\n",
            "video 1/1 (frame 137/1001) /content/chess.mp4: 640x640 4 Bishops, 2 Kings, 4 Knights, 16 Pawns, 2 Queens, 4 Rooks, 8.3ms\n",
            "video 1/1 (frame 138/1001) /content/chess.mp4: 640x640 4 Bishops, 2 Kings, 4 Knights, 16 Pawns, 2 Queens, 4 Rooks, 8.4ms\n",
            "video 1/1 (frame 139/1001) /content/chess.mp4: 640x640 4 Bishops, 2 Kings, 4 Knights, 16 Pawns, 2 Queens, 4 Rooks, 8.3ms\n",
            "video 1/1 (frame 140/1001) /content/chess.mp4: 640x640 4 Bishops, 2 Kings, 4 Knights, 17 Pawns, 2 Queens, 4 Rooks, 8.4ms\n",
            "video 1/1 (frame 141/1001) /content/chess.mp4: 640x640 4 Bishops, 2 Kings, 4 Knights, 17 Pawns, 2 Queens, 4 Rooks, 11.0ms\n",
            "video 1/1 (frame 142/1001) /content/chess.mp4: 640x640 4 Bishops, 2 Kings, 4 Knights, 16 Pawns, 2 Queens, 4 Rooks, 10.4ms\n",
            "video 1/1 (frame 143/1001) /content/chess.mp4: 640x640 4 Bishops, 2 Kings, 4 Knights, 17 Pawns, 2 Queens, 4 Rooks, 8.9ms\n",
            "video 1/1 (frame 144/1001) /content/chess.mp4: 640x640 4 Bishops, 2 Kings, 4 Knights, 17 Pawns, 2 Queens, 4 Rooks, 8.5ms\n",
            "video 1/1 (frame 145/1001) /content/chess.mp4: 640x640 4 Bishops, 2 Kings, 4 Knights, 16 Pawns, 2 Queens, 4 Rooks, 8.5ms\n",
            "video 1/1 (frame 146/1001) /content/chess.mp4: 640x640 4 Bishops, 2 Kings, 4 Knights, 16 Pawns, 2 Queens, 4 Rooks, 8.9ms\n",
            "video 1/1 (frame 147/1001) /content/chess.mp4: 640x640 4 Bishops, 2 Kings, 4 Knights, 16 Pawns, 2 Queens, 4 Rooks, 8.6ms\n",
            "video 1/1 (frame 148/1001) /content/chess.mp4: 640x640 4 Bishops, 2 Kings, 4 Knights, 16 Pawns, 2 Queens, 4 Rooks, 11.9ms\n",
            "video 1/1 (frame 149/1001) /content/chess.mp4: 640x640 4 Bishops, 2 Kings, 4 Knights, 16 Pawns, 2 Queens, 4 Rooks, 8.5ms\n",
            "video 1/1 (frame 150/1001) /content/chess.mp4: 640x640 4 Bishops, 2 Kings, 4 Knights, 16 Pawns, 2 Queens, 4 Rooks, 8.5ms\n",
            "video 1/1 (frame 151/1001) /content/chess.mp4: 640x640 4 Bishops, 2 Kings, 4 Knights, 16 Pawns, 2 Queens, 4 Rooks, 8.9ms\n",
            "video 1/1 (frame 152/1001) /content/chess.mp4: 640x640 4 Bishops, 2 Kings, 4 Knights, 16 Pawns, 2 Queens, 4 Rooks, 8.4ms\n",
            "video 1/1 (frame 153/1001) /content/chess.mp4: 640x640 4 Bishops, 2 Kings, 4 Knights, 16 Pawns, 2 Queens, 4 Rooks, 10.2ms\n",
            "video 1/1 (frame 154/1001) /content/chess.mp4: 640x640 4 Bishops, 2 Kings, 4 Knights, 16 Pawns, 2 Queens, 4 Rooks, 8.4ms\n",
            "video 1/1 (frame 155/1001) /content/chess.mp4: 640x640 4 Bishops, 2 Kings, 4 Knights, 16 Pawns, 2 Queens, 4 Rooks, 8.2ms\n",
            "video 1/1 (frame 156/1001) /content/chess.mp4: 640x640 4 Bishops, 2 Kings, 4 Knights, 16 Pawns, 2 Queens, 4 Rooks, 8.5ms\n",
            "video 1/1 (frame 157/1001) /content/chess.mp4: 640x640 4 Bishops, 2 Kings, 4 Knights, 16 Pawns, 2 Queens, 4 Rooks, 8.2ms\n",
            "video 1/1 (frame 158/1001) /content/chess.mp4: 640x640 4 Bishops, 2 Kings, 4 Knights, 16 Pawns, 2 Queens, 4 Rooks, 8.4ms\n",
            "video 1/1 (frame 159/1001) /content/chess.mp4: 640x640 4 Bishops, 2 Kings, 4 Knights, 16 Pawns, 2 Queens, 4 Rooks, 8.8ms\n",
            "video 1/1 (frame 160/1001) /content/chess.mp4: 640x640 4 Bishops, 2 Kings, 4 Knights, 16 Pawns, 2 Queens, 4 Rooks, 8.4ms\n",
            "video 1/1 (frame 161/1001) /content/chess.mp4: 640x640 4 Bishops, 2 Kings, 4 Knights, 16 Pawns, 2 Queens, 4 Rooks, 8.4ms\n",
            "video 1/1 (frame 162/1001) /content/chess.mp4: 640x640 4 Bishops, 2 Kings, 4 Knights, 16 Pawns, 2 Queens, 4 Rooks, 14.9ms\n",
            "video 1/1 (frame 163/1001) /content/chess.mp4: 640x640 4 Bishops, 2 Kings, 4 Knights, 16 Pawns, 2 Queens, 4 Rooks, 9.4ms\n",
            "video 1/1 (frame 164/1001) /content/chess.mp4: 640x640 4 Bishops, 2 Kings, 4 Knights, 16 Pawns, 2 Queens, 4 Rooks, 8.4ms\n",
            "video 1/1 (frame 165/1001) /content/chess.mp4: 640x640 4 Bishops, 2 Kings, 4 Knights, 15 Pawns, 2 Queens, 4 Rooks, 8.8ms\n",
            "video 1/1 (frame 166/1001) /content/chess.mp4: 640x640 4 Bishops, 2 Kings, 4 Knights, 15 Pawns, 2 Queens, 4 Rooks, 8.3ms\n",
            "video 1/1 (frame 167/1001) /content/chess.mp4: 640x640 4 Bishops, 2 Kings, 4 Knights, 15 Pawns, 2 Queens, 4 Rooks, 8.6ms\n",
            "video 1/1 (frame 168/1001) /content/chess.mp4: 640x640 4 Bishops, 2 Kings, 4 Knights, 15 Pawns, 2 Queens, 4 Rooks, 8.3ms\n",
            "video 1/1 (frame 169/1001) /content/chess.mp4: 640x640 4 Bishops, 2 Kings, 4 Knights, 15 Pawns, 2 Queens, 4 Rooks, 10.2ms\n",
            "video 1/1 (frame 170/1001) /content/chess.mp4: 640x640 4 Bishops, 2 Kings, 4 Knights, 15 Pawns, 2 Queens, 4 Rooks, 8.3ms\n",
            "video 1/1 (frame 171/1001) /content/chess.mp4: 640x640 4 Bishops, 2 Kings, 4 Knights, 15 Pawns, 2 Queens, 4 Rooks, 9.1ms\n",
            "video 1/1 (frame 172/1001) /content/chess.mp4: 640x640 4 Bishops, 2 Kings, 4 Knights, 15 Pawns, 2 Queens, 4 Rooks, 8.7ms\n",
            "video 1/1 (frame 173/1001) /content/chess.mp4: 640x640 4 Bishops, 2 Kings, 4 Knights, 15 Pawns, 2 Queens, 4 Rooks, 8.4ms\n",
            "video 1/1 (frame 174/1001) /content/chess.mp4: 640x640 4 Bishops, 2 Kings, 4 Knights, 15 Pawns, 2 Queens, 4 Rooks, 10.0ms\n",
            "video 1/1 (frame 175/1001) /content/chess.mp4: 640x640 4 Bishops, 2 Kings, 4 Knights, 15 Pawns, 2 Queens, 4 Rooks, 8.3ms\n",
            "video 1/1 (frame 176/1001) /content/chess.mp4: 640x640 4 Bishops, 2 Kings, 4 Knights, 15 Pawns, 2 Queens, 4 Rooks, 8.3ms\n",
            "video 1/1 (frame 177/1001) /content/chess.mp4: 640x640 4 Bishops, 2 Kings, 4 Knights, 15 Pawns, 2 Queens, 4 Rooks, 8.2ms\n",
            "video 1/1 (frame 178/1001) /content/chess.mp4: 640x640 4 Bishops, 2 Kings, 4 Knights, 15 Pawns, 2 Queens, 4 Rooks, 8.3ms\n",
            "video 1/1 (frame 179/1001) /content/chess.mp4: 640x640 4 Bishops, 2 Kings, 4 Knights, 15 Pawns, 2 Queens, 4 Rooks, 9.1ms\n",
            "video 1/1 (frame 180/1001) /content/chess.mp4: 640x640 4 Bishops, 2 Kings, 4 Knights, 15 Pawns, 2 Queens, 4 Rooks, 10.3ms\n",
            "video 1/1 (frame 181/1001) /content/chess.mp4: 640x640 4 Bishops, 2 Kings, 4 Knights, 15 Pawns, 2 Queens, 4 Rooks, 8.4ms\n",
            "video 1/1 (frame 182/1001) /content/chess.mp4: 640x640 4 Bishops, 2 Kings, 4 Knights, 15 Pawns, 2 Queens, 4 Rooks, 8.4ms\n",
            "video 1/1 (frame 183/1001) /content/chess.mp4: 640x640 4 Bishops, 2 Kings, 4 Knights, 15 Pawns, 2 Queens, 4 Rooks, 10.6ms\n",
            "video 1/1 (frame 184/1001) /content/chess.mp4: 640x640 4 Bishops, 2 Kings, 4 Knights, 15 Pawns, 2 Queens, 4 Rooks, 9.5ms\n",
            "video 1/1 (frame 185/1001) /content/chess.mp4: 640x640 4 Bishops, 2 Kings, 4 Knights, 15 Pawns, 2 Queens, 4 Rooks, 8.3ms\n",
            "video 1/1 (frame 186/1001) /content/chess.mp4: 640x640 4 Bishops, 2 Kings, 4 Knights, 15 Pawns, 2 Queens, 4 Rooks, 8.3ms\n",
            "video 1/1 (frame 187/1001) /content/chess.mp4: 640x640 4 Bishops, 2 Kings, 4 Knights, 15 Pawns, 2 Queens, 4 Rooks, 8.2ms\n",
            "video 1/1 (frame 188/1001) /content/chess.mp4: 640x640 4 Bishops, 2 Kings, 4 Knights, 15 Pawns, 2 Queens, 4 Rooks, 8.2ms\n",
            "video 1/1 (frame 189/1001) /content/chess.mp4: 640x640 4 Bishops, 2 Kings, 4 Knights, 15 Pawns, 2 Queens, 4 Rooks, 8.5ms\n",
            "video 1/1 (frame 190/1001) /content/chess.mp4: 640x640 4 Bishops, 2 Kings, 4 Knights, 15 Pawns, 2 Queens, 4 Rooks, 8.3ms\n",
            "video 1/1 (frame 191/1001) /content/chess.mp4: 640x640 4 Bishops, 2 Kings, 4 Knights, 15 Pawns, 2 Queens, 4 Rooks, 8.4ms\n",
            "video 1/1 (frame 192/1001) /content/chess.mp4: 640x640 4 Bishops, 2 Kings, 4 Knights, 15 Pawns, 2 Queens, 4 Rooks, 8.6ms\n",
            "video 1/1 (frame 193/1001) /content/chess.mp4: 640x640 4 Bishops, 2 Kings, 4 Knights, 15 Pawns, 2 Queens, 4 Rooks, 11.8ms\n",
            "video 1/1 (frame 194/1001) /content/chess.mp4: 640x640 4 Bishops, 2 Kings, 4 Knights, 15 Pawns, 2 Queens, 4 Rooks, 8.8ms\n",
            "video 1/1 (frame 195/1001) /content/chess.mp4: 640x640 4 Bishops, 2 Kings, 4 Knights, 15 Pawns, 2 Queens, 4 Rooks, 8.3ms\n",
            "video 1/1 (frame 196/1001) /content/chess.mp4: 640x640 4 Bishops, 2 Kings, 4 Knights, 15 Pawns, 2 Queens, 4 Rooks, 8.2ms\n",
            "video 1/1 (frame 197/1001) /content/chess.mp4: 640x640 4 Bishops, 2 Kings, 4 Knights, 15 Pawns, 2 Queens, 4 Rooks, 8.3ms\n",
            "video 1/1 (frame 198/1001) /content/chess.mp4: 640x640 4 Bishops, 2 Kings, 4 Knights, 15 Pawns, 2 Queens, 4 Rooks, 8.2ms\n",
            "video 1/1 (frame 199/1001) /content/chess.mp4: 640x640 4 Bishops, 2 Kings, 4 Knights, 15 Pawns, 2 Queens, 4 Rooks, 8.1ms\n",
            "video 1/1 (frame 200/1001) /content/chess.mp4: 640x640 4 Bishops, 2 Kings, 4 Knights, 15 Pawns, 2 Queens, 4 Rooks, 8.6ms\n",
            "video 1/1 (frame 201/1001) /content/chess.mp4: 640x640 4 Bishops, 2 Kings, 4 Knights, 15 Pawns, 2 Queens, 4 Rooks, 8.4ms\n",
            "video 1/1 (frame 202/1001) /content/chess.mp4: 640x640 4 Bishops, 2 Kings, 4 Knights, 15 Pawns, 2 Queens, 4 Rooks, 8.7ms\n",
            "video 1/1 (frame 203/1001) /content/chess.mp4: 640x640 4 Bishops, 2 Kings, 4 Knights, 15 Pawns, 2 Queens, 4 Rooks, 8.2ms\n",
            "video 1/1 (frame 204/1001) /content/chess.mp4: 640x640 3 Bishops, 2 Kings, 4 Knights, 9 Pawns, 2 Queens, 4 Rooks, 8.4ms\n",
            "video 1/1 (frame 205/1001) /content/chess.mp4: 640x640 4 Bishops, 2 Kings, 3 Knights, 7 Pawns, 2 Queens, 4 Rooks, 8.2ms\n",
            "video 1/1 (frame 206/1001) /content/chess.mp4: 640x640 4 Bishops, 2 Kings, 3 Knights, 9 Pawns, 2 Queens, 4 Rooks, 9.8ms\n",
            "video 1/1 (frame 207/1001) /content/chess.mp4: 640x640 4 Bishops, 2 Kings, 4 Knights, 15 Pawns, 2 Queens, 4 Rooks, 14.2ms\n",
            "video 1/1 (frame 208/1001) /content/chess.mp4: 640x640 4 Bishops, 2 Kings, 4 Knights, 15 Pawns, 2 Queens, 4 Rooks, 8.4ms\n",
            "video 1/1 (frame 209/1001) /content/chess.mp4: 640x640 4 Bishops, 2 Kings, 4 Knights, 15 Pawns, 2 Queens, 4 Rooks, 8.2ms\n",
            "video 1/1 (frame 210/1001) /content/chess.mp4: 640x640 4 Bishops, 2 Kings, 4 Knights, 15 Pawns, 2 Queens, 4 Rooks, 8.2ms\n",
            "video 1/1 (frame 211/1001) /content/chess.mp4: 640x640 4 Bishops, 2 Kings, 4 Knights, 15 Pawns, 2 Queens, 4 Rooks, 8.2ms\n",
            "video 1/1 (frame 212/1001) /content/chess.mp4: 640x640 4 Bishops, 2 Kings, 4 Knights, 15 Pawns, 2 Queens, 4 Rooks, 8.4ms\n",
            "video 1/1 (frame 213/1001) /content/chess.mp4: 640x640 4 Bishops, 2 Kings, 4 Knights, 15 Pawns, 2 Queens, 4 Rooks, 8.1ms\n",
            "video 1/1 (frame 214/1001) /content/chess.mp4: 640x640 4 Bishops, 2 Kings, 4 Knights, 15 Pawns, 2 Queens, 4 Rooks, 10.0ms\n",
            "video 1/1 (frame 215/1001) /content/chess.mp4: 640x640 4 Bishops, 2 Kings, 4 Knights, 15 Pawns, 2 Queens, 4 Rooks, 14.5ms\n",
            "video 1/1 (frame 216/1001) /content/chess.mp4: 640x640 4 Bishops, 2 Kings, 4 Knights, 15 Pawns, 2 Queens, 4 Rooks, 15.6ms\n",
            "video 1/1 (frame 217/1001) /content/chess.mp4: 640x640 4 Bishops, 2 Kings, 4 Knights, 15 Pawns, 2 Queens, 4 Rooks, 15.6ms\n",
            "video 1/1 (frame 218/1001) /content/chess.mp4: 640x640 4 Bishops, 2 Kings, 4 Knights, 15 Pawns, 2 Queens, 4 Rooks, 13.9ms\n",
            "video 1/1 (frame 219/1001) /content/chess.mp4: 640x640 4 Bishops, 2 Kings, 4 Knights, 15 Pawns, 2 Queens, 4 Rooks, 15.3ms\n",
            "video 1/1 (frame 220/1001) /content/chess.mp4: 640x640 4 Bishops, 2 Kings, 4 Knights, 15 Pawns, 2 Queens, 4 Rooks, 13.6ms\n",
            "video 1/1 (frame 221/1001) /content/chess.mp4: 640x640 4 Bishops, 2 Kings, 4 Knights, 16 Pawns, 2 Queens, 4 Rooks, 16.2ms\n",
            "video 1/1 (frame 222/1001) /content/chess.mp4: 640x640 4 Bishops, 2 Kings, 4 Knights, 15 Pawns, 2 Queens, 4 Rooks, 16.2ms\n",
            "video 1/1 (frame 223/1001) /content/chess.mp4: 640x640 4 Bishops, 2 Kings, 4 Knights, 14 Pawns, 2 Queens, 4 Rooks, 16.1ms\n",
            "video 1/1 (frame 224/1001) /content/chess.mp4: 640x640 4 Bishops, 2 Kings, 4 Knights, 14 Pawns, 2 Queens, 4 Rooks, 11.5ms\n",
            "video 1/1 (frame 225/1001) /content/chess.mp4: 640x640 4 Bishops, 2 Kings, 4 Knights, 14 Pawns, 2 Queens, 4 Rooks, 11.3ms\n",
            "video 1/1 (frame 226/1001) /content/chess.mp4: 640x640 4 Bishops, 2 Kings, 4 Knights, 14 Pawns, 2 Queens, 4 Rooks, 11.8ms\n",
            "video 1/1 (frame 227/1001) /content/chess.mp4: 640x640 4 Bishops, 2 Kings, 4 Knights, 15 Pawns, 2 Queens, 4 Rooks, 10.9ms\n",
            "video 1/1 (frame 228/1001) /content/chess.mp4: 640x640 4 Bishops, 2 Kings, 4 Knights, 11 Pawns, 2 Queens, 4 Rooks, 11.2ms\n",
            "video 1/1 (frame 229/1001) /content/chess.mp4: 640x640 4 Bishops, 2 Kings, 4 Knights, 11 Pawns, 2 Queens, 4 Rooks, 12.3ms\n",
            "video 1/1 (frame 230/1001) /content/chess.mp4: 640x640 4 Bishops, 2 Kings, 4 Knights, 11 Pawns, 2 Queens, 4 Rooks, 11.7ms\n",
            "video 1/1 (frame 231/1001) /content/chess.mp4: 640x640 4 Bishops, 2 Kings, 4 Knights, 11 Pawns, 2 Queens, 4 Rooks, 11.3ms\n",
            "video 1/1 (frame 232/1001) /content/chess.mp4: 640x640 4 Bishops, 2 Kings, 4 Knights, 11 Pawns, 2 Queens, 4 Rooks, 11.3ms\n",
            "video 1/1 (frame 233/1001) /content/chess.mp4: 640x640 4 Bishops, 2 Kings, 4 Knights, 11 Pawns, 2 Queens, 4 Rooks, 11.3ms\n",
            "video 1/1 (frame 234/1001) /content/chess.mp4: 640x640 4 Bishops, 2 Kings, 4 Knights, 11 Pawns, 2 Queens, 4 Rooks, 11.3ms\n",
            "video 1/1 (frame 235/1001) /content/chess.mp4: 640x640 4 Bishops, 2 Kings, 4 Knights, 11 Pawns, 2 Queens, 4 Rooks, 11.4ms\n",
            "video 1/1 (frame 236/1001) /content/chess.mp4: 640x640 4 Bishops, 2 Kings, 4 Knights, 11 Pawns, 2 Queens, 4 Rooks, 11.3ms\n",
            "video 1/1 (frame 237/1001) /content/chess.mp4: 640x640 4 Bishops, 2 Kings, 4 Knights, 11 Pawns, 2 Queens, 4 Rooks, 11.5ms\n",
            "video 1/1 (frame 238/1001) /content/chess.mp4: 640x640 4 Bishops, 2 Kings, 4 Knights, 14 Pawns, 2 Queens, 4 Rooks, 12.9ms\n",
            "video 1/1 (frame 239/1001) /content/chess.mp4: 640x640 4 Bishops, 2 Kings, 4 Knights, 14 Pawns, 2 Queens, 4 Rooks, 14.7ms\n",
            "video 1/1 (frame 240/1001) /content/chess.mp4: 640x640 4 Bishops, 2 Kings, 4 Knights, 11 Pawns, 2 Queens, 4 Rooks, 12.4ms\n",
            "video 1/1 (frame 241/1001) /content/chess.mp4: 640x640 4 Bishops, 2 Kings, 4 Knights, 14 Pawns, 2 Queens, 4 Rooks, 13.1ms\n",
            "video 1/1 (frame 242/1001) /content/chess.mp4: 640x640 4 Bishops, 2 Kings, 4 Knights, 14 Pawns, 2 Queens, 4 Rooks, 11.1ms\n",
            "video 1/1 (frame 243/1001) /content/chess.mp4: 640x640 4 Bishops, 2 Kings, 4 Knights, 14 Pawns, 2 Queens, 4 Rooks, 11.2ms\n",
            "video 1/1 (frame 244/1001) /content/chess.mp4: 640x640 4 Bishops, 2 Kings, 4 Knights, 14 Pawns, 2 Queens, 4 Rooks, 15.2ms\n",
            "video 1/1 (frame 245/1001) /content/chess.mp4: 640x640 4 Bishops, 2 Kings, 4 Knights, 14 Pawns, 2 Queens, 4 Rooks, 10.9ms\n",
            "video 1/1 (frame 246/1001) /content/chess.mp4: 640x640 4 Bishops, 2 Kings, 4 Knights, 14 Pawns, 2 Queens, 4 Rooks, 10.7ms\n",
            "video 1/1 (frame 247/1001) /content/chess.mp4: 640x640 4 Bishops, 2 Kings, 4 Knights, 14 Pawns, 2 Queens, 4 Rooks, 10.5ms\n",
            "video 1/1 (frame 248/1001) /content/chess.mp4: 640x640 4 Bishops, 2 Kings, 4 Knights, 14 Pawns, 2 Queens, 4 Rooks, 10.4ms\n",
            "video 1/1 (frame 249/1001) /content/chess.mp4: 640x640 4 Bishops, 2 Kings, 4 Knights, 14 Pawns, 2 Queens, 4 Rooks, 10.3ms\n",
            "video 1/1 (frame 250/1001) /content/chess.mp4: 640x640 4 Bishops, 2 Kings, 4 Knights, 14 Pawns, 2 Queens, 4 Rooks, 12.8ms\n",
            "video 1/1 (frame 251/1001) /content/chess.mp4: 640x640 4 Bishops, 2 Kings, 4 Knights, 13 Pawns, 2 Queens, 4 Rooks, 10.7ms\n",
            "video 1/1 (frame 252/1001) /content/chess.mp4: 640x640 3 Bishops, 2 Kings, 4 Knights, 13 Pawns, 2 Queens, 4 Rooks, 11.8ms\n",
            "video 1/1 (frame 253/1001) /content/chess.mp4: 640x640 3 Bishops, 2 Kings, 4 Knights, 12 Pawns, 2 Queens, 4 Rooks, 12.2ms\n",
            "video 1/1 (frame 254/1001) /content/chess.mp4: 640x640 3 Bishops, 2 Kings, 4 Knights, 13 Pawns, 2 Queens, 4 Rooks, 10.5ms\n",
            "video 1/1 (frame 255/1001) /content/chess.mp4: 640x640 3 Bishops, 2 Kings, 4 Knights, 13 Pawns, 2 Queens, 4 Rooks, 10.4ms\n",
            "video 1/1 (frame 256/1001) /content/chess.mp4: 640x640 3 Bishops, 2 Kings, 4 Knights, 13 Pawns, 2 Queens, 4 Rooks, 10.5ms\n",
            "video 1/1 (frame 257/1001) /content/chess.mp4: 640x640 4 Bishops, 2 Kings, 4 Knights, 13 Pawns, 2 Queens, 4 Rooks, 13.7ms\n",
            "video 1/1 (frame 258/1001) /content/chess.mp4: 640x640 3 Bishops, 2 Kings, 4 Knights, 13 Pawns, 2 Queens, 4 Rooks, 10.7ms\n",
            "video 1/1 (frame 259/1001) /content/chess.mp4: 640x640 3 Bishops, 2 Kings, 4 Knights, 13 Pawns, 2 Queens, 4 Rooks, 10.6ms\n",
            "video 1/1 (frame 260/1001) /content/chess.mp4: 640x640 4 Bishops, 2 Kings, 4 Knights, 13 Pawns, 2 Queens, 4 Rooks, 12.9ms\n",
            "video 1/1 (frame 261/1001) /content/chess.mp4: 640x640 3 Bishops, 2 Kings, 4 Knights, 13 Pawns, 2 Queens, 4 Rooks, 15.2ms\n",
            "video 1/1 (frame 262/1001) /content/chess.mp4: 640x640 4 Bishops, 2 Kings, 4 Knights, 13 Pawns, 2 Queens, 4 Rooks, 13.8ms\n",
            "video 1/1 (frame 263/1001) /content/chess.mp4: 640x640 3 Bishops, 2 Kings, 4 Knights, 8 Pawns, 2 Queens, 4 Rooks, 16.1ms\n",
            "video 1/1 (frame 264/1001) /content/chess.mp4: 640x640 3 Bishops, 3 Kings, 4 Knights, 8 Pawns, 1 Queen, 4 Rooks, 12.2ms\n",
            "video 1/1 (frame 265/1001) /content/chess.mp4: 640x640 3 Bishops, 2 Kings, 4 Knights, 8 Pawns, 2 Queens, 4 Rooks, 16.0ms\n",
            "video 1/1 (frame 266/1001) /content/chess.mp4: 640x640 4 Bishops, 3 Kings, 4 Knights, 8 Pawns, 2 Queens, 4 Rooks, 11.6ms\n",
            "video 1/1 (frame 267/1001) /content/chess.mp4: 640x640 4 Bishops, 2 Kings, 4 Knights, 14 Pawns, 2 Queens, 4 Rooks, 16.0ms\n",
            "video 1/1 (frame 268/1001) /content/chess.mp4: 640x640 4 Bishops, 2 Kings, 4 Knights, 15 Pawns, 2 Queens, 4 Rooks, 10.8ms\n",
            "video 1/1 (frame 269/1001) /content/chess.mp4: 640x640 4 Bishops, 2 Kings, 4 Knights, 15 Pawns, 2 Queens, 4 Rooks, 16.3ms\n",
            "video 1/1 (frame 270/1001) /content/chess.mp4: 640x640 4 Bishops, 2 Kings, 4 Knights, 13 Pawns, 2 Queens, 4 Rooks, 11.8ms\n",
            "video 1/1 (frame 271/1001) /content/chess.mp4: 640x640 4 Bishops, 2 Kings, 4 Knights, 14 Pawns, 2 Queens, 4 Rooks, 17.2ms\n",
            "video 1/1 (frame 272/1001) /content/chess.mp4: 640x640 4 Bishops, 2 Kings, 4 Knights, 13 Pawns, 2 Queens, 4 Rooks, 17.3ms\n",
            "video 1/1 (frame 273/1001) /content/chess.mp4: 640x640 4 Bishops, 2 Kings, 4 Knights, 12 Pawns, 2 Queens, 4 Rooks, 13.9ms\n",
            "video 1/1 (frame 274/1001) /content/chess.mp4: 640x640 4 Bishops, 2 Kings, 4 Knights, 11 Pawns, 2 Queens, 4 Rooks, 14.0ms\n",
            "video 1/1 (frame 275/1001) /content/chess.mp4: 640x640 4 Bishops, 2 Kings, 4 Knights, 12 Pawns, 2 Queens, 4 Rooks, 11.7ms\n",
            "video 1/1 (frame 276/1001) /content/chess.mp4: 640x640 4 Bishops, 2 Kings, 4 Knights, 12 Pawns, 2 Queens, 4 Rooks, 14.9ms\n",
            "video 1/1 (frame 277/1001) /content/chess.mp4: 640x640 4 Bishops, 2 Kings, 4 Knights, 12 Pawns, 2 Queens, 4 Rooks, 16.0ms\n",
            "video 1/1 (frame 278/1001) /content/chess.mp4: 640x640 4 Bishops, 2 Kings, 4 Knights, 12 Pawns, 2 Queens, 4 Rooks, 16.0ms\n",
            "video 1/1 (frame 279/1001) /content/chess.mp4: 640x640 4 Bishops, 3 Kings, 4 Knights, 13 Pawns, 2 Queens, 4 Rooks, 17.7ms\n",
            "video 1/1 (frame 280/1001) /content/chess.mp4: 640x640 4 Bishops, 3 Kings, 4 Knights, 13 Pawns, 1 Queen, 4 Rooks, 15.5ms\n",
            "video 1/1 (frame 281/1001) /content/chess.mp4: 640x640 4 Bishops, 3 Kings, 4 Knights, 13 Pawns, 1 Queen, 4 Rooks, 16.7ms\n",
            "video 1/1 (frame 282/1001) /content/chess.mp4: 640x640 4 Bishops, 3 Kings, 4 Knights, 13 Pawns, 1 Queen, 4 Rooks, 15.3ms\n",
            "video 1/1 (frame 283/1001) /content/chess.mp4: 640x640 4 Bishops, 2 Kings, 4 Knights, 12 Pawns, 2 Queens, 4 Rooks, 15.6ms\n",
            "video 1/1 (frame 284/1001) /content/chess.mp4: 640x640 4 Bishops, 2 Kings, 4 Knights, 13 Pawns, 2 Queens, 4 Rooks, 8.0ms\n",
            "video 1/1 (frame 285/1001) /content/chess.mp4: 640x640 4 Bishops, 2 Kings, 4 Knights, 12 Pawns, 2 Queens, 4 Rooks, 8.6ms\n",
            "video 1/1 (frame 286/1001) /content/chess.mp4: 640x640 4 Bishops, 2 Kings, 4 Knights, 12 Pawns, 2 Queens, 4 Rooks, 10.8ms\n",
            "video 1/1 (frame 287/1001) /content/chess.mp4: 640x640 4 Bishops, 2 Kings, 4 Knights, 12 Pawns, 2 Queens, 4 Rooks, 8.1ms\n",
            "video 1/1 (frame 288/1001) /content/chess.mp4: 640x640 4 Bishops, 2 Kings, 4 Knights, 12 Pawns, 2 Queens, 4 Rooks, 8.4ms\n",
            "video 1/1 (frame 289/1001) /content/chess.mp4: 640x640 3 Bishops, 2 Kings, 4 Knights, 4 Pawns, 2 Queens, 4 Rooks, 8.1ms\n",
            "video 1/1 (frame 290/1001) /content/chess.mp4: 640x640 3 Bishops, 2 Kings, 4 Knights, 3 Pawns, 2 Queens, 4 Rooks, 8.2ms\n",
            "video 1/1 (frame 291/1001) /content/chess.mp4: 640x640 4 Bishops, 2 Kings, 4 Knights, 4 Pawns, 2 Queens, 4 Rooks, 8.5ms\n",
            "video 1/1 (frame 292/1001) /content/chess.mp4: 640x640 4 Bishops, 2 Kings, 4 Knights, 4 Pawns, 2 Queens, 4 Rooks, 8.2ms\n",
            "video 1/1 (frame 293/1001) /content/chess.mp4: 640x640 4 Bishops, 2 Kings, 4 Knights, 3 Pawns, 2 Queens, 4 Rooks, 8.3ms\n",
            "video 1/1 (frame 294/1001) /content/chess.mp4: 640x640 4 Bishops, 2 Kings, 4 Knights, 2 Pawns, 2 Queens, 4 Rooks, 8.4ms\n",
            "video 1/1 (frame 295/1001) /content/chess.mp4: 640x640 4 Bishops, 2 Kings, 4 Knights, 4 Pawns, 2 Queens, 4 Rooks, 8.1ms\n",
            "video 1/1 (frame 296/1001) /content/chess.mp4: 640x640 4 Bishops, 2 Kings, 4 Knights, 3 Pawns, 2 Queens, 4 Rooks, 8.7ms\n",
            "video 1/1 (frame 297/1001) /content/chess.mp4: 640x640 4 Bishops, 2 Kings, 4 Knights, 2 Pawns, 2 Queens, 4 Rooks, 8.1ms\n",
            "video 1/1 (frame 298/1001) /content/chess.mp4: 640x640 3 Bishops, 2 Kings, 4 Knights, 2 Pawns, 2 Queens, 4 Rooks, 8.2ms\n",
            "video 1/1 (frame 299/1001) /content/chess.mp4: 640x640 4 Bishops, 2 Kings, 4 Knights, 3 Pawns, 2 Queens, 4 Rooks, 8.2ms\n",
            "video 1/1 (frame 300/1001) /content/chess.mp4: 640x640 3 Bishops, 2 Kings, 4 Knights, 3 Pawns, 2 Queens, 4 Rooks, 8.5ms\n",
            "video 1/1 (frame 301/1001) /content/chess.mp4: 640x640 4 Bishops, 2 Kings, 4 Knights, 2 Pawns, 2 Queens, 4 Rooks, 7.9ms\n",
            "video 1/1 (frame 302/1001) /content/chess.mp4: 640x640 3 Bishops, 2 Kings, 4 Knights, 2 Pawns, 2 Queens, 4 Rooks, 8.0ms\n",
            "video 1/1 (frame 303/1001) /content/chess.mp4: 640x640 3 Bishops, 2 Kings, 4 Knights, 3 Pawns, 2 Queens, 4 Rooks, 7.9ms\n",
            "video 1/1 (frame 304/1001) /content/chess.mp4: 640x640 3 Bishops, 2 Kings, 4 Knights, 2 Pawns, 2 Queens, 4 Rooks, 8.0ms\n",
            "video 1/1 (frame 305/1001) /content/chess.mp4: 640x640 3 Bishops, 2 Kings, 4 Knights, 1 Pawn, 2 Queens, 4 Rooks, 8.1ms\n",
            "video 1/1 (frame 306/1001) /content/chess.mp4: 640x640 3 Bishops, 2 Kings, 4 Knights, 2 Pawns, 2 Queens, 4 Rooks, 7.8ms\n",
            "video 1/1 (frame 307/1001) /content/chess.mp4: 640x640 3 Bishops, 2 Kings, 4 Knights, 2 Pawns, 2 Queens, 4 Rooks, 7.8ms\n",
            "video 1/1 (frame 308/1001) /content/chess.mp4: 640x640 3 Bishops, 2 Kings, 4 Knights, 2 Pawns, 2 Queens, 4 Rooks, 7.9ms\n",
            "video 1/1 (frame 309/1001) /content/chess.mp4: 640x640 3 Bishops, 2 Kings, 4 Knights, 2 Pawns, 2 Queens, 4 Rooks, 8.6ms\n",
            "video 1/1 (frame 310/1001) /content/chess.mp4: 640x640 3 Bishops, 2 Kings, 4 Knights, 2 Pawns, 2 Queens, 4 Rooks, 7.9ms\n",
            "video 1/1 (frame 311/1001) /content/chess.mp4: 640x640 3 Bishops, 2 Kings, 4 Knights, 2 Pawns, 2 Queens, 4 Rooks, 8.7ms\n",
            "video 1/1 (frame 312/1001) /content/chess.mp4: 640x640 3 Bishops, 2 Kings, 4 Knights, 2 Pawns, 2 Queens, 4 Rooks, 8.8ms\n",
            "video 1/1 (frame 313/1001) /content/chess.mp4: 640x640 3 Bishops, 2 Kings, 4 Knights, 2 Pawns, 2 Queens, 4 Rooks, 16.8ms\n",
            "video 1/1 (frame 314/1001) /content/chess.mp4: 640x640 3 Bishops, 2 Kings, 4 Knights, 2 Pawns, 2 Queens, 4 Rooks, 8.3ms\n",
            "video 1/1 (frame 315/1001) /content/chess.mp4: 640x640 3 Bishops, 2 Kings, 4 Knights, 2 Pawns, 2 Queens, 4 Rooks, 8.1ms\n",
            "video 1/1 (frame 316/1001) /content/chess.mp4: 640x640 3 Bishops, 2 Kings, 4 Knights, 2 Pawns, 2 Queens, 4 Rooks, 8.3ms\n",
            "video 1/1 (frame 317/1001) /content/chess.mp4: 640x640 3 Bishops, 2 Kings, 4 Knights, 2 Pawns, 2 Queens, 4 Rooks, 8.6ms\n",
            "video 1/1 (frame 318/1001) /content/chess.mp4: 640x640 3 Bishops, 2 Kings, 4 Knights, 5 Pawns, 2 Queens, 4 Rooks, 8.0ms\n",
            "video 1/1 (frame 319/1001) /content/chess.mp4: 640x640 4 Bishops, 2 Kings, 4 Knights, 5 Pawns, 2 Queens, 4 Rooks, 7.9ms\n",
            "video 1/1 (frame 320/1001) /content/chess.mp4: 640x640 4 Bishops, 2 Kings, 4 Knights, 5 Pawns, 2 Queens, 4 Rooks, 8.1ms\n",
            "video 1/1 (frame 321/1001) /content/chess.mp4: 640x640 4 Bishops, 2 Kings, 4 Knights, 4 Pawns, 2 Queens, 4 Rooks, 8.3ms\n",
            "video 1/1 (frame 322/1001) /content/chess.mp4: 640x640 4 Bishops, 2 Kings, 4 Knights, 4 Pawns, 2 Queens, 4 Rooks, 9.8ms\n",
            "video 1/1 (frame 323/1001) /content/chess.mp4: 640x640 4 Bishops, 2 Kings, 4 Knights, 4 Pawns, 2 Queens, 4 Rooks, 8.3ms\n",
            "video 1/1 (frame 324/1001) /content/chess.mp4: 640x640 4 Bishops, 2 Kings, 4 Knights, 4 Pawns, 2 Queens, 4 Rooks, 8.3ms\n",
            "video 1/1 (frame 325/1001) /content/chess.mp4: 640x640 3 Bishops, 2 Kings, 4 Knights, 4 Pawns, 2 Queens, 4 Rooks, 8.0ms\n",
            "video 1/1 (frame 326/1001) /content/chess.mp4: 640x640 3 Bishops, 2 Kings, 4 Knights, 4 Pawns, 2 Queens, 4 Rooks, 11.1ms\n",
            "video 1/1 (frame 327/1001) /content/chess.mp4: 640x640 3 Bishops, 2 Kings, 4 Knights, 1 Pawn, 2 Queens, 4 Rooks, 9.1ms\n",
            "video 1/1 (frame 328/1001) /content/chess.mp4: 640x640 3 Bishops, 2 Kings, 4 Knights, 2 Pawns, 2 Queens, 4 Rooks, 8.4ms\n",
            "video 1/1 (frame 329/1001) /content/chess.mp4: 640x640 3 Bishops, 2 Kings, 4 Knights, 2 Pawns, 2 Queens, 4 Rooks, 8.1ms\n",
            "video 1/1 (frame 330/1001) /content/chess.mp4: 640x640 3 Bishops, 2 Kings, 4 Knights, 1 Pawn, 2 Queens, 4 Rooks, 7.9ms\n",
            "video 1/1 (frame 331/1001) /content/chess.mp4: 640x640 4 Bishops, 2 Kings, 4 Knights, 1 Pawn, 2 Queens, 4 Rooks, 8.0ms\n",
            "video 1/1 (frame 332/1001) /content/chess.mp4: 640x640 3 Bishops, 2 Kings, 4 Knights, 1 Pawn, 2 Queens, 4 Rooks, 8.0ms\n",
            "video 1/1 (frame 333/1001) /content/chess.mp4: 640x640 3 Bishops, 2 Kings, 4 Knights, 1 Pawn, 2 Queens, 4 Rooks, 8.0ms\n",
            "video 1/1 (frame 334/1001) /content/chess.mp4: 640x640 3 Bishops, 2 Kings, 4 Knights, 1 Pawn, 2 Queens, 4 Rooks, 10.5ms\n",
            "video 1/1 (frame 335/1001) /content/chess.mp4: 640x640 3 Bishops, 2 Kings, 4 Knights, 1 Pawn, 2 Queens, 4 Rooks, 8.0ms\n",
            "video 1/1 (frame 336/1001) /content/chess.mp4: 640x640 3 Bishops, 2 Kings, 4 Knights, 1 Pawn, 2 Queens, 4 Rooks, 8.0ms\n",
            "video 1/1 (frame 337/1001) /content/chess.mp4: 640x640 3 Bishops, 2 Kings, 4 Knights, 1 Pawn, 2 Queens, 4 Rooks, 8.1ms\n",
            "video 1/1 (frame 338/1001) /content/chess.mp4: 640x640 3 Bishops, 2 Kings, 4 Knights, 1 Pawn, 2 Queens, 4 Rooks, 8.0ms\n",
            "video 1/1 (frame 339/1001) /content/chess.mp4: 640x640 4 Bishops, 2 Kings, 4 Knights, 12 Pawns, 2 Queens, 4 Rooks, 8.2ms\n",
            "video 1/1 (frame 340/1001) /content/chess.mp4: 640x640 4 Bishops, 2 Kings, 4 Knights, 12 Pawns, 2 Queens, 4 Rooks, 8.0ms\n",
            "video 1/1 (frame 341/1001) /content/chess.mp4: 640x640 4 Bishops, 2 Kings, 4 Knights, 12 Pawns, 2 Queens, 4 Rooks, 8.2ms\n",
            "video 1/1 (frame 342/1001) /content/chess.mp4: 640x640 4 Bishops, 2 Kings, 4 Knights, 12 Pawns, 2 Queens, 4 Rooks, 8.2ms\n",
            "video 1/1 (frame 343/1001) /content/chess.mp4: 640x640 4 Bishops, 2 Kings, 4 Knights, 12 Pawns, 2 Queens, 4 Rooks, 8.0ms\n",
            "video 1/1 (frame 344/1001) /content/chess.mp4: 640x640 4 Bishops, 2 Kings, 4 Knights, 12 Pawns, 2 Queens, 4 Rooks, 8.2ms\n",
            "video 1/1 (frame 345/1001) /content/chess.mp4: 640x640 4 Bishops, 2 Kings, 4 Knights, 12 Pawns, 2 Queens, 4 Rooks, 8.8ms\n",
            "video 1/1 (frame 346/1001) /content/chess.mp4: 640x640 4 Bishops, 2 Kings, 4 Knights, 12 Pawns, 2 Queens, 4 Rooks, 8.4ms\n",
            "video 1/1 (frame 347/1001) /content/chess.mp4: 640x640 4 Bishops, 2 Kings, 4 Knights, 12 Pawns, 2 Queens, 4 Rooks, 8.0ms\n",
            "video 1/1 (frame 348/1001) /content/chess.mp4: 640x640 4 Bishops, 2 Kings, 4 Knights, 12 Pawns, 2 Queens, 4 Rooks, 8.2ms\n",
            "video 1/1 (frame 349/1001) /content/chess.mp4: 640x640 4 Bishops, 2 Kings, 4 Knights, 13 Pawns, 2 Queens, 4 Rooks, 8.0ms\n",
            "video 1/1 (frame 350/1001) /content/chess.mp4: 640x640 4 Bishops, 2 Kings, 4 Knights, 12 Pawns, 2 Queens, 4 Rooks, 8.0ms\n",
            "video 1/1 (frame 351/1001) /content/chess.mp4: 640x640 4 Bishops, 2 Kings, 4 Knights, 12 Pawns, 2 Queens, 4 Rooks, 8.0ms\n",
            "video 1/1 (frame 352/1001) /content/chess.mp4: 640x640 4 Bishops, 2 Kings, 4 Knights, 12 Pawns, 2 Queens, 4 Rooks, 10.0ms\n",
            "video 1/1 (frame 353/1001) /content/chess.mp4: 640x640 4 Bishops, 2 Kings, 4 Knights, 12 Pawns, 2 Queens, 4 Rooks, 10.6ms\n",
            "video 1/1 (frame 354/1001) /content/chess.mp4: 640x640 4 Bishops, 2 Kings, 4 Knights, 12 Pawns, 2 Queens, 4 Rooks, 8.1ms\n",
            "video 1/1 (frame 355/1001) /content/chess.mp4: 640x640 4 Bishops, 2 Kings, 4 Knights, 13 Pawns, 2 Queens, 4 Rooks, 8.2ms\n",
            "video 1/1 (frame 356/1001) /content/chess.mp4: 640x640 4 Bishops, 2 Kings, 4 Knights, 14 Pawns, 2 Queens, 4 Rooks, 8.1ms\n",
            "video 1/1 (frame 357/1001) /content/chess.mp4: 640x640 4 Bishops, 2 Kings, 4 Knights, 16 Pawns, 2 Queens, 4 Rooks, 8.0ms\n",
            "video 1/1 (frame 358/1001) /content/chess.mp4: 640x640 4 Bishops, 2 Kings, 4 Knights, 13 Pawns, 2 Queens, 4 Rooks, 7.9ms\n",
            "video 1/1 (frame 359/1001) /content/chess.mp4: 640x640 4 Bishops, 2 Kings, 4 Knights, 13 Pawns, 2 Queens, 4 Rooks, 10.1ms\n",
            "video 1/1 (frame 360/1001) /content/chess.mp4: 640x640 4 Bishops, 2 Kings, 4 Knights, 13 Pawns, 2 Queens, 4 Rooks, 8.5ms\n",
            "video 1/1 (frame 361/1001) /content/chess.mp4: 640x640 4 Bishops, 2 Kings, 4 Knights, 13 Pawns, 2 Queens, 4 Rooks, 15.9ms\n",
            "video 1/1 (frame 362/1001) /content/chess.mp4: 640x640 4 Bishops, 2 Kings, 4 Knights, 13 Pawns, 2 Queens, 4 Rooks, 8.3ms\n",
            "video 1/1 (frame 363/1001) /content/chess.mp4: 640x640 4 Bishops, 2 Kings, 4 Knights, 13 Pawns, 2 Queens, 4 Rooks, 8.1ms\n",
            "video 1/1 (frame 364/1001) /content/chess.mp4: 640x640 4 Bishops, 2 Kings, 4 Knights, 13 Pawns, 2 Queens, 4 Rooks, 8.0ms\n",
            "video 1/1 (frame 365/1001) /content/chess.mp4: 640x640 4 Bishops, 2 Kings, 4 Knights, 13 Pawns, 2 Queens, 4 Rooks, 8.1ms\n",
            "video 1/1 (frame 366/1001) /content/chess.mp4: 640x640 4 Bishops, 2 Kings, 4 Knights, 13 Pawns, 2 Queens, 4 Rooks, 10.4ms\n",
            "video 1/1 (frame 367/1001) /content/chess.mp4: 640x640 4 Bishops, 2 Kings, 4 Knights, 13 Pawns, 2 Queens, 4 Rooks, 8.1ms\n",
            "video 1/1 (frame 368/1001) /content/chess.mp4: 640x640 4 Bishops, 2 Kings, 4 Knights, 13 Pawns, 2 Queens, 4 Rooks, 9.5ms\n",
            "video 1/1 (frame 369/1001) /content/chess.mp4: 640x640 4 Bishops, 2 Kings, 4 Knights, 13 Pawns, 2 Queens, 4 Rooks, 8.0ms\n",
            "video 1/1 (frame 370/1001) /content/chess.mp4: 640x640 4 Bishops, 2 Kings, 4 Knights, 13 Pawns, 2 Queens, 4 Rooks, 7.9ms\n",
            "video 1/1 (frame 371/1001) /content/chess.mp4: 640x640 4 Bishops, 2 Kings, 4 Knights, 13 Pawns, 2 Queens, 4 Rooks, 7.9ms\n",
            "video 1/1 (frame 372/1001) /content/chess.mp4: 640x640 4 Bishops, 2 Kings, 4 Knights, 13 Pawns, 2 Queens, 4 Rooks, 10.2ms\n",
            "video 1/1 (frame 373/1001) /content/chess.mp4: 640x640 4 Bishops, 2 Kings, 4 Knights, 13 Pawns, 2 Queens, 4 Rooks, 8.5ms\n",
            "video 1/1 (frame 374/1001) /content/chess.mp4: 640x640 4 Bishops, 2 Kings, 4 Knights, 13 Pawns, 2 Queens, 4 Rooks, 8.0ms\n",
            "video 1/1 (frame 375/1001) /content/chess.mp4: 640x640 4 Bishops, 2 Kings, 4 Knights, 13 Pawns, 2 Queens, 4 Rooks, 8.8ms\n",
            "video 1/1 (frame 376/1001) /content/chess.mp4: 640x640 4 Bishops, 2 Kings, 4 Knights, 13 Pawns, 2 Queens, 4 Rooks, 8.1ms\n",
            "video 1/1 (frame 377/1001) /content/chess.mp4: 640x640 4 Bishops, 2 Kings, 4 Knights, 13 Pawns, 2 Queens, 4 Rooks, 7.9ms\n",
            "video 1/1 (frame 378/1001) /content/chess.mp4: 640x640 4 Bishops, 2 Kings, 4 Knights, 13 Pawns, 2 Queens, 4 Rooks, 8.0ms\n",
            "video 1/1 (frame 379/1001) /content/chess.mp4: 640x640 4 Bishops, 2 Kings, 4 Knights, 13 Pawns, 2 Queens, 4 Rooks, 8.0ms\n",
            "video 1/1 (frame 380/1001) /content/chess.mp4: 640x640 4 Bishops, 2 Kings, 4 Knights, 13 Pawns, 2 Queens, 4 Rooks, 7.9ms\n",
            "video 1/1 (frame 381/1001) /content/chess.mp4: 640x640 4 Bishops, 2 Kings, 4 Knights, 13 Pawns, 2 Queens, 4 Rooks, 7.9ms\n",
            "video 1/1 (frame 382/1001) /content/chess.mp4: 640x640 4 Bishops, 2 Kings, 4 Knights, 13 Pawns, 2 Queens, 4 Rooks, 8.0ms\n",
            "video 1/1 (frame 383/1001) /content/chess.mp4: 640x640 4 Bishops, 2 Kings, 4 Knights, 13 Pawns, 2 Queens, 4 Rooks, 7.9ms\n",
            "video 1/1 (frame 384/1001) /content/chess.mp4: 640x640 4 Bishops, 2 Kings, 4 Knights, 13 Pawns, 2 Queens, 4 Rooks, 8.3ms\n",
            "video 1/1 (frame 385/1001) /content/chess.mp4: 640x640 4 Bishops, 2 Kings, 4 Knights, 13 Pawns, 2 Queens, 4 Rooks, 8.5ms\n",
            "video 1/1 (frame 386/1001) /content/chess.mp4: 640x640 4 Bishops, 2 Kings, 4 Knights, 13 Pawns, 2 Queens, 4 Rooks, 8.2ms\n",
            "video 1/1 (frame 387/1001) /content/chess.mp4: 640x640 4 Bishops, 2 Kings, 4 Knights, 13 Pawns, 2 Queens, 4 Rooks, 8.1ms\n",
            "video 1/1 (frame 388/1001) /content/chess.mp4: 640x640 4 Bishops, 2 Kings, 4 Knights, 13 Pawns, 2 Queens, 4 Rooks, 8.3ms\n",
            "video 1/1 (frame 389/1001) /content/chess.mp4: 640x640 4 Bishops, 2 Kings, 4 Knights, 13 Pawns, 2 Queens, 4 Rooks, 9.0ms\n",
            "video 1/1 (frame 390/1001) /content/chess.mp4: 640x640 4 Bishops, 2 Kings, 4 Knights, 13 Pawns, 2 Queens, 4 Rooks, 8.1ms\n",
            "video 1/1 (frame 391/1001) /content/chess.mp4: 640x640 4 Bishops, 2 Kings, 4 Knights, 13 Pawns, 2 Queens, 4 Rooks, 8.2ms\n",
            "video 1/1 (frame 392/1001) /content/chess.mp4: 640x640 4 Bishops, 2 Kings, 4 Knights, 13 Pawns, 2 Queens, 4 Rooks, 8.3ms\n",
            "video 1/1 (frame 393/1001) /content/chess.mp4: 640x640 4 Bishops, 2 Kings, 4 Knights, 13 Pawns, 2 Queens, 4 Rooks, 8.3ms\n",
            "video 1/1 (frame 394/1001) /content/chess.mp4: 640x640 4 Bishops, 2 Kings, 4 Knights, 13 Pawns, 2 Queens, 4 Rooks, 8.1ms\n",
            "video 1/1 (frame 395/1001) /content/chess.mp4: 640x640 4 Bishops, 2 Kings, 4 Knights, 13 Pawns, 2 Queens, 4 Rooks, 8.0ms\n",
            "video 1/1 (frame 396/1001) /content/chess.mp4: 640x640 4 Bishops, 2 Kings, 4 Knights, 13 Pawns, 2 Queens, 4 Rooks, 8.2ms\n",
            "video 1/1 (frame 397/1001) /content/chess.mp4: 640x640 4 Bishops, 2 Kings, 4 Knights, 13 Pawns, 2 Queens, 4 Rooks, 8.2ms\n",
            "video 1/1 (frame 398/1001) /content/chess.mp4: 640x640 4 Bishops, 2 Kings, 4 Knights, 13 Pawns, 2 Queens, 4 Rooks, 8.2ms\n",
            "video 1/1 (frame 399/1001) /content/chess.mp4: 640x640 4 Bishops, 2 Kings, 4 Knights, 13 Pawns, 2 Queens, 4 Rooks, 8.1ms\n",
            "video 1/1 (frame 400/1001) /content/chess.mp4: 640x640 4 Bishops, 2 Kings, 4 Knights, 13 Pawns, 2 Queens, 4 Rooks, 8.6ms\n",
            "video 1/1 (frame 401/1001) /content/chess.mp4: 640x640 4 Bishops, 2 Kings, 4 Knights, 13 Pawns, 2 Queens, 4 Rooks, 8.1ms\n",
            "video 1/1 (frame 402/1001) /content/chess.mp4: 640x640 4 Bishops, 2 Kings, 4 Knights, 13 Pawns, 2 Queens, 4 Rooks, 8.6ms\n",
            "video 1/1 (frame 403/1001) /content/chess.mp4: 640x640 4 Bishops, 2 Kings, 4 Knights, 12 Pawns, 2 Queens, 4 Rooks, 8.1ms\n",
            "video 1/1 (frame 404/1001) /content/chess.mp4: 640x640 4 Bishops, 2 Kings, 4 Knights, 12 Pawns, 2 Queens, 4 Rooks, 9.8ms\n",
            "video 1/1 (frame 405/1001) /content/chess.mp4: 640x640 3 Bishops, 2 Kings, 4 Knights, 3 Pawns, 2 Queens, 4 Rooks, 8.4ms\n",
            "video 1/1 (frame 406/1001) /content/chess.mp4: 640x640 4 Bishops, 2 Kings, 4 Knights, 1 Pawn, 2 Queens, 4 Rooks, 8.3ms\n",
            "video 1/1 (frame 407/1001) /content/chess.mp4: 640x640 3 Bishops, 2 Kings, 4 Knights, 1 Pawn, 2 Queens, 4 Rooks, 15.4ms\n",
            "video 1/1 (frame 408/1001) /content/chess.mp4: 640x640 3 Bishops, 2 Kings, 4 Knights, 1 Pawn, 2 Queens, 4 Rooks, 11.4ms\n",
            "video 1/1 (frame 409/1001) /content/chess.mp4: 640x640 3 Bishops, 2 Kings, 4 Knights, 7 Pawns, 2 Queens, 4 Rooks, 9.0ms\n",
            "video 1/1 (frame 410/1001) /content/chess.mp4: 640x640 4 Bishops, 2 Kings, 4 Knights, 8 Pawns, 2 Queens, 4 Rooks, 8.4ms\n",
            "video 1/1 (frame 411/1001) /content/chess.mp4: 640x640 4 Bishops, 2 Kings, 4 Knights, 8 Pawns, 2 Queens, 4 Rooks, 8.5ms\n",
            "video 1/1 (frame 412/1001) /content/chess.mp4: 640x640 4 Bishops, 2 Kings, 4 Knights, 8 Pawns, 2 Queens, 4 Rooks, 8.5ms\n",
            "video 1/1 (frame 413/1001) /content/chess.mp4: 640x640 4 Bishops, 2 Kings, 4 Knights, 8 Pawns, 2 Queens, 4 Rooks, 10.4ms\n",
            "video 1/1 (frame 414/1001) /content/chess.mp4: 640x640 4 Bishops, 2 Kings, 4 Knights, 8 Pawns, 2 Queens, 4 Rooks, 8.7ms\n",
            "video 1/1 (frame 415/1001) /content/chess.mp4: 640x640 4 Bishops, 2 Kings, 4 Knights, 11 Pawns, 2 Queens, 4 Rooks, 8.6ms\n",
            "video 1/1 (frame 416/1001) /content/chess.mp4: 640x640 4 Bishops, 2 Kings, 4 Knights, 11 Pawns, 2 Queens, 4 Rooks, 10.4ms\n",
            "video 1/1 (frame 417/1001) /content/chess.mp4: 640x640 4 Bishops, 2 Kings, 4 Knights, 11 Pawns, 2 Queens, 4 Rooks, 8.9ms\n",
            "video 1/1 (frame 418/1001) /content/chess.mp4: 640x640 4 Bishops, 2 Kings, 4 Knights, 11 Pawns, 2 Queens, 4 Rooks, 8.5ms\n",
            "video 1/1 (frame 419/1001) /content/chess.mp4: 640x640 4 Bishops, 2 Kings, 4 Knights, 11 Pawns, 2 Queens, 4 Rooks, 8.6ms\n",
            "video 1/1 (frame 420/1001) /content/chess.mp4: 640x640 4 Bishops, 2 Kings, 4 Knights, 8 Pawns, 2 Queens, 4 Rooks, 8.5ms\n",
            "video 1/1 (frame 421/1001) /content/chess.mp4: 640x640 4 Bishops, 2 Kings, 4 Knights, 9 Pawns, 2 Queens, 4 Rooks, 8.3ms\n",
            "video 1/1 (frame 422/1001) /content/chess.mp4: 640x640 3 Bishops, 2 Kings, 4 Knights, 11 Pawns, 2 Queens, 4 Rooks, 8.2ms\n",
            "video 1/1 (frame 423/1001) /content/chess.mp4: 640x640 3 Bishops, 2 Kings, 4 Knights, 11 Pawns, 2 Queens, 4 Rooks, 8.5ms\n",
            "video 1/1 (frame 424/1001) /content/chess.mp4: 640x640 3 Bishops, 2 Kings, 4 Knights, 7 Pawns, 2 Queens, 4 Rooks, 8.3ms\n",
            "video 1/1 (frame 425/1001) /content/chess.mp4: 640x640 3 Bishops, 2 Kings, 4 Knights, 4 Pawns, 2 Queens, 4 Rooks, 8.4ms\n",
            "video 1/1 (frame 426/1001) /content/chess.mp4: 640x640 4 Bishops, 2 Kings, 4 Knights, 6 Pawns, 2 Queens, 4 Rooks, 11.2ms\n",
            "video 1/1 (frame 427/1001) /content/chess.mp4: 640x640 4 Bishops, 2 Kings, 4 Knights, 8 Pawns, 2 Queens, 4 Rooks, 8.8ms\n",
            "video 1/1 (frame 428/1001) /content/chess.mp4: 640x640 4 Bishops, 2 Kings, 4 Knights, 9 Pawns, 2 Queens, 4 Rooks, 8.5ms\n",
            "video 1/1 (frame 429/1001) /content/chess.mp4: 640x640 4 Bishops, 2 Kings, 4 Knights, 11 Pawns, 2 Queens, 4 Rooks, 8.7ms\n",
            "video 1/1 (frame 430/1001) /content/chess.mp4: 640x640 2 Bishops, 2 Kings, 4 Knights, 2 Queens, 3 Rooks, 8.3ms\n",
            "video 1/1 (frame 431/1001) /content/chess.mp4: 640x640 2 Bishops, 2 Kings, 4 Knights, 2 Queens, 3 Rooks, 12.7ms\n",
            "video 1/1 (frame 432/1001) /content/chess.mp4: 640x640 2 Bishops, 2 Kings, 4 Knights, 2 Queens, 3 Rooks, 8.9ms\n",
            "video 1/1 (frame 433/1001) /content/chess.mp4: 640x640 2 Bishops, 2 Kings, 4 Knights, 2 Queens, 3 Rooks, 12.3ms\n",
            "video 1/1 (frame 434/1001) /content/chess.mp4: 640x640 2 Bishops, 2 Kings, 4 Knights, 2 Queens, 3 Rooks, 8.1ms\n",
            "video 1/1 (frame 435/1001) /content/chess.mp4: 640x640 2 Bishops, 2 Kings, 4 Knights, 2 Queens, 3 Rooks, 8.2ms\n",
            "video 1/1 (frame 436/1001) /content/chess.mp4: 640x640 2 Bishops, 2 Kings, 4 Knights, 2 Queens, 3 Rooks, 8.0ms\n",
            "video 1/1 (frame 437/1001) /content/chess.mp4: 640x640 2 Bishops, 2 Kings, 4 Knights, 2 Queens, 3 Rooks, 8.0ms\n",
            "video 1/1 (frame 438/1001) /content/chess.mp4: 640x640 2 Bishops, 2 Kings, 4 Knights, 2 Queens, 3 Rooks, 8.0ms\n",
            "video 1/1 (frame 439/1001) /content/chess.mp4: 640x640 2 Bishops, 2 Kings, 4 Knights, 2 Queens, 3 Rooks, 7.9ms\n",
            "video 1/1 (frame 440/1001) /content/chess.mp4: 640x640 2 Bishops, 2 Kings, 4 Knights, 2 Queens, 3 Rooks, 8.0ms\n",
            "video 1/1 (frame 441/1001) /content/chess.mp4: 640x640 2 Bishops, 2 Kings, 4 Knights, 2 Queens, 3 Rooks, 7.9ms\n",
            "video 1/1 (frame 442/1001) /content/chess.mp4: 640x640 2 Bishops, 2 Kings, 4 Knights, 2 Queens, 3 Rooks, 8.1ms\n",
            "video 1/1 (frame 443/1001) /content/chess.mp4: 640x640 2 Bishops, 2 Kings, 4 Knights, 2 Queens, 3 Rooks, 8.3ms\n",
            "video 1/1 (frame 444/1001) /content/chess.mp4: 640x640 2 Bishops, 2 Kings, 4 Knights, 2 Queens, 3 Rooks, 8.2ms\n",
            "video 1/1 (frame 445/1001) /content/chess.mp4: 640x640 2 Bishops, 2 Kings, 4 Knights, 2 Queens, 3 Rooks, 8.0ms\n",
            "video 1/1 (frame 446/1001) /content/chess.mp4: 640x640 2 Bishops, 2 Kings, 4 Knights, 2 Queens, 3 Rooks, 8.4ms\n",
            "video 1/1 (frame 447/1001) /content/chess.mp4: 640x640 2 Bishops, 2 Kings, 4 Knights, 2 Queens, 3 Rooks, 8.2ms\n",
            "video 1/1 (frame 448/1001) /content/chess.mp4: 640x640 2 Bishops, 2 Kings, 4 Knights, 2 Queens, 3 Rooks, 10.6ms\n",
            "video 1/1 (frame 449/1001) /content/chess.mp4: 640x640 2 Bishops, 2 Kings, 4 Knights, 2 Queens, 3 Rooks, 10.1ms\n",
            "video 1/1 (frame 450/1001) /content/chess.mp4: 640x640 2 Bishops, 2 Kings, 4 Knights, 2 Queens, 3 Rooks, 8.1ms\n",
            "video 1/1 (frame 451/1001) /content/chess.mp4: 640x640 2 Bishops, 2 Kings, 4 Knights, 2 Queens, 3 Rooks, 8.0ms\n",
            "video 1/1 (frame 452/1001) /content/chess.mp4: 640x640 2 Bishops, 2 Kings, 4 Knights, 2 Queens, 3 Rooks, 14.0ms\n",
            "video 1/1 (frame 453/1001) /content/chess.mp4: 640x640 2 Bishops, 2 Kings, 4 Knights, 2 Queens, 3 Rooks, 8.2ms\n",
            "video 1/1 (frame 454/1001) /content/chess.mp4: 640x640 2 Bishops, 2 Kings, 4 Knights, 2 Queens, 3 Rooks, 15.6ms\n",
            "video 1/1 (frame 455/1001) /content/chess.mp4: 640x640 2 Bishops, 2 Kings, 4 Knights, 2 Queens, 3 Rooks, 8.8ms\n",
            "video 1/1 (frame 456/1001) /content/chess.mp4: 640x640 2 Bishops, 2 Kings, 4 Knights, 2 Queens, 3 Rooks, 8.2ms\n",
            "video 1/1 (frame 457/1001) /content/chess.mp4: 640x640 3 Bishops, 2 Kings, 4 Knights, 2 Queens, 3 Rooks, 9.2ms\n",
            "video 1/1 (frame 458/1001) /content/chess.mp4: 640x640 2 Bishops, 2 Kings, 4 Knights, 2 Queens, 3 Rooks, 8.3ms\n",
            "video 1/1 (frame 459/1001) /content/chess.mp4: 640x640 2 Bishops, 2 Kings, 4 Knights, 2 Queens, 3 Rooks, 8.4ms\n",
            "video 1/1 (frame 460/1001) /content/chess.mp4: 640x640 2 Bishops, 2 Kings, 4 Knights, 2 Queens, 3 Rooks, 8.3ms\n",
            "video 1/1 (frame 461/1001) /content/chess.mp4: 640x640 2 Bishops, 2 Kings, 4 Knights, 2 Queens, 3 Rooks, 8.2ms\n",
            "video 1/1 (frame 462/1001) /content/chess.mp4: 640x640 2 Bishops, 2 Kings, 4 Knights, 2 Queens, 3 Rooks, 11.4ms\n",
            "video 1/1 (frame 463/1001) /content/chess.mp4: 640x640 2 Bishops, 2 Kings, 4 Knights, 2 Queens, 3 Rooks, 9.4ms\n",
            "video 1/1 (frame 464/1001) /content/chess.mp4: 640x640 2 Bishops, 2 Kings, 4 Knights, 2 Queens, 3 Rooks, 9.0ms\n",
            "video 1/1 (frame 465/1001) /content/chess.mp4: 640x640 2 Bishops, 2 Kings, 4 Knights, 2 Queens, 3 Rooks, 8.6ms\n",
            "video 1/1 (frame 466/1001) /content/chess.mp4: 640x640 2 Bishops, 2 Kings, 4 Knights, 2 Queens, 3 Rooks, 9.2ms\n",
            "video 1/1 (frame 467/1001) /content/chess.mp4: 640x640 2 Bishops, 2 Kings, 4 Knights, 2 Queens, 3 Rooks, 8.7ms\n",
            "video 1/1 (frame 468/1001) /content/chess.mp4: 640x640 2 Bishops, 2 Kings, 4 Knights, 2 Queens, 3 Rooks, 8.2ms\n",
            "video 1/1 (frame 469/1001) /content/chess.mp4: 640x640 2 Bishops, 2 Kings, 4 Knights, 2 Queens, 3 Rooks, 7.9ms\n",
            "video 1/1 (frame 470/1001) /content/chess.mp4: 640x640 2 Bishops, 2 Kings, 4 Knights, 2 Queens, 3 Rooks, 7.8ms\n",
            "video 1/1 (frame 471/1001) /content/chess.mp4: 640x640 2 Bishops, 2 Kings, 4 Knights, 2 Queens, 3 Rooks, 10.7ms\n",
            "video 1/1 (frame 472/1001) /content/chess.mp4: 640x640 2 Bishops, 2 Kings, 4 Knights, 2 Queens, 3 Rooks, 7.8ms\n",
            "video 1/1 (frame 473/1001) /content/chess.mp4: 640x640 2 Bishops, 2 Kings, 4 Knights, 2 Queens, 3 Rooks, 8.1ms\n",
            "video 1/1 (frame 474/1001) /content/chess.mp4: 640x640 2 Bishops, 2 Kings, 4 Knights, 2 Queens, 3 Rooks, 8.1ms\n",
            "video 1/1 (frame 475/1001) /content/chess.mp4: 640x640 2 Bishops, 2 Kings, 4 Knights, 2 Queens, 3 Rooks, 8.0ms\n",
            "video 1/1 (frame 476/1001) /content/chess.mp4: 640x640 2 Bishops, 2 Kings, 4 Knights, 2 Queens, 3 Rooks, 8.3ms\n",
            "video 1/1 (frame 477/1001) /content/chess.mp4: 640x640 2 Bishops, 2 Kings, 4 Knights, 2 Queens, 3 Rooks, 9.3ms\n",
            "video 1/1 (frame 478/1001) /content/chess.mp4: 640x640 2 Bishops, 2 Kings, 4 Knights, 2 Queens, 3 Rooks, 8.1ms\n",
            "video 1/1 (frame 479/1001) /content/chess.mp4: 640x640 2 Bishops, 2 Kings, 4 Knights, 2 Queens, 3 Rooks, 8.2ms\n",
            "video 1/1 (frame 480/1001) /content/chess.mp4: 640x640 2 Bishops, 2 Kings, 4 Knights, 2 Queens, 3 Rooks, 8.4ms\n",
            "video 1/1 (frame 481/1001) /content/chess.mp4: 640x640 2 Bishops, 2 Kings, 4 Knights, 2 Queens, 3 Rooks, 8.2ms\n",
            "video 1/1 (frame 482/1001) /content/chess.mp4: 640x640 2 Bishops, 2 Kings, 4 Knights, 2 Queens, 3 Rooks, 8.1ms\n",
            "video 1/1 (frame 483/1001) /content/chess.mp4: 640x640 2 Bishops, 2 Kings, 4 Knights, 2 Queens, 3 Rooks, 8.0ms\n",
            "video 1/1 (frame 484/1001) /content/chess.mp4: 640x640 2 Bishops, 2 Kings, 4 Knights, 2 Queens, 3 Rooks, 8.1ms\n",
            "video 1/1 (frame 485/1001) /content/chess.mp4: 640x640 2 Bishops, 2 Kings, 4 Knights, 2 Queens, 3 Rooks, 8.1ms\n",
            "video 1/1 (frame 486/1001) /content/chess.mp4: 640x640 2 Bishops, 2 Kings, 4 Knights, 2 Queens, 2 Rooks, 9.1ms\n",
            "video 1/1 (frame 487/1001) /content/chess.mp4: 640x640 2 Bishops, 2 Kings, 4 Knights, 2 Queens, 3 Rooks, 8.4ms\n",
            "video 1/1 (frame 488/1001) /content/chess.mp4: 640x640 2 Bishops, 2 Kings, 4 Knights, 2 Queens, 3 Rooks, 8.1ms\n",
            "video 1/1 (frame 489/1001) /content/chess.mp4: 640x640 2 Bishops, 2 Kings, 4 Knights, 2 Queens, 3 Rooks, 9.9ms\n",
            "video 1/1 (frame 490/1001) /content/chess.mp4: 640x640 2 Bishops, 2 Kings, 4 Knights, 2 Queens, 3 Rooks, 8.0ms\n",
            "video 1/1 (frame 491/1001) /content/chess.mp4: 640x640 2 Bishops, 2 Kings, 4 Knights, 2 Queens, 3 Rooks, 10.3ms\n",
            "video 1/1 (frame 492/1001) /content/chess.mp4: 640x640 2 Bishops, 2 Kings, 4 Knights, 2 Queens, 3 Rooks, 8.0ms\n",
            "video 1/1 (frame 493/1001) /content/chess.mp4: 640x640 2 Bishops, 2 Kings, 4 Knights, 2 Queens, 3 Rooks, 8.1ms\n",
            "video 1/1 (frame 494/1001) /content/chess.mp4: 640x640 2 Bishops, 2 Kings, 4 Knights, 2 Queens, 3 Rooks, 8.0ms\n",
            "video 1/1 (frame 495/1001) /content/chess.mp4: 640x640 2 Bishops, 2 Kings, 4 Knights, 2 Queens, 3 Rooks, 8.3ms\n",
            "video 1/1 (frame 496/1001) /content/chess.mp4: 640x640 2 Bishops, 2 Kings, 4 Knights, 2 Queens, 3 Rooks, 10.6ms\n",
            "video 1/1 (frame 497/1001) /content/chess.mp4: 640x640 2 Bishops, 2 Kings, 4 Knights, 2 Queens, 3 Rooks, 10.2ms\n",
            "video 1/1 (frame 498/1001) /content/chess.mp4: 640x640 2 Bishops, 2 Kings, 4 Knights, 2 Queens, 3 Rooks, 8.3ms\n",
            "video 1/1 (frame 499/1001) /content/chess.mp4: 640x640 2 Bishops, 2 Kings, 4 Knights, 2 Queens, 3 Rooks, 8.3ms\n",
            "video 1/1 (frame 500/1001) /content/chess.mp4: 640x640 2 Bishops, 2 Kings, 4 Knights, 2 Queens, 3 Rooks, 8.4ms\n",
            "video 1/1 (frame 501/1001) /content/chess.mp4: 640x640 2 Bishops, 2 Kings, 4 Knights, 2 Queens, 3 Rooks, 8.6ms\n",
            "video 1/1 (frame 502/1001) /content/chess.mp4: 640x640 2 Bishops, 2 Kings, 4 Knights, 2 Queens, 3 Rooks, 8.4ms\n",
            "video 1/1 (frame 503/1001) /content/chess.mp4: 640x640 2 Bishops, 2 Kings, 4 Knights, 2 Queens, 2 Rooks, 8.5ms\n",
            "video 1/1 (frame 504/1001) /content/chess.mp4: 640x640 2 Bishops, 2 Kings, 4 Knights, 2 Queens, 2 Rooks, 14.7ms\n",
            "video 1/1 (frame 505/1001) /content/chess.mp4: 640x640 2 Bishops, 2 Kings, 4 Knights, 2 Queens, 2 Rooks, 9.6ms\n",
            "video 1/1 (frame 506/1001) /content/chess.mp4: 640x640 2 Bishops, 2 Kings, 4 Knights, 2 Queens, 2 Rooks, 8.3ms\n",
            "video 1/1 (frame 507/1001) /content/chess.mp4: 640x640 2 Bishops, 2 Kings, 4 Knights, 2 Queens, 3 Rooks, 10.2ms\n",
            "video 1/1 (frame 508/1001) /content/chess.mp4: 640x640 2 Bishops, 2 Kings, 4 Knights, 2 Queens, 2 Rooks, 8.5ms\n",
            "video 1/1 (frame 509/1001) /content/chess.mp4: 640x640 2 Bishops, 2 Kings, 4 Knights, 2 Queens, 3 Rooks, 8.6ms\n",
            "video 1/1 (frame 510/1001) /content/chess.mp4: 640x640 2 Bishops, 2 Kings, 4 Knights, 2 Queens, 2 Rooks, 11.8ms\n",
            "video 1/1 (frame 511/1001) /content/chess.mp4: 640x640 2 Bishops, 2 Kings, 4 Knights, 2 Queens, 2 Rooks, 9.2ms\n",
            "video 1/1 (frame 512/1001) /content/chess.mp4: 640x640 2 Bishops, 2 Kings, 4 Knights, 2 Queens, 2 Rooks, 9.0ms\n",
            "video 1/1 (frame 513/1001) /content/chess.mp4: 640x640 2 Bishops, 2 Kings, 4 Knights, 2 Queens, 3 Rooks, 8.9ms\n",
            "video 1/1 (frame 514/1001) /content/chess.mp4: 640x640 2 Bishops, 2 Kings, 4 Knights, 2 Queens, 2 Rooks, 8.9ms\n",
            "video 1/1 (frame 515/1001) /content/chess.mp4: 640x640 2 Bishops, 2 Kings, 4 Knights, 2 Queens, 2 Rooks, 8.7ms\n",
            "video 1/1 (frame 516/1001) /content/chess.mp4: 640x640 2 Bishops, 2 Kings, 4 Knights, 2 Queens, 2 Rooks, 8.3ms\n",
            "video 1/1 (frame 517/1001) /content/chess.mp4: 640x640 2 Bishops, 2 Kings, 4 Knights, 1 Queen, 4 Rooks, 9.0ms\n",
            "video 1/1 (frame 518/1001) /content/chess.mp4: 640x640 3 Bishops, 2 Kings, 4 Knights, 2 Queens, 4 Rooks, 8.3ms\n",
            "video 1/1 (frame 519/1001) /content/chess.mp4: 640x640 3 Bishops, 2 Kings, 4 Knights, 1 Pawn, 1 Queen, 4 Rooks, 8.4ms\n",
            "video 1/1 (frame 520/1001) /content/chess.mp4: 640x640 3 Bishops, 2 Kings, 4 Knights, 1 Pawn, 2 Queens, 4 Rooks, 8.8ms\n",
            "video 1/1 (frame 521/1001) /content/chess.mp4: 640x640 3 Bishops, 2 Kings, 4 Knights, 1 Pawn, 2 Queens, 4 Rooks, 8.3ms\n",
            "video 1/1 (frame 522/1001) /content/chess.mp4: 640x640 3 Bishops, 2 Kings, 4 Knights, 2 Queens, 4 Rooks, 8.3ms\n",
            "video 1/1 (frame 523/1001) /content/chess.mp4: 640x640 3 Bishops, 2 Kings, 4 Knights, 2 Queens, 4 Rooks, 8.2ms\n",
            "video 1/1 (frame 524/1001) /content/chess.mp4: 640x640 3 Bishops, 2 Kings, 4 Knights, 2 Queens, 4 Rooks, 8.5ms\n",
            "video 1/1 (frame 525/1001) /content/chess.mp4: 640x640 3 Bishops, 2 Kings, 4 Knights, 2 Queens, 4 Rooks, 8.3ms\n",
            "video 1/1 (frame 526/1001) /content/chess.mp4: 640x640 3 Bishops, 2 Kings, 4 Knights, 2 Queens, 4 Rooks, 8.4ms\n",
            "video 1/1 (frame 527/1001) /content/chess.mp4: 640x640 3 Bishops, 2 Kings, 4 Knights, 2 Queens, 4 Rooks, 8.2ms\n",
            "video 1/1 (frame 528/1001) /content/chess.mp4: 640x640 3 Bishops, 2 Kings, 4 Knights, 2 Queens, 4 Rooks, 8.3ms\n",
            "video 1/1 (frame 529/1001) /content/chess.mp4: 640x640 3 Bishops, 2 Kings, 4 Knights, 2 Queens, 4 Rooks, 9.6ms\n",
            "video 1/1 (frame 530/1001) /content/chess.mp4: 640x640 3 Bishops, 2 Kings, 4 Knights, 2 Queens, 4 Rooks, 8.3ms\n",
            "video 1/1 (frame 531/1001) /content/chess.mp4: 640x640 3 Bishops, 2 Kings, 4 Knights, 2 Queens, 4 Rooks, 8.2ms\n",
            "video 1/1 (frame 532/1001) /content/chess.mp4: 640x640 3 Bishops, 2 Kings, 4 Knights, 2 Queens, 4 Rooks, 8.3ms\n",
            "video 1/1 (frame 533/1001) /content/chess.mp4: 640x640 3 Bishops, 2 Kings, 4 Knights, 2 Queens, 4 Rooks, 8.3ms\n",
            "video 1/1 (frame 534/1001) /content/chess.mp4: 640x640 3 Bishops, 2 Kings, 4 Knights, 2 Queens, 4 Rooks, 8.7ms\n",
            "video 1/1 (frame 535/1001) /content/chess.mp4: 640x640 3 Bishops, 2 Kings, 4 Knights, 2 Queens, 4 Rooks, 8.2ms\n",
            "video 1/1 (frame 536/1001) /content/chess.mp4: 640x640 3 Bishops, 2 Kings, 4 Knights, 2 Queens, 4 Rooks, 8.3ms\n",
            "video 1/1 (frame 537/1001) /content/chess.mp4: 640x640 3 Bishops, 2 Kings, 4 Knights, 2 Queens, 4 Rooks, 8.4ms\n",
            "video 1/1 (frame 538/1001) /content/chess.mp4: 640x640 3 Bishops, 2 Kings, 4 Knights, 2 Queens, 4 Rooks, 8.3ms\n",
            "video 1/1 (frame 539/1001) /content/chess.mp4: 640x640 3 Bishops, 2 Kings, 4 Knights, 2 Queens, 4 Rooks, 8.2ms\n",
            "video 1/1 (frame 540/1001) /content/chess.mp4: 640x640 3 Bishops, 2 Kings, 4 Knights, 2 Queens, 4 Rooks, 8.3ms\n",
            "video 1/1 (frame 541/1001) /content/chess.mp4: 640x640 3 Bishops, 2 Kings, 4 Knights, 2 Queens, 4 Rooks, 8.1ms\n",
            "video 1/1 (frame 542/1001) /content/chess.mp4: 640x640 4 Bishops, 2 Kings, 4 Knights, 2 Pawns, 2 Queens, 4 Rooks, 8.4ms\n",
            "video 1/1 (frame 543/1001) /content/chess.mp4: 640x640 3 Bishops, 2 Kings, 4 Knights, 1 Pawn, 2 Queens, 4 Rooks, 7.9ms\n",
            "video 1/1 (frame 544/1001) /content/chess.mp4: 640x640 3 Bishops, 2 Kings, 4 Knights, 2 Queens, 4 Rooks, 10.6ms\n",
            "video 1/1 (frame 545/1001) /content/chess.mp4: 640x640 3 Bishops, 2 Kings, 4 Knights, 1 Pawn, 2 Queens, 4 Rooks, 9.5ms\n",
            "video 1/1 (frame 546/1001) /content/chess.mp4: 640x640 3 Bishops, 2 Kings, 4 Knights, 2 Queens, 4 Rooks, 8.5ms\n",
            "video 1/1 (frame 547/1001) /content/chess.mp4: 640x640 3 Bishops, 2 Kings, 4 Knights, 2 Queens, 4 Rooks, 8.0ms\n",
            "video 1/1 (frame 548/1001) /content/chess.mp4: 640x640 3 Bishops, 2 Kings, 4 Knights, 2 Queens, 4 Rooks, 8.0ms\n",
            "video 1/1 (frame 549/1001) /content/chess.mp4: 640x640 3 Bishops, 2 Kings, 4 Knights, 2 Queens, 4 Rooks, 8.6ms\n",
            "video 1/1 (frame 550/1001) /content/chess.mp4: 640x640 3 Bishops, 2 Kings, 4 Knights, 2 Queens, 4 Rooks, 8.1ms\n",
            "video 1/1 (frame 551/1001) /content/chess.mp4: 640x640 3 Bishops, 2 Kings, 4 Knights, 2 Queens, 4 Rooks, 8.1ms\n",
            "video 1/1 (frame 552/1001) /content/chess.mp4: 640x640 3 Bishops, 2 Kings, 4 Knights, 2 Queens, 4 Rooks, 8.2ms\n",
            "video 1/1 (frame 553/1001) /content/chess.mp4: 640x640 3 Bishops, 2 Kings, 4 Knights, 2 Queens, 4 Rooks, 11.2ms\n",
            "video 1/1 (frame 554/1001) /content/chess.mp4: 640x640 3 Bishops, 2 Kings, 4 Knights, 2 Queens, 4 Rooks, 16.2ms\n",
            "video 1/1 (frame 555/1001) /content/chess.mp4: 640x640 3 Bishops, 2 Kings, 4 Knights, 2 Queens, 4 Rooks, 8.3ms\n",
            "video 1/1 (frame 556/1001) /content/chess.mp4: 640x640 3 Bishops, 2 Kings, 4 Knights, 1 Pawn, 2 Queens, 4 Rooks, 8.4ms\n",
            "video 1/1 (frame 557/1001) /content/chess.mp4: 640x640 3 Bishops, 2 Kings, 4 Knights, 2 Queens, 4 Rooks, 8.3ms\n",
            "video 1/1 (frame 558/1001) /content/chess.mp4: 640x640 3 Bishops, 2 Kings, 4 Knights, 2 Queens, 4 Rooks, 11.0ms\n",
            "video 1/1 (frame 559/1001) /content/chess.mp4: 640x640 3 Bishops, 2 Kings, 4 Knights, 2 Queens, 4 Rooks, 9.0ms\n",
            "video 1/1 (frame 560/1001) /content/chess.mp4: 640x640 3 Bishops, 2 Kings, 4 Knights, 2 Queens, 4 Rooks, 8.5ms\n",
            "video 1/1 (frame 561/1001) /content/chess.mp4: 640x640 3 Bishops, 2 Kings, 4 Knights, 2 Queens, 4 Rooks, 8.3ms\n",
            "video 1/1 (frame 562/1001) /content/chess.mp4: 640x640 3 Bishops, 2 Kings, 4 Knights, 2 Queens, 4 Rooks, 8.9ms\n",
            "video 1/1 (frame 563/1001) /content/chess.mp4: 640x640 3 Bishops, 2 Kings, 4 Knights, 2 Queens, 4 Rooks, 8.2ms\n",
            "video 1/1 (frame 564/1001) /content/chess.mp4: 640x640 3 Bishops, 2 Kings, 4 Knights, 2 Queens, 4 Rooks, 8.3ms\n",
            "video 1/1 (frame 565/1001) /content/chess.mp4: 640x640 3 Bishops, 2 Kings, 4 Knights, 2 Queens, 4 Rooks, 8.3ms\n",
            "video 1/1 (frame 566/1001) /content/chess.mp4: 640x640 3 Bishops, 2 Kings, 4 Knights, 2 Queens, 4 Rooks, 8.3ms\n",
            "video 1/1 (frame 567/1001) /content/chess.mp4: 640x640 3 Bishops, 2 Kings, 4 Knights, 2 Queens, 4 Rooks, 9.8ms\n",
            "video 1/1 (frame 568/1001) /content/chess.mp4: 640x640 1 Bishop, 1 King, 4 Knights, 8.4ms\n",
            "video 1/1 (frame 569/1001) /content/chess.mp4: 640x640 1 Bishop, 1 King, 4 Knights, 8.3ms\n",
            "video 1/1 (frame 570/1001) /content/chess.mp4: 640x640 1 Bishop, 1 King, 4 Knights, 8.4ms\n",
            "video 1/1 (frame 571/1001) /content/chess.mp4: 640x640 1 Bishop, 1 King, 4 Knights, 8.2ms\n",
            "video 1/1 (frame 572/1001) /content/chess.mp4: 640x640 1 Bishop, 1 King, 4 Knights, 9.1ms\n",
            "video 1/1 (frame 573/1001) /content/chess.mp4: 640x640 1 Bishop, 1 King, 4 Knights, 8.4ms\n",
            "video 1/1 (frame 574/1001) /content/chess.mp4: 640x640 1 Bishop, 1 King, 4 Knights, 8.3ms\n",
            "video 1/1 (frame 575/1001) /content/chess.mp4: 640x640 1 Bishop, 1 King, 4 Knights, 8.0ms\n",
            "video 1/1 (frame 576/1001) /content/chess.mp4: 640x640 1 Bishop, 1 King, 4 Knights, 8.6ms\n",
            "video 1/1 (frame 577/1001) /content/chess.mp4: 640x640 1 Bishop, 1 King, 4 Knights, 8.1ms\n",
            "video 1/1 (frame 578/1001) /content/chess.mp4: 640x640 1 Bishop, 1 King, 4 Knights, 10.2ms\n",
            "video 1/1 (frame 579/1001) /content/chess.mp4: 640x640 1 Bishop, 1 King, 4 Knights, 8.1ms\n",
            "video 1/1 (frame 580/1001) /content/chess.mp4: 640x640 1 Bishop, 1 King, 4 Knights, 7.9ms\n",
            "video 1/1 (frame 581/1001) /content/chess.mp4: 640x640 1 Bishop, 1 King, 4 Knights, 8.0ms\n",
            "video 1/1 (frame 582/1001) /content/chess.mp4: 640x640 1 Bishop, 1 King, 4 Knights, 7.9ms\n",
            "video 1/1 (frame 583/1001) /content/chess.mp4: 640x640 1 Bishop, 1 King, 4 Knights, 8.7ms\n",
            "video 1/1 (frame 584/1001) /content/chess.mp4: 640x640 1 Bishop, 1 King, 4 Knights, 8.0ms\n",
            "video 1/1 (frame 585/1001) /content/chess.mp4: 640x640 1 Bishop, 1 King, 4 Knights, 9.7ms\n",
            "video 1/1 (frame 586/1001) /content/chess.mp4: 640x640 1 Bishop, 1 King, 4 Knights, 8.1ms\n",
            "video 1/1 (frame 587/1001) /content/chess.mp4: 640x640 1 Bishop, 1 King, 4 Knights, 7.9ms\n",
            "video 1/1 (frame 588/1001) /content/chess.mp4: 640x640 1 Bishop, 1 King, 4 Knights, 8.2ms\n",
            "video 1/1 (frame 589/1001) /content/chess.mp4: 640x640 1 Bishop, 1 King, 4 Knights, 8.0ms\n",
            "video 1/1 (frame 590/1001) /content/chess.mp4: 640x640 1 Bishop, 1 King, 4 Knights, 8.1ms\n",
            "video 1/1 (frame 591/1001) /content/chess.mp4: 640x640 1 Bishop, 1 King, 4 Knights, 8.3ms\n",
            "video 1/1 (frame 592/1001) /content/chess.mp4: 640x640 1 Bishop, 1 King, 4 Knights, 8.3ms\n",
            "video 1/1 (frame 593/1001) /content/chess.mp4: 640x640 1 Bishop, 1 King, 4 Knights, 10.7ms\n",
            "video 1/1 (frame 594/1001) /content/chess.mp4: 640x640 1 Bishop, 1 King, 4 Knights, 10.3ms\n",
            "video 1/1 (frame 595/1001) /content/chess.mp4: 640x640 1 Bishop, 1 King, 4 Knights, 8.3ms\n",
            "video 1/1 (frame 596/1001) /content/chess.mp4: 640x640 1 Bishop, 1 King, 4 Knights, 8.4ms\n",
            "video 1/1 (frame 597/1001) /content/chess.mp4: 640x640 1 Bishop, 1 King, 4 Knights, 8.3ms\n",
            "video 1/1 (frame 598/1001) /content/chess.mp4: 640x640 1 Bishop, 1 King, 4 Knights, 8.8ms\n",
            "video 1/1 (frame 599/1001) /content/chess.mp4: 640x640 1 Bishop, 1 King, 4 Knights, 8.4ms\n",
            "video 1/1 (frame 600/1001) /content/chess.mp4: 640x640 1 Bishop, 1 King, 4 Knights, 8.4ms\n",
            "video 1/1 (frame 601/1001) /content/chess.mp4: 640x640 1 Bishop, 1 King, 4 Knights, 8.4ms\n",
            "video 1/1 (frame 602/1001) /content/chess.mp4: 640x640 1 Bishop, 1 King, 4 Knights, 8.2ms\n",
            "video 1/1 (frame 603/1001) /content/chess.mp4: 640x640 1 Bishop, 1 King, 4 Knights, 8.2ms\n",
            "video 1/1 (frame 604/1001) /content/chess.mp4: 640x640 1 Bishop, 1 King, 4 Knights, 8.3ms\n",
            "video 1/1 (frame 605/1001) /content/chess.mp4: 640x640 1 Bishop, 1 King, 4 Knights, 15.6ms\n",
            "video 1/1 (frame 606/1001) /content/chess.mp4: 640x640 1 Bishop, 1 King, 4 Knights, 8.8ms\n",
            "video 1/1 (frame 607/1001) /content/chess.mp4: 640x640 1 Bishop, 1 King, 4 Knights, 9.9ms\n",
            "video 1/1 (frame 608/1001) /content/chess.mp4: 640x640 1 King, 4 Knights, 10.2ms\n",
            "video 1/1 (frame 609/1001) /content/chess.mp4: 640x640 1 King, 4 Knights, 8.9ms\n",
            "video 1/1 (frame 610/1001) /content/chess.mp4: 640x640 1 King, 4 Knights, 8.7ms\n",
            "video 1/1 (frame 611/1001) /content/chess.mp4: 640x640 1 King, 4 Knights, 8.6ms\n",
            "video 1/1 (frame 612/1001) /content/chess.mp4: 640x640 1 Bishop, 1 King, 4 Knights, 8.7ms\n",
            "video 1/1 (frame 613/1001) /content/chess.mp4: 640x640 1 Bishop, 1 King, 4 Knights, 10.0ms\n",
            "video 1/1 (frame 614/1001) /content/chess.mp4: 640x640 1 Bishop, 1 King, 4 Knights, 8.5ms\n",
            "video 1/1 (frame 615/1001) /content/chess.mp4: 640x640 1 Bishop, 1 King, 4 Knights, 8.3ms\n",
            "video 1/1 (frame 616/1001) /content/chess.mp4: 640x640 1 Bishop, 1 King, 4 Knights, 8.5ms\n",
            "video 1/1 (frame 617/1001) /content/chess.mp4: 640x640 1 Bishop, 1 King, 4 Knights, 8.3ms\n",
            "video 1/1 (frame 618/1001) /content/chess.mp4: 640x640 1 King, 4 Knights, 8.7ms\n",
            "video 1/1 (frame 619/1001) /content/chess.mp4: 640x640 1 King, 4 Knights, 8.3ms\n",
            "video 1/1 (frame 620/1001) /content/chess.mp4: 640x640 1 King, 4 Knights, 8.6ms\n",
            "video 1/1 (frame 621/1001) /content/chess.mp4: 640x640 1 King, 4 Knights, 8.6ms\n",
            "video 1/1 (frame 622/1001) /content/chess.mp4: 640x640 1 King, 4 Knights, 8.3ms\n",
            "video 1/1 (frame 623/1001) /content/chess.mp4: 640x640 1 King, 4 Knights, 8.7ms\n",
            "video 1/1 (frame 624/1001) /content/chess.mp4: 640x640 1 King, 4 Knights, 8.8ms\n",
            "video 1/1 (frame 625/1001) /content/chess.mp4: 640x640 1 King, 4 Knights, 8.5ms\n",
            "video 1/1 (frame 626/1001) /content/chess.mp4: 640x640 1 King, 4 Knights, 9.1ms\n",
            "video 1/1 (frame 627/1001) /content/chess.mp4: 640x640 1 King, 4 Knights, 8.4ms\n",
            "video 1/1 (frame 628/1001) /content/chess.mp4: 640x640 1 King, 4 Knights, 9.5ms\n",
            "video 1/1 (frame 629/1001) /content/chess.mp4: 640x640 1 King, 4 Knights, 8.5ms\n",
            "video 1/1 (frame 630/1001) /content/chess.mp4: 640x640 1 King, 4 Knights, 8.3ms\n",
            "video 1/1 (frame 631/1001) /content/chess.mp4: 640x640 1 Bishop, 1 King, 4 Knights, 8.2ms\n",
            "video 1/1 (frame 632/1001) /content/chess.mp4: 640x640 1 King, 4 Knights, 8.2ms\n",
            "video 1/1 (frame 633/1001) /content/chess.mp4: 640x640 1 King, 4 Knights, 8.3ms\n",
            "video 1/1 (frame 634/1001) /content/chess.mp4: 640x640 1 King, 4 Knights, 8.3ms\n",
            "video 1/1 (frame 635/1001) /content/chess.mp4: 640x640 1 King, 4 Knights, 8.7ms\n",
            "video 1/1 (frame 636/1001) /content/chess.mp4: 640x640 1 King, 4 Knights, 8.8ms\n",
            "video 1/1 (frame 637/1001) /content/chess.mp4: 640x640 1 King, 4 Knights, 8.2ms\n",
            "video 1/1 (frame 638/1001) /content/chess.mp4: 640x640 1 King, 4 Knights, 8.2ms\n",
            "video 1/1 (frame 639/1001) /content/chess.mp4: 640x640 1 King, 4 Knights, 8.6ms\n",
            "video 1/1 (frame 640/1001) /content/chess.mp4: 640x640 1 King, 4 Knights, 8.1ms\n",
            "video 1/1 (frame 641/1001) /content/chess.mp4: 640x640 1 King, 4 Knights, 8.1ms\n",
            "video 1/1 (frame 642/1001) /content/chess.mp4: 640x640 1 King, 4 Knights, 8.1ms\n",
            "video 1/1 (frame 643/1001) /content/chess.mp4: 640x640 1 King, 4 Knights, 8.1ms\n",
            "video 1/1 (frame 644/1001) /content/chess.mp4: 640x640 1 King, 4 Knights, 8.5ms\n",
            "video 1/1 (frame 645/1001) /content/chess.mp4: 640x640 1 King, 4 Knights, 10.0ms\n",
            "video 1/1 (frame 646/1001) /content/chess.mp4: 640x640 1 King, 4 Knights, 8.3ms\n",
            "video 1/1 (frame 647/1001) /content/chess.mp4: 640x640 1 King, 4 Knights, 8.1ms\n",
            "video 1/1 (frame 648/1001) /content/chess.mp4: 640x640 1 King, 4 Knights, 8.4ms\n",
            "video 1/1 (frame 649/1001) /content/chess.mp4: 640x640 1 King, 4 Knights, 8.5ms\n",
            "video 1/1 (frame 650/1001) /content/chess.mp4: 640x640 1 King, 4 Knights, 8.2ms\n",
            "video 1/1 (frame 651/1001) /content/chess.mp4: 640x640 1 King, 4 Knights, 8.5ms\n",
            "video 1/1 (frame 652/1001) /content/chess.mp4: 640x640 1 King, 4 Knights, 8.4ms\n",
            "video 1/1 (frame 653/1001) /content/chess.mp4: 640x640 1 King, 4 Knights, 8.3ms\n",
            "video 1/1 (frame 654/1001) /content/chess.mp4: 640x640 1 King, 4 Knights, 8.2ms\n",
            "video 1/1 (frame 655/1001) /content/chess.mp4: 640x640 2 Bishops, 2 Kings, 4 Knights, 2 Queens, 4 Rooks, 8.3ms\n",
            "video 1/1 (frame 656/1001) /content/chess.mp4: 640x640 2 Bishops, 2 Kings, 4 Knights, 2 Queens, 4 Rooks, 8.4ms\n",
            "video 1/1 (frame 657/1001) /content/chess.mp4: 640x640 2 Bishops, 2 Kings, 4 Knights, 2 Queens, 4 Rooks, 13.4ms\n",
            "video 1/1 (frame 658/1001) /content/chess.mp4: 640x640 2 Bishops, 2 Kings, 4 Knights, 2 Queens, 4 Rooks, 14.1ms\n",
            "video 1/1 (frame 659/1001) /content/chess.mp4: 640x640 2 Bishops, 2 Kings, 4 Knights, 2 Queens, 4 Rooks, 9.6ms\n",
            "video 1/1 (frame 660/1001) /content/chess.mp4: 640x640 2 Bishops, 2 Kings, 4 Knights, 2 Queens, 4 Rooks, 8.8ms\n",
            "video 1/1 (frame 661/1001) /content/chess.mp4: 640x640 3 Bishops, 2 Kings, 4 Knights, 2 Queens, 4 Rooks, 8.9ms\n",
            "video 1/1 (frame 662/1001) /content/chess.mp4: 640x640 3 Bishops, 2 Kings, 4 Knights, 2 Queens, 4 Rooks, 8.3ms\n",
            "video 1/1 (frame 663/1001) /content/chess.mp4: 640x640 3 Bishops, 2 Kings, 4 Knights, 2 Queens, 4 Rooks, 8.5ms\n",
            "video 1/1 (frame 664/1001) /content/chess.mp4: 640x640 3 Bishops, 2 Kings, 4 Knights, 2 Queens, 4 Rooks, 8.3ms\n",
            "video 1/1 (frame 665/1001) /content/chess.mp4: 640x640 3 Bishops, 2 Kings, 4 Knights, 2 Queens, 4 Rooks, 8.8ms\n",
            "video 1/1 (frame 666/1001) /content/chess.mp4: 640x640 3 Bishops, 2 Kings, 4 Knights, 2 Queens, 4 Rooks, 8.6ms\n",
            "video 1/1 (frame 667/1001) /content/chess.mp4: 640x640 3 Bishops, 2 Kings, 4 Knights, 2 Queens, 4 Rooks, 8.5ms\n",
            "video 1/1 (frame 668/1001) /content/chess.mp4: 640x640 2 Bishops, 2 Kings, 4 Knights, 2 Queens, 4 Rooks, 8.8ms\n",
            "video 1/1 (frame 669/1001) /content/chess.mp4: 640x640 2 Bishops, 2 Kings, 4 Knights, 2 Queens, 4 Rooks, 8.4ms\n",
            "video 1/1 (frame 670/1001) /content/chess.mp4: 640x640 2 Bishops, 2 Kings, 4 Knights, 2 Queens, 4 Rooks, 8.2ms\n",
            "video 1/1 (frame 671/1001) /content/chess.mp4: 640x640 2 Bishops, 2 Kings, 4 Knights, 2 Queens, 4 Rooks, 8.8ms\n",
            "video 1/1 (frame 672/1001) /content/chess.mp4: 640x640 3 Bishops, 2 Kings, 4 Knights, 2 Queens, 4 Rooks, 8.3ms\n",
            "video 1/1 (frame 673/1001) /content/chess.mp4: 640x640 2 Bishops, 2 Kings, 4 Knights, 2 Queens, 4 Rooks, 10.7ms\n",
            "video 1/1 (frame 674/1001) /content/chess.mp4: 640x640 3 Bishops, 2 Kings, 4 Knights, 2 Queens, 4 Rooks, 8.5ms\n",
            "video 1/1 (frame 675/1001) /content/chess.mp4: 640x640 2 Bishops, 2 Kings, 4 Knights, 2 Queens, 4 Rooks, 8.3ms\n",
            "video 1/1 (frame 676/1001) /content/chess.mp4: 640x640 3 Bishops, 2 Kings, 4 Knights, 2 Queens, 4 Rooks, 8.2ms\n",
            "video 1/1 (frame 677/1001) /content/chess.mp4: 640x640 3 Bishops, 2 Kings, 4 Knights, 2 Queens, 4 Rooks, 8.8ms\n",
            "video 1/1 (frame 678/1001) /content/chess.mp4: 640x640 3 Bishops, 2 Kings, 4 Knights, 2 Queens, 4 Rooks, 8.4ms\n",
            "video 1/1 (frame 679/1001) /content/chess.mp4: 640x640 3 Bishops, 2 Kings, 4 Knights, 2 Queens, 4 Rooks, 8.3ms\n",
            "video 1/1 (frame 680/1001) /content/chess.mp4: 640x640 3 Bishops, 2 Kings, 4 Knights, 2 Queens, 4 Rooks, 8.4ms\n",
            "video 1/1 (frame 681/1001) /content/chess.mp4: 640x640 2 Bishops, 2 Kings, 4 Knights, 2 Queens, 4 Rooks, 8.2ms\n",
            "video 1/1 (frame 682/1001) /content/chess.mp4: 640x640 2 Bishops, 2 Kings, 4 Knights, 2 Queens, 4 Rooks, 8.3ms\n",
            "video 1/1 (frame 683/1001) /content/chess.mp4: 640x640 2 Bishops, 3 Kings, 4 Knights, 2 Queens, 4 Rooks, 8.4ms\n",
            "video 1/1 (frame 684/1001) /content/chess.mp4: 640x640 2 Bishops, 2 Kings, 4 Knights, 2 Queens, 4 Rooks, 9.5ms\n",
            "video 1/1 (frame 685/1001) /content/chess.mp4: 640x640 2 Bishops, 2 Kings, 4 Knights, 2 Queens, 3 Rooks, 8.2ms\n",
            "video 1/1 (frame 686/1001) /content/chess.mp4: 640x640 2 Bishops, 2 Kings, 4 Knights, 2 Queens, 4 Rooks, 8.2ms\n",
            "video 1/1 (frame 687/1001) /content/chess.mp4: 640x640 2 Bishops, 2 Kings, 4 Knights, 2 Queens, 4 Rooks, 8.9ms\n",
            "video 1/1 (frame 688/1001) /content/chess.mp4: 640x640 2 Bishops, 2 Kings, 4 Knights, 2 Queens, 4 Rooks, 8.5ms\n",
            "video 1/1 (frame 689/1001) /content/chess.mp4: 640x640 2 Bishops, 2 Kings, 4 Knights, 2 Queens, 4 Rooks, 8.2ms\n",
            "video 1/1 (frame 690/1001) /content/chess.mp4: 640x640 2 Bishops, 2 Kings, 4 Knights, 2 Queens, 4 Rooks, 8.1ms\n",
            "video 1/1 (frame 691/1001) /content/chess.mp4: 640x640 2 Bishops, 2 Kings, 4 Knights, 2 Queens, 4 Rooks, 8.0ms\n",
            "video 1/1 (frame 692/1001) /content/chess.mp4: 640x640 2 Bishops, 2 Kings, 4 Knights, 2 Queens, 4 Rooks, 7.9ms\n",
            "video 1/1 (frame 693/1001) /content/chess.mp4: 640x640 2 Bishops, 2 Kings, 4 Knights, 2 Queens, 4 Rooks, 9.2ms\n",
            "video 1/1 (frame 694/1001) /content/chess.mp4: 640x640 2 Bishops, 2 Kings, 4 Knights, 2 Queens, 4 Rooks, 8.6ms\n",
            "video 1/1 (frame 695/1001) /content/chess.mp4: 640x640 2 Bishops, 2 Kings, 4 Knights, 2 Queens, 4 Rooks, 8.1ms\n",
            "video 1/1 (frame 696/1001) /content/chess.mp4: 640x640 2 Bishops, 2 Kings, 4 Knights, 2 Queens, 4 Rooks, 8.6ms\n",
            "video 1/1 (frame 697/1001) /content/chess.mp4: 640x640 2 Bishops, 2 Kings, 4 Knights, 2 Queens, 4 Rooks, 8.3ms\n",
            "video 1/1 (frame 698/1001) /content/chess.mp4: 640x640 2 Bishops, 2 Kings, 4 Knights, 2 Queens, 4 Rooks, 8.4ms\n",
            "video 1/1 (frame 699/1001) /content/chess.mp4: 640x640 2 Bishops, 2 Kings, 4 Knights, 2 Queens, 4 Rooks, 8.1ms\n",
            "video 1/1 (frame 700/1001) /content/chess.mp4: 640x640 2 Bishops, 2 Kings, 4 Knights, 2 Queens, 3 Rooks, 8.3ms\n",
            "video 1/1 (frame 701/1001) /content/chess.mp4: 640x640 2 Bishops, 2 Kings, 4 Knights, 2 Queens, 3 Rooks, 8.0ms\n",
            "video 1/1 (frame 702/1001) /content/chess.mp4: 640x640 2 Bishops, 2 Kings, 4 Knights, 2 Queens, 3 Rooks, 7.9ms\n",
            "video 1/1 (frame 703/1001) /content/chess.mp4: 640x640 2 Bishops, 2 Kings, 4 Knights, 2 Queens, 3 Rooks, 9.4ms\n",
            "video 1/1 (frame 704/1001) /content/chess.mp4: 640x640 2 Bishops, 2 Kings, 4 Knights, 2 Queens, 3 Rooks, 8.0ms\n",
            "video 1/1 (frame 705/1001) /content/chess.mp4: 640x640 2 Bishops, 2 Kings, 4 Knights, 2 Queens, 3 Rooks, 8.1ms\n",
            "video 1/1 (frame 706/1001) /content/chess.mp4: 640x640 2 Bishops, 2 Kings, 4 Knights, 2 Queens, 3 Rooks, 9.1ms\n",
            "video 1/1 (frame 707/1001) /content/chess.mp4: 640x640 2 Bishops, 2 Kings, 4 Knights, 2 Queens, 3 Rooks, 16.5ms\n",
            "video 1/1 (frame 708/1001) /content/chess.mp4: 640x640 2 Bishops, 2 Kings, 4 Knights, 2 Queens, 3 Rooks, 8.7ms\n",
            "video 1/1 (frame 709/1001) /content/chess.mp4: 640x640 2 Bishops, 2 Kings, 4 Knights, 2 Queens, 3 Rooks, 8.4ms\n",
            "video 1/1 (frame 710/1001) /content/chess.mp4: 640x640 2 Bishops, 2 Kings, 4 Knights, 2 Queens, 3 Rooks, 8.1ms\n",
            "video 1/1 (frame 711/1001) /content/chess.mp4: 640x640 2 Bishops, 2 Kings, 4 Knights, 2 Queens, 3 Rooks, 8.2ms\n",
            "video 1/1 (frame 712/1001) /content/chess.mp4: 640x640 2 Bishops, 2 Kings, 4 Knights, 2 Queens, 3 Rooks, 9.4ms\n",
            "video 1/1 (frame 713/1001) /content/chess.mp4: 640x640 2 Bishops, 2 Kings, 4 Knights, 2 Queens, 3 Rooks, 9.1ms\n",
            "video 1/1 (frame 714/1001) /content/chess.mp4: 640x640 2 Bishops, 2 Kings, 4 Knights, 2 Queens, 3 Rooks, 8.8ms\n",
            "video 1/1 (frame 715/1001) /content/chess.mp4: 640x640 2 Bishops, 2 Kings, 4 Knights, 2 Queens, 3 Rooks, 8.3ms\n",
            "video 1/1 (frame 716/1001) /content/chess.mp4: 640x640 2 Bishops, 2 Kings, 4 Knights, 2 Queens, 3 Rooks, 8.3ms\n",
            "video 1/1 (frame 717/1001) /content/chess.mp4: 640x640 2 Bishops, 2 Kings, 4 Knights, 2 Queens, 3 Rooks, 8.5ms\n",
            "video 1/1 (frame 718/1001) /content/chess.mp4: 640x640 2 Bishops, 2 Kings, 4 Knights, 2 Queens, 3 Rooks, 8.4ms\n",
            "video 1/1 (frame 719/1001) /content/chess.mp4: 640x640 1 Bishop, 2 Kings, 4 Knights, 2 Queens, 3 Rooks, 11.6ms\n",
            "video 1/1 (frame 720/1001) /content/chess.mp4: 640x640 1 Bishop, 2 Kings, 4 Knights, 2 Queens, 3 Rooks, 13.7ms\n",
            "video 1/1 (frame 721/1001) /content/chess.mp4: 640x640 1 Bishop, 2 Kings, 4 Knights, 2 Queens, 3 Rooks, 12.0ms\n",
            "video 1/1 (frame 722/1001) /content/chess.mp4: 640x640 1 Bishop, 2 Kings, 4 Knights, 2 Queens, 3 Rooks, 13.6ms\n",
            "video 1/1 (frame 723/1001) /content/chess.mp4: 640x640 1 Bishop, 2 Kings, 4 Knights, 2 Queens, 3 Rooks, 12.7ms\n",
            "video 1/1 (frame 724/1001) /content/chess.mp4: 640x640 1 Bishop, 2 Kings, 4 Knights, 2 Queens, 3 Rooks, 9.2ms\n",
            "video 1/1 (frame 725/1001) /content/chess.mp4: 640x640 1 Bishop, 2 Kings, 4 Knights, 2 Queens, 3 Rooks, 8.6ms\n",
            "video 1/1 (frame 726/1001) /content/chess.mp4: 640x640 1 Bishop, 2 Kings, 4 Knights, 2 Queens, 3 Rooks, 8.5ms\n",
            "video 1/1 (frame 727/1001) /content/chess.mp4: 640x640 1 Bishop, 2 Kings, 4 Knights, 2 Queens, 3 Rooks, 8.3ms\n",
            "video 1/1 (frame 728/1001) /content/chess.mp4: 640x640 1 Bishop, 2 Kings, 4 Knights, 2 Queens, 3 Rooks, 8.7ms\n",
            "video 1/1 (frame 729/1001) /content/chess.mp4: 640x640 1 Bishop, 2 Kings, 4 Knights, 2 Queens, 3 Rooks, 8.7ms\n",
            "video 1/1 (frame 730/1001) /content/chess.mp4: 640x640 1 Bishop, 2 Kings, 4 Knights, 2 Queens, 3 Rooks, 8.5ms\n",
            "video 1/1 (frame 731/1001) /content/chess.mp4: 640x640 1 Bishop, 2 Kings, 4 Knights, 2 Queens, 3 Rooks, 8.2ms\n",
            "video 1/1 (frame 732/1001) /content/chess.mp4: 640x640 1 Bishop, 2 Kings, 4 Knights, 2 Queens, 3 Rooks, 8.2ms\n",
            "video 1/1 (frame 733/1001) /content/chess.mp4: 640x640 1 Bishop, 2 Kings, 4 Knights, 2 Queens, 3 Rooks, 8.1ms\n",
            "video 1/1 (frame 734/1001) /content/chess.mp4: 640x640 1 Bishop, 2 Kings, 4 Knights, 2 Queens, 3 Rooks, 10.8ms\n",
            "video 1/1 (frame 735/1001) /content/chess.mp4: 640x640 1 Bishop, 2 Kings, 4 Knights, 2 Queens, 3 Rooks, 8.7ms\n",
            "video 1/1 (frame 736/1001) /content/chess.mp4: 640x640 1 Bishop, 2 Kings, 4 Knights, 2 Queens, 3 Rooks, 8.2ms\n",
            "video 1/1 (frame 737/1001) /content/chess.mp4: 640x640 1 Bishop, 2 Kings, 4 Knights, 2 Queens, 3 Rooks, 8.1ms\n",
            "video 1/1 (frame 738/1001) /content/chess.mp4: 640x640 1 Bishop, 2 Kings, 4 Knights, 2 Queens, 3 Rooks, 8.2ms\n",
            "video 1/1 (frame 739/1001) /content/chess.mp4: 640x640 1 Bishop, 2 Kings, 4 Knights, 2 Queens, 3 Rooks, 8.4ms\n",
            "video 1/1 (frame 740/1001) /content/chess.mp4: 640x640 1 Bishop, 2 Kings, 4 Knights, 2 Queens, 3 Rooks, 8.8ms\n",
            "video 1/1 (frame 741/1001) /content/chess.mp4: 640x640 1 Bishop, 2 Kings, 4 Knights, 2 Queens, 3 Rooks, 8.0ms\n",
            "video 1/1 (frame 742/1001) /content/chess.mp4: 640x640 1 Bishop, 2 Kings, 4 Knights, 2 Queens, 3 Rooks, 7.9ms\n",
            "video 1/1 (frame 743/1001) /content/chess.mp4: 640x640 1 Bishop, 2 Kings, 4 Knights, 2 Queens, 4 Rooks, 8.1ms\n",
            "video 1/1 (frame 744/1001) /content/chess.mp4: 640x640 1 Bishop, 2 Kings, 4 Knights, 2 Queens, 3 Rooks, 8.6ms\n",
            "video 1/1 (frame 745/1001) /content/chess.mp4: 640x640 1 Bishop, 2 Kings, 4 Knights, 2 Queens, 3 Rooks, 11.4ms\n",
            "video 1/1 (frame 746/1001) /content/chess.mp4: 640x640 1 Bishop, 2 Kings, 4 Knights, 2 Queens, 3 Rooks, 8.1ms\n",
            "video 1/1 (frame 747/1001) /content/chess.mp4: 640x640 1 Bishop, 2 Kings, 4 Knights, 2 Queens, 3 Rooks, 8.2ms\n",
            "video 1/1 (frame 748/1001) /content/chess.mp4: 640x640 1 Bishop, 2 Kings, 4 Knights, 2 Queens, 3 Rooks, 8.1ms\n",
            "video 1/1 (frame 749/1001) /content/chess.mp4: 640x640 1 Bishop, 2 Kings, 4 Knights, 2 Queens, 3 Rooks, 10.1ms\n",
            "video 1/1 (frame 750/1001) /content/chess.mp4: 640x640 1 Bishop, 2 Kings, 4 Knights, 2 Queens, 3 Rooks, 8.8ms\n",
            "video 1/1 (frame 751/1001) /content/chess.mp4: 640x640 1 Bishop, 2 Kings, 4 Knights, 2 Queens, 3 Rooks, 8.2ms\n",
            "video 1/1 (frame 752/1001) /content/chess.mp4: 640x640 1 Bishop, 2 Kings, 4 Knights, 2 Queens, 3 Rooks, 10.3ms\n",
            "video 1/1 (frame 753/1001) /content/chess.mp4: 640x640 1 Bishop, 2 Kings, 4 Knights, 2 Queens, 3 Rooks, 9.1ms\n",
            "video 1/1 (frame 754/1001) /content/chess.mp4: 640x640 1 Bishop, 2 Kings, 4 Knights, 2 Queens, 4 Rooks, 16.0ms\n",
            "video 1/1 (frame 755/1001) /content/chess.mp4: 640x640 1 Bishop, 2 Kings, 4 Knights, 2 Queens, 3 Rooks, 8.6ms\n",
            "video 1/1 (frame 756/1001) /content/chess.mp4: 640x640 1 Bishop, 2 Kings, 4 Knights, 2 Queens, 3 Rooks, 8.7ms\n",
            "video 1/1 (frame 757/1001) /content/chess.mp4: 640x640 1 Bishop, 2 Kings, 4 Knights, 2 Queens, 4 Rooks, 20.9ms\n",
            "video 1/1 (frame 758/1001) /content/chess.mp4: 640x640 1 Bishop, 2 Kings, 4 Knights, 2 Queens, 4 Rooks, 15.0ms\n",
            "video 1/1 (frame 759/1001) /content/chess.mp4: 640x640 1 Bishop, 2 Kings, 4 Knights, 2 Queens, 4 Rooks, 15.7ms\n",
            "video 1/1 (frame 760/1001) /content/chess.mp4: 640x640 1 Bishop, 2 Kings, 4 Knights, 2 Queens, 4 Rooks, 12.4ms\n",
            "video 1/1 (frame 761/1001) /content/chess.mp4: 640x640 1 Bishop, 2 Kings, 4 Knights, 2 Queens, 4 Rooks, 13.9ms\n",
            "video 1/1 (frame 762/1001) /content/chess.mp4: 640x640 1 Bishop, 2 Kings, 4 Knights, 2 Queens, 3 Rooks, 11.4ms\n",
            "video 1/1 (frame 763/1001) /content/chess.mp4: 640x640 1 Bishop, 2 Kings, 4 Knights, 2 Queens, 4 Rooks, 13.1ms\n",
            "video 1/1 (frame 764/1001) /content/chess.mp4: 640x640 1 Bishop, 2 Kings, 4 Knights, 2 Queens, 4 Rooks, 14.5ms\n",
            "video 1/1 (frame 765/1001) /content/chess.mp4: 640x640 1 Bishop, 2 Kings, 4 Knights, 2 Queens, 4 Rooks, 14.8ms\n",
            "video 1/1 (frame 766/1001) /content/chess.mp4: 640x640 1 Bishop, 2 Kings, 4 Knights, 2 Queens, 4 Rooks, 16.1ms\n",
            "video 1/1 (frame 767/1001) /content/chess.mp4: 640x640 1 Bishop, 2 Kings, 4 Knights, 2 Queens, 3 Rooks, 11.9ms\n",
            "video 1/1 (frame 768/1001) /content/chess.mp4: 640x640 1 Bishop, 2 Kings, 4 Knights, 2 Queens, 3 Rooks, 11.0ms\n",
            "video 1/1 (frame 769/1001) /content/chess.mp4: 640x640 1 Bishop, 2 Kings, 4 Knights, 2 Queens, 3 Rooks, 12.9ms\n",
            "video 1/1 (frame 770/1001) /content/chess.mp4: 640x640 1 Bishop, 2 Kings, 4 Knights, 2 Queens, 3 Rooks, 11.6ms\n",
            "video 1/1 (frame 771/1001) /content/chess.mp4: 640x640 1 Bishop, 2 Kings, 4 Knights, 2 Queens, 4 Rooks, 10.1ms\n",
            "video 1/1 (frame 772/1001) /content/chess.mp4: 640x640 1 Bishop, 2 Kings, 4 Knights, 2 Queens, 3 Rooks, 13.0ms\n",
            "video 1/1 (frame 773/1001) /content/chess.mp4: 640x640 1 Bishop, 2 Kings, 4 Knights, 2 Queens, 4 Rooks, 15.6ms\n",
            "video 1/1 (frame 774/1001) /content/chess.mp4: 640x640 1 Bishop, 2 Kings, 4 Knights, 2 Queens, 4 Rooks, 11.2ms\n",
            "video 1/1 (frame 775/1001) /content/chess.mp4: 640x640 1 Bishop, 2 Kings, 4 Knights, 2 Queens, 4 Rooks, 11.1ms\n",
            "video 1/1 (frame 776/1001) /content/chess.mp4: 640x640 1 King, 4 Knights, 1 Queen, 11.1ms\n",
            "video 1/1 (frame 777/1001) /content/chess.mp4: 640x640 1 King, 4 Knights, 1 Queen, 13.1ms\n",
            "video 1/1 (frame 778/1001) /content/chess.mp4: 640x640 1 King, 4 Knights, 1 Queen, 11.3ms\n",
            "video 1/1 (frame 779/1001) /content/chess.mp4: 640x640 1 King, 4 Knights, 1 Queen, 11.2ms\n",
            "video 1/1 (frame 780/1001) /content/chess.mp4: 640x640 1 King, 4 Knights, 1 Queen, 11.3ms\n",
            "video 1/1 (frame 781/1001) /content/chess.mp4: 640x640 1 King, 4 Knights, 1 Queen, 12.3ms\n",
            "video 1/1 (frame 782/1001) /content/chess.mp4: 640x640 1 King, 4 Knights, 1 Queen, 11.0ms\n",
            "video 1/1 (frame 783/1001) /content/chess.mp4: 640x640 1 King, 4 Knights, 1 Queen, 10.8ms\n",
            "video 1/1 (frame 784/1001) /content/chess.mp4: 640x640 1 King, 4 Knights, 1 Queen, 12.3ms\n",
            "video 1/1 (frame 785/1001) /content/chess.mp4: 640x640 1 King, 4 Knights, 1 Queen, 10.9ms\n",
            "video 1/1 (frame 786/1001) /content/chess.mp4: 640x640 1 King, 4 Knights, 1 Queen, 14.1ms\n",
            "video 1/1 (frame 787/1001) /content/chess.mp4: 640x640 1 King, 4 Knights, 1 Queen, 17.9ms\n",
            "video 1/1 (frame 788/1001) /content/chess.mp4: 640x640 1 King, 4 Knights, 1 Queen, 13.8ms\n",
            "video 1/1 (frame 789/1001) /content/chess.mp4: 640x640 1 King, 4 Knights, 1 Queen, 15.2ms\n",
            "video 1/1 (frame 790/1001) /content/chess.mp4: 640x640 1 King, 4 Knights, 1 Queen, 10.6ms\n",
            "video 1/1 (frame 791/1001) /content/chess.mp4: 640x640 1 King, 4 Knights, 1 Queen, 10.5ms\n",
            "video 1/1 (frame 792/1001) /content/chess.mp4: 640x640 1 King, 4 Knights, 1 Queen, 10.6ms\n",
            "video 1/1 (frame 793/1001) /content/chess.mp4: 640x640 1 King, 4 Knights, 1 Queen, 10.5ms\n",
            "video 1/1 (frame 794/1001) /content/chess.mp4: 640x640 1 King, 4 Knights, 1 Queen, 10.9ms\n",
            "video 1/1 (frame 795/1001) /content/chess.mp4: 640x640 1 King, 4 Knights, 1 Queen, 10.3ms\n",
            "video 1/1 (frame 796/1001) /content/chess.mp4: 640x640 1 King, 4 Knights, 1 Queen, 10.4ms\n",
            "video 1/1 (frame 797/1001) /content/chess.mp4: 640x640 1 King, 4 Knights, 1 Queen, 10.4ms\n",
            "video 1/1 (frame 798/1001) /content/chess.mp4: 640x640 1 King, 4 Knights, 1 Queen, 12.5ms\n",
            "video 1/1 (frame 799/1001) /content/chess.mp4: 640x640 1 King, 4 Knights, 1 Queen, 10.4ms\n",
            "video 1/1 (frame 800/1001) /content/chess.mp4: 640x640 1 King, 4 Knights, 1 Queen, 10.5ms\n",
            "video 1/1 (frame 801/1001) /content/chess.mp4: 640x640 1 King, 4 Knights, 1 Queen, 10.4ms\n",
            "video 1/1 (frame 802/1001) /content/chess.mp4: 640x640 1 King, 4 Knights, 1 Queen, 10.6ms\n",
            "video 1/1 (frame 803/1001) /content/chess.mp4: 640x640 1 King, 4 Knights, 1 Queen, 10.7ms\n",
            "video 1/1 (frame 804/1001) /content/chess.mp4: 640x640 1 King, 4 Knights, 1 Queen, 10.3ms\n",
            "video 1/1 (frame 805/1001) /content/chess.mp4: 640x640 1 King, 4 Knights, 1 Queen, 10.3ms\n",
            "video 1/1 (frame 806/1001) /content/chess.mp4: 640x640 1 King, 4 Knights, 1 Queen, 16.0ms\n",
            "video 1/1 (frame 807/1001) /content/chess.mp4: 640x640 1 King, 4 Knights, 1 Queen, 13.4ms\n",
            "video 1/1 (frame 808/1001) /content/chess.mp4: 640x640 1 King, 4 Knights, 1 Queen, 15.3ms\n",
            "video 1/1 (frame 809/1001) /content/chess.mp4: 640x640 1 King, 4 Knights, 1 Queen, 16.7ms\n",
            "video 1/1 (frame 810/1001) /content/chess.mp4: 640x640 1 King, 4 Knights, 1 Queen, 14.2ms\n",
            "video 1/1 (frame 811/1001) /content/chess.mp4: 640x640 1 King, 4 Knights, 1 Queen, 15.2ms\n",
            "video 1/1 (frame 812/1001) /content/chess.mp4: 640x640 1 King, 4 Knights, 1 Queen, 11.5ms\n",
            "video 1/1 (frame 813/1001) /content/chess.mp4: 640x640 1 King, 4 Knights, 1 Queen, 17.5ms\n",
            "video 1/1 (frame 814/1001) /content/chess.mp4: 640x640 1 King, 4 Knights, 1 Queen, 12.4ms\n",
            "video 1/1 (frame 815/1001) /content/chess.mp4: 640x640 1 King, 4 Knights, 1 Queen, 11.7ms\n",
            "video 1/1 (frame 816/1001) /content/chess.mp4: 640x640 1 King, 4 Knights, 1 Queen, 11.8ms\n",
            "video 1/1 (frame 817/1001) /content/chess.mp4: 640x640 1 King, 4 Knights, 1 Queen, 10.6ms\n",
            "video 1/1 (frame 818/1001) /content/chess.mp4: 640x640 1 King, 4 Knights, 1 Queen, 11.9ms\n",
            "video 1/1 (frame 819/1001) /content/chess.mp4: 640x640 1 King, 4 Knights, 1 Queen, 15.9ms\n",
            "video 1/1 (frame 820/1001) /content/chess.mp4: 640x640 1 King, 4 Knights, 1 Queen, 15.4ms\n",
            "video 1/1 (frame 821/1001) /content/chess.mp4: 640x640 1 King, 4 Knights, 1 Queen, 19.0ms\n",
            "video 1/1 (frame 822/1001) /content/chess.mp4: 640x640 1 King, 4 Knights, 1 Queen, 15.7ms\n",
            "video 1/1 (frame 823/1001) /content/chess.mp4: 640x640 1 King, 4 Knights, 1 Queen, 15.5ms\n",
            "video 1/1 (frame 824/1001) /content/chess.mp4: 640x640 1 King, 4 Knights, 1 Queen, 13.3ms\n",
            "video 1/1 (frame 825/1001) /content/chess.mp4: 640x640 1 King, 4 Knights, 1 Queen, 22.8ms\n",
            "video 1/1 (frame 826/1001) /content/chess.mp4: 640x640 1 King, 4 Knights, 1 Queen, 15.3ms\n",
            "video 1/1 (frame 827/1001) /content/chess.mp4: 640x640 1 King, 4 Knights, 1 Queen, 15.8ms\n",
            "video 1/1 (frame 828/1001) /content/chess.mp4: 640x640 1 King, 4 Knights, 1 Queen, 15.8ms\n",
            "video 1/1 (frame 829/1001) /content/chess.mp4: 640x640 1 King, 4 Knights, 1 Queen, 15.3ms\n",
            "video 1/1 (frame 830/1001) /content/chess.mp4: 640x640 1 King, 4 Knights, 1 Queen, 15.5ms\n",
            "video 1/1 (frame 831/1001) /content/chess.mp4: 640x640 1 King, 4 Knights, 1 Queen, 15.1ms\n",
            "video 1/1 (frame 832/1001) /content/chess.mp4: 640x640 1 King, 4 Knights, 1 Queen, 15.6ms\n",
            "video 1/1 (frame 833/1001) /content/chess.mp4: 640x640 1 King, 4 Knights, 1 Queen, 15.3ms\n",
            "video 1/1 (frame 834/1001) /content/chess.mp4: 640x640 1 King, 4 Knights, 1 Queen, 18.0ms\n",
            "video 1/1 (frame 835/1001) /content/chess.mp4: 640x640 1 King, 4 Knights, 1 Queen, 8.2ms\n",
            "video 1/1 (frame 836/1001) /content/chess.mp4: 640x640 1 King, 4 Knights, 1 Queen, 8.0ms\n",
            "video 1/1 (frame 837/1001) /content/chess.mp4: 640x640 1 King, 4 Knights, 1 Queen, 8.1ms\n",
            "video 1/1 (frame 838/1001) /content/chess.mp4: 640x640 1 Bishop, 2 Kings, 4 Knights, 2 Queens, 3 Rooks, 8.0ms\n",
            "video 1/1 (frame 839/1001) /content/chess.mp4: 640x640 1 Bishop, 2 Kings, 4 Knights, 2 Queens, 3 Rooks, 10.0ms\n",
            "video 1/1 (frame 840/1001) /content/chess.mp4: 640x640 1 Bishop, 2 Kings, 4 Knights, 2 Queens, 3 Rooks, 7.8ms\n",
            "video 1/1 (frame 841/1001) /content/chess.mp4: 640x640 1 Bishop, 2 Kings, 4 Knights, 2 Queens, 3 Rooks, 7.9ms\n",
            "video 1/1 (frame 842/1001) /content/chess.mp4: 640x640 1 Bishop, 2 Kings, 4 Knights, 2 Queens, 3 Rooks, 7.8ms\n",
            "video 1/1 (frame 843/1001) /content/chess.mp4: 640x640 1 Bishop, 2 Kings, 4 Knights, 2 Queens, 3 Rooks, 7.8ms\n",
            "video 1/1 (frame 844/1001) /content/chess.mp4: 640x640 1 Bishop, 2 Kings, 4 Knights, 2 Queens, 3 Rooks, 8.6ms\n",
            "video 1/1 (frame 845/1001) /content/chess.mp4: 640x640 1 Bishop, 2 Kings, 4 Knights, 2 Queens, 3 Rooks, 8.3ms\n",
            "video 1/1 (frame 846/1001) /content/chess.mp4: 640x640 1 Bishop, 2 Kings, 4 Knights, 2 Queens, 3 Rooks, 8.3ms\n",
            "video 1/1 (frame 847/1001) /content/chess.mp4: 640x640 1 Bishop, 2 Kings, 4 Knights, 2 Queens, 3 Rooks, 8.8ms\n",
            "video 1/1 (frame 848/1001) /content/chess.mp4: 640x640 1 Bishop, 2 Kings, 4 Knights, 2 Queens, 3 Rooks, 8.0ms\n",
            "video 1/1 (frame 849/1001) /content/chess.mp4: 640x640 1 Bishop, 2 Kings, 4 Knights, 2 Queens, 3 Rooks, 8.4ms\n",
            "video 1/1 (frame 850/1001) /content/chess.mp4: 640x640 1 Bishop, 2 Kings, 4 Knights, 2 Queens, 3 Rooks, 10.1ms\n",
            "video 1/1 (frame 851/1001) /content/chess.mp4: 640x640 1 Bishop, 2 Kings, 4 Knights, 2 Queens, 3 Rooks, 8.0ms\n",
            "video 1/1 (frame 852/1001) /content/chess.mp4: 640x640 1 Bishop, 2 Kings, 4 Knights, 2 Queens, 3 Rooks, 8.0ms\n",
            "video 1/1 (frame 853/1001) /content/chess.mp4: 640x640 1 Bishop, 2 Kings, 4 Knights, 2 Queens, 3 Rooks, 7.9ms\n",
            "video 1/1 (frame 854/1001) /content/chess.mp4: 640x640 1 Bishop, 2 Kings, 4 Knights, 2 Queens, 3 Rooks, 11.6ms\n",
            "video 1/1 (frame 855/1001) /content/chess.mp4: 640x640 1 Bishop, 2 Kings, 4 Knights, 2 Queens, 3 Rooks, 8.3ms\n",
            "video 1/1 (frame 856/1001) /content/chess.mp4: 640x640 1 Bishop, 2 Kings, 4 Knights, 2 Queens, 3 Rooks, 7.9ms\n",
            "video 1/1 (frame 857/1001) /content/chess.mp4: 640x640 1 Bishop, 2 Kings, 4 Knights, 2 Queens, 3 Rooks, 7.7ms\n",
            "video 1/1 (frame 858/1001) /content/chess.mp4: 640x640 1 Bishop, 2 Kings, 4 Knights, 2 Queens, 3 Rooks, 7.8ms\n",
            "video 1/1 (frame 859/1001) /content/chess.mp4: 640x640 1 Bishop, 2 Kings, 4 Knights, 2 Queens, 3 Rooks, 8.5ms\n",
            "video 1/1 (frame 860/1001) /content/chess.mp4: 640x640 1 Bishop, 2 Kings, 4 Knights, 2 Queens, 3 Rooks, 8.3ms\n",
            "video 1/1 (frame 861/1001) /content/chess.mp4: 640x640 1 Bishop, 2 Kings, 4 Knights, 2 Queens, 3 Rooks, 7.8ms\n",
            "video 1/1 (frame 862/1001) /content/chess.mp4: 640x640 1 Bishop, 2 Kings, 4 Knights, 2 Queens, 3 Rooks, 10.3ms\n",
            "video 1/1 (frame 863/1001) /content/chess.mp4: 640x640 1 Bishop, 2 Kings, 4 Knights, 2 Queens, 3 Rooks, 8.2ms\n",
            "video 1/1 (frame 864/1001) /content/chess.mp4: 640x640 1 Bishop, 2 Kings, 4 Knights, 2 Queens, 3 Rooks, 8.4ms\n",
            "video 1/1 (frame 865/1001) /content/chess.mp4: 640x640 1 Bishop, 2 Kings, 4 Knights, 2 Queens, 3 Rooks, 8.3ms\n",
            "video 1/1 (frame 866/1001) /content/chess.mp4: 640x640 1 Bishop, 2 Kings, 4 Knights, 2 Queens, 3 Rooks, 7.8ms\n",
            "video 1/1 (frame 867/1001) /content/chess.mp4: 640x640 2 Kings, 4 Knights, 2 Queens, 3 Rooks, 8.0ms\n",
            "video 1/1 (frame 868/1001) /content/chess.mp4: 640x640 1 Bishop, 2 Kings, 4 Knights, 2 Queens, 3 Rooks, 8.0ms\n",
            "video 1/1 (frame 869/1001) /content/chess.mp4: 640x640 1 Bishop, 2 Kings, 4 Knights, 2 Queens, 3 Rooks, 8.5ms\n",
            "video 1/1 (frame 870/1001) /content/chess.mp4: 640x640 1 Bishop, 2 Kings, 4 Knights, 2 Queens, 3 Rooks, 7.9ms\n",
            "video 1/1 (frame 871/1001) /content/chess.mp4: 640x640 1 Bishop, 2 Kings, 4 Knights, 2 Queens, 3 Rooks, 14.4ms\n",
            "video 1/1 (frame 872/1001) /content/chess.mp4: 640x640 1 Bishop, 2 Kings, 4 Knights, 2 Queens, 3 Rooks, 8.2ms\n",
            "video 1/1 (frame 873/1001) /content/chess.mp4: 640x640 1 Bishop, 2 Kings, 4 Knights, 2 Queens, 3 Rooks, 8.1ms\n",
            "video 1/1 (frame 874/1001) /content/chess.mp4: 640x640 1 Bishop, 2 Kings, 4 Knights, 2 Queens, 3 Rooks, 7.8ms\n",
            "video 1/1 (frame 875/1001) /content/chess.mp4: 640x640 1 Bishop, 2 Kings, 4 Knights, 2 Queens, 3 Rooks, 8.3ms\n",
            "video 1/1 (frame 876/1001) /content/chess.mp4: 640x640 1 Bishop, 2 Kings, 4 Knights, 2 Queens, 3 Rooks, 7.9ms\n",
            "video 1/1 (frame 877/1001) /content/chess.mp4: 640x640 1 Bishop, 2 Kings, 4 Knights, 2 Queens, 3 Rooks, 7.9ms\n",
            "video 1/1 (frame 878/1001) /content/chess.mp4: 640x640 1 Bishop, 2 Kings, 4 Knights, 2 Queens, 3 Rooks, 7.8ms\n",
            "video 1/1 (frame 879/1001) /content/chess.mp4: 640x640 1 Bishop, 2 Kings, 4 Knights, 2 Queens, 3 Rooks, 8.2ms\n",
            "video 1/1 (frame 880/1001) /content/chess.mp4: 640x640 1 Bishop, 2 Kings, 4 Knights, 2 Queens, 3 Rooks, 7.8ms\n",
            "video 1/1 (frame 881/1001) /content/chess.mp4: 640x640 1 Bishop, 2 Kings, 4 Knights, 2 Queens, 3 Rooks, 12.0ms\n",
            "video 1/1 (frame 882/1001) /content/chess.mp4: 640x640 1 Bishop, 2 Kings, 4 Knights, 2 Queens, 3 Rooks, 8.1ms\n",
            "video 1/1 (frame 883/1001) /content/chess.mp4: 640x640 1 Bishop, 2 Kings, 4 Knights, 2 Queens, 3 Rooks, 7.8ms\n",
            "video 1/1 (frame 884/1001) /content/chess.mp4: 640x640 1 Bishop, 2 Kings, 4 Knights, 2 Queens, 3 Rooks, 11.2ms\n",
            "video 1/1 (frame 885/1001) /content/chess.mp4: 640x640 1 Bishop, 2 Kings, 4 Knights, 2 Queens, 3 Rooks, 11.9ms\n",
            "video 1/1 (frame 886/1001) /content/chess.mp4: 640x640 1 Bishop, 2 Kings, 4 Knights, 2 Queens, 3 Rooks, 10.4ms\n",
            "video 1/1 (frame 887/1001) /content/chess.mp4: 640x640 1 Bishop, 2 Kings, 4 Knights, 2 Queens, 3 Rooks, 7.9ms\n",
            "video 1/1 (frame 888/1001) /content/chess.mp4: 640x640 1 Bishop, 2 Kings, 4 Knights, 1 Queen, 3 Rooks, 8.0ms\n",
            "video 1/1 (frame 889/1001) /content/chess.mp4: 640x640 1 Bishop, 2 Kings, 4 Knights, 2 Queens, 3 Rooks, 7.9ms\n",
            "video 1/1 (frame 890/1001) /content/chess.mp4: 640x640 1 Bishop, 2 Kings, 4 Knights, 2 Queens, 3 Rooks, 7.8ms\n",
            "video 1/1 (frame 891/1001) /content/chess.mp4: 640x640 1 Bishop, 2 Kings, 4 Knights, 2 Queens, 3 Rooks, 9.0ms\n",
            "video 1/1 (frame 892/1001) /content/chess.mp4: 640x640 1 Bishop, 2 Kings, 4 Knights, 2 Queens, 3 Rooks, 7.8ms\n",
            "video 1/1 (frame 893/1001) /content/chess.mp4: 640x640 1 Bishop, 2 Kings, 4 Knights, 2 Queens, 3 Rooks, 7.8ms\n",
            "video 1/1 (frame 894/1001) /content/chess.mp4: 640x640 1 Bishop, 2 Kings, 4 Knights, 2 Queens, 3 Rooks, 11.8ms\n",
            "video 1/1 (frame 895/1001) /content/chess.mp4: 640x640 1 Bishop, 2 Kings, 4 Knights, 2 Queens, 3 Rooks, 7.8ms\n",
            "video 1/1 (frame 896/1001) /content/chess.mp4: 640x640 1 Bishop, 2 Kings, 4 Knights, 2 Queens, 3 Rooks, 7.9ms\n",
            "video 1/1 (frame 897/1001) /content/chess.mp4: 640x640 1 Bishop, 2 Kings, 4 Knights, 2 Queens, 3 Rooks, 8.1ms\n",
            "video 1/1 (frame 898/1001) /content/chess.mp4: 640x640 1 Bishop, 2 Kings, 4 Knights, 2 Queens, 3 Rooks, 7.8ms\n",
            "video 1/1 (frame 899/1001) /content/chess.mp4: 640x640 1 Bishop, 2 Kings, 4 Knights, 2 Queens, 3 Rooks, 8.2ms\n",
            "video 1/1 (frame 900/1001) /content/chess.mp4: 640x640 1 Bishop, 2 Kings, 4 Knights, 2 Queens, 3 Rooks, 9.3ms\n",
            "video 1/1 (frame 901/1001) /content/chess.mp4: 640x640 1 Bishop, 2 Kings, 4 Knights, 2 Queens, 3 Rooks, 8.0ms\n",
            "video 1/1 (frame 902/1001) /content/chess.mp4: 640x640 1 Bishop, 2 Kings, 4 Knights, 1 Queen, 4 Rooks, 8.7ms\n",
            "video 1/1 (frame 903/1001) /content/chess.mp4: 640x640 1 Bishop, 2 Kings, 4 Knights, 1 Queen, 4 Rooks, 8.1ms\n",
            "video 1/1 (frame 904/1001) /content/chess.mp4: 640x640 1 Bishop, 2 Kings, 4 Knights, 2 Queens, 4 Rooks, 10.0ms\n",
            "video 1/1 (frame 905/1001) /content/chess.mp4: 640x640 1 Bishop, 2 Kings, 4 Knights, 2 Queens, 4 Rooks, 7.9ms\n",
            "video 1/1 (frame 906/1001) /content/chess.mp4: 640x640 1 Bishop, 2 Kings, 4 Knights, 2 Queens, 4 Rooks, 8.0ms\n",
            "video 1/1 (frame 907/1001) /content/chess.mp4: 640x640 1 Bishop, 2 Kings, 4 Knights, 2 Queens, 4 Rooks, 7.8ms\n",
            "video 1/1 (frame 908/1001) /content/chess.mp4: 640x640 1 Bishop, 2 Kings, 4 Knights, 2 Queens, 4 Rooks, 9.0ms\n",
            "video 1/1 (frame 909/1001) /content/chess.mp4: 640x640 1 Bishop, 2 Kings, 4 Knights, 2 Queens, 4 Rooks, 11.7ms\n",
            "video 1/1 (frame 910/1001) /content/chess.mp4: 640x640 1 Bishop, 2 Kings, 4 Knights, 2 Queens, 4 Rooks, 8.0ms\n",
            "video 1/1 (frame 911/1001) /content/chess.mp4: 640x640 1 Bishop, 2 Kings, 4 Knights, 2 Queens, 5 Rooks, 8.0ms\n",
            "video 1/1 (frame 912/1001) /content/chess.mp4: 640x640 1 Bishop, 2 Kings, 4 Knights, 2 Queens, 4 Rooks, 10.3ms\n",
            "video 1/1 (frame 913/1001) /content/chess.mp4: 640x640 1 Bishop, 2 Kings, 4 Knights, 2 Queens, 4 Rooks, 9.1ms\n",
            "video 1/1 (frame 914/1001) /content/chess.mp4: 640x640 1 Bishop, 2 Kings, 4 Knights, 2 Queens, 4 Rooks, 7.9ms\n",
            "video 1/1 (frame 915/1001) /content/chess.mp4: 640x640 1 Bishop, 2 Kings, 4 Knights, 2 Queens, 4 Rooks, 9.0ms\n",
            "video 1/1 (frame 916/1001) /content/chess.mp4: 640x640 1 Bishop, 2 Kings, 4 Knights, 2 Queens, 4 Rooks, 8.1ms\n",
            "video 1/1 (frame 917/1001) /content/chess.mp4: 640x640 1 Bishop, 2 Kings, 4 Knights, 2 Queens, 4 Rooks, 7.7ms\n",
            "video 1/1 (frame 918/1001) /content/chess.mp4: 640x640 1 Bishop, 2 Kings, 4 Knights, 2 Queens, 4 Rooks, 7.9ms\n",
            "video 1/1 (frame 919/1001) /content/chess.mp4: 640x640 1 Bishop, 2 Kings, 4 Knights, 2 Queens, 4 Rooks, 11.2ms\n",
            "video 1/1 (frame 920/1001) /content/chess.mp4: 640x640 1 Bishop, 2 Kings, 4 Knights, 2 Queens, 4 Rooks, 7.9ms\n",
            "video 1/1 (frame 921/1001) /content/chess.mp4: 640x640 1 Bishop, 3 Kings, 4 Knights, 2 Queens, 4 Rooks, 7.9ms\n",
            "video 1/1 (frame 922/1001) /content/chess.mp4: 640x640 1 Bishop, 3 Kings, 4 Knights, 2 Queens, 4 Rooks, 14.1ms\n",
            "video 1/1 (frame 923/1001) /content/chess.mp4: 640x640 1 Bishop, 3 Kings, 4 Knights, 2 Queens, 4 Rooks, 9.0ms\n",
            "video 1/1 (frame 924/1001) /content/chess.mp4: 640x640 1 Bishop, 3 Kings, 4 Knights, 2 Queens, 4 Rooks, 8.1ms\n",
            "video 1/1 (frame 925/1001) /content/chess.mp4: 640x640 1 Bishop, 2 Kings, 4 Knights, 2 Queens, 4 Rooks, 7.8ms\n",
            "video 1/1 (frame 926/1001) /content/chess.mp4: 640x640 1 Bishop, 2 Kings, 4 Knights, 2 Queens, 4 Rooks, 8.3ms\n",
            "video 1/1 (frame 927/1001) /content/chess.mp4: 640x640 1 Bishop, 2 Kings, 4 Knights, 2 Queens, 4 Rooks, 7.9ms\n",
            "video 1/1 (frame 928/1001) /content/chess.mp4: 640x640 1 Bishop, 2 Kings, 4 Knights, 2 Queens, 4 Rooks, 8.0ms\n",
            "video 1/1 (frame 929/1001) /content/chess.mp4: 640x640 1 Bishop, 2 Kings, 4 Knights, 2 Queens, 4 Rooks, 7.8ms\n",
            "video 1/1 (frame 930/1001) /content/chess.mp4: 640x640 1 Bishop, 2 Kings, 4 Knights, 2 Queens, 4 Rooks, 7.8ms\n",
            "video 1/1 (frame 931/1001) /content/chess.mp4: 640x640 1 Bishop, 2 Kings, 4 Knights, 2 Queens, 4 Rooks, 8.0ms\n",
            "video 1/1 (frame 932/1001) /content/chess.mp4: 640x640 1 Bishop, 2 Kings, 4 Knights, 2 Queens, 4 Rooks, 8.7ms\n",
            "video 1/1 (frame 933/1001) /content/chess.mp4: 640x640 1 Bishop, 2 Kings, 4 Knights, 2 Queens, 4 Rooks, 8.0ms\n",
            "video 1/1 (frame 934/1001) /content/chess.mp4: 640x640 1 Bishop, 2 Kings, 4 Knights, 2 Queens, 4 Rooks, 9.7ms\n",
            "video 1/1 (frame 935/1001) /content/chess.mp4: 640x640 1 Bishop, 2 Kings, 4 Knights, 2 Queens, 4 Rooks, 8.0ms\n",
            "video 1/1 (frame 936/1001) /content/chess.mp4: 640x640 1 Bishop, 2 Kings, 4 Knights, 2 Queens, 4 Rooks, 8.0ms\n",
            "video 1/1 (frame 937/1001) /content/chess.mp4: 640x640 1 Bishop, 2 Kings, 4 Knights, 2 Queens, 4 Rooks, 8.4ms\n",
            "video 1/1 (frame 938/1001) /content/chess.mp4: 640x640 1 Bishop, 2 Kings, 4 Knights, 2 Queens, 4 Rooks, 8.0ms\n",
            "video 1/1 (frame 939/1001) /content/chess.mp4: 640x640 1 Bishop, 2 Kings, 4 Knights, 2 Queens, 4 Rooks, 7.9ms\n",
            "video 1/1 (frame 940/1001) /content/chess.mp4: 640x640 1 Bishop, 2 Kings, 4 Knights, 2 Queens, 4 Rooks, 7.9ms\n",
            "video 1/1 (frame 941/1001) /content/chess.mp4: 640x640 1 Bishop, 2 Kings, 4 Knights, 2 Queens, 4 Rooks, 8.0ms\n",
            "video 1/1 (frame 942/1001) /content/chess.mp4: 640x640 1 Bishop, 2 Kings, 4 Knights, 2 Queens, 4 Rooks, 7.8ms\n",
            "video 1/1 (frame 943/1001) /content/chess.mp4: 640x640 1 Bishop, 2 Kings, 4 Knights, 2 Queens, 4 Rooks, 8.0ms\n",
            "video 1/1 (frame 944/1001) /content/chess.mp4: 640x640 1 Bishop, 2 Kings, 4 Knights, 2 Queens, 4 Rooks, 8.1ms\n",
            "video 1/1 (frame 945/1001) /content/chess.mp4: 640x640 1 Bishop, 2 Kings, 4 Knights, 2 Queens, 4 Rooks, 7.9ms\n",
            "video 1/1 (frame 946/1001) /content/chess.mp4: 640x640 1 Bishop, 2 Kings, 4 Knights, 2 Queens, 4 Rooks, 7.9ms\n",
            "video 1/1 (frame 947/1001) /content/chess.mp4: 640x640 1 Bishop, 2 Kings, 4 Knights, 2 Queens, 4 Rooks, 7.8ms\n",
            "video 1/1 (frame 948/1001) /content/chess.mp4: 640x640 1 Bishop, 2 Kings, 4 Knights, 2 Queens, 4 Rooks, 8.0ms\n",
            "video 1/1 (frame 949/1001) /content/chess.mp4: 640x640 1 Bishop, 2 Kings, 4 Knights, 2 Queens, 4 Rooks, 8.2ms\n",
            "video 1/1 (frame 950/1001) /content/chess.mp4: 640x640 1 Bishop, 2 Kings, 4 Knights, 2 Queens, 4 Rooks, 10.1ms\n",
            "video 1/1 (frame 951/1001) /content/chess.mp4: 640x640 1 Bishop, 2 Kings, 4 Knights, 2 Queens, 4 Rooks, 7.9ms\n",
            "video 1/1 (frame 952/1001) /content/chess.mp4: 640x640 1 Bishop, 2 Kings, 4 Knights, 2 Queens, 4 Rooks, 9.0ms\n",
            "video 1/1 (frame 953/1001) /content/chess.mp4: 640x640 1 Bishop, 2 Kings, 4 Knights, 2 Queens, 4 Rooks, 8.0ms\n",
            "video 1/1 (frame 954/1001) /content/chess.mp4: 640x640 1 Bishop, 2 Kings, 4 Knights, 2 Queens, 4 Rooks, 7.8ms\n",
            "video 1/1 (frame 955/1001) /content/chess.mp4: 640x640 1 Bishop, 2 Kings, 4 Knights, 2 Queens, 4 Rooks, 8.1ms\n",
            "video 1/1 (frame 956/1001) /content/chess.mp4: 640x640 1 Bishop, 2 Kings, 4 Knights, 2 Queens, 4 Rooks, 9.1ms\n",
            "video 1/1 (frame 957/1001) /content/chess.mp4: 640x640 1 Bishop, 2 Kings, 4 Knights, 2 Queens, 4 Rooks, 8.7ms\n",
            "video 1/1 (frame 958/1001) /content/chess.mp4: 640x640 1 Bishop, 2 Kings, 4 Knights, 2 Queens, 4 Rooks, 7.6ms\n",
            "video 1/1 (frame 959/1001) /content/chess.mp4: 640x640 1 Bishop, 2 Kings, 4 Knights, 2 Queens, 4 Rooks, 7.7ms\n",
            "video 1/1 (frame 960/1001) /content/chess.mp4: 640x640 1 Bishop, 2 Kings, 4 Knights, 2 Queens, 4 Rooks, 7.8ms\n",
            "video 1/1 (frame 961/1001) /content/chess.mp4: 640x640 1 Bishop, 2 Kings, 4 Knights, 2 Queens, 4 Rooks, 7.7ms\n",
            "video 1/1 (frame 962/1001) /content/chess.mp4: 640x640 1 Bishop, 2 Kings, 4 Knights, 2 Queens, 4 Rooks, 9.9ms\n",
            "video 1/1 (frame 963/1001) /content/chess.mp4: 640x640 1 Bishop, 2 Kings, 4 Knights, 2 Queens, 4 Rooks, 8.7ms\n",
            "video 1/1 (frame 964/1001) /content/chess.mp4: 640x640 1 Bishop, 2 Kings, 4 Knights, 2 Queens, 4 Rooks, 8.1ms\n",
            "video 1/1 (frame 965/1001) /content/chess.mp4: 640x640 1 Bishop, 2 Kings, 4 Knights, 2 Queens, 4 Rooks, 8.2ms\n",
            "video 1/1 (frame 966/1001) /content/chess.mp4: 640x640 1 Bishop, 2 Kings, 4 Knights, 2 Queens, 4 Rooks, 7.8ms\n",
            "video 1/1 (frame 967/1001) /content/chess.mp4: 640x640 1 Bishop, 2 Kings, 4 Knights, 2 Queens, 4 Rooks, 7.7ms\n",
            "video 1/1 (frame 968/1001) /content/chess.mp4: 640x640 1 Bishop, 2 Kings, 4 Knights, 2 Queens, 4 Rooks, 8.0ms\n",
            "video 1/1 (frame 969/1001) /content/chess.mp4: 640x640 1 Bishop, 2 Kings, 4 Knights, 2 Queens, 4 Rooks, 7.7ms\n",
            "video 1/1 (frame 970/1001) /content/chess.mp4: 640x640 1 Bishop, 2 Kings, 4 Knights, 2 Queens, 4 Rooks, 9.8ms\n",
            "video 1/1 (frame 971/1001) /content/chess.mp4: 640x640 1 Bishop, 2 Kings, 4 Knights, 2 Queens, 4 Rooks, 7.7ms\n",
            "video 1/1 (frame 972/1001) /content/chess.mp4: 640x640 1 Bishop, 2 Kings, 4 Knights, 2 Queens, 4 Rooks, 7.7ms\n",
            "video 1/1 (frame 973/1001) /content/chess.mp4: 640x640 1 Bishop, 2 Kings, 4 Knights, 2 Queens, 4 Rooks, 7.7ms\n",
            "video 1/1 (frame 974/1001) /content/chess.mp4: 640x640 1 Bishop, 2 Kings, 4 Knights, 2 Queens, 4 Rooks, 9.9ms\n",
            "video 1/1 (frame 975/1001) /content/chess.mp4: 640x640 1 Bishop, 2 Kings, 4 Knights, 2 Queens, 4 Rooks, 14.4ms\n",
            "video 1/1 (frame 976/1001) /content/chess.mp4: 640x640 1 Bishop, 2 Kings, 4 Knights, 2 Queens, 4 Rooks, 7.8ms\n",
            "video 1/1 (frame 977/1001) /content/chess.mp4: 640x640 1 Bishop, 2 Kings, 4 Knights, 2 Queens, 4 Rooks, 8.5ms\n",
            "video 1/1 (frame 978/1001) /content/chess.mp4: 640x640 1 Bishop, 2 Kings, 4 Knights, 2 Queens, 4 Rooks, 7.7ms\n",
            "video 1/1 (frame 979/1001) /content/chess.mp4: 640x640 1 Bishop, 2 Kings, 4 Knights, 2 Queens, 4 Rooks, 7.8ms\n",
            "video 1/1 (frame 980/1001) /content/chess.mp4: 640x640 1 Bishop, 2 Kings, 4 Knights, 2 Queens, 4 Rooks, 8.0ms\n",
            "video 1/1 (frame 981/1001) /content/chess.mp4: 640x640 1 Bishop, 2 Kings, 4 Knights, 2 Queens, 4 Rooks, 7.7ms\n",
            "video 1/1 (frame 982/1001) /content/chess.mp4: 640x640 1 Bishop, 2 Kings, 4 Knights, 2 Queens, 4 Rooks, 7.9ms\n",
            "video 1/1 (frame 983/1001) /content/chess.mp4: 640x640 1 Bishop, 2 Kings, 4 Knights, 2 Queens, 4 Rooks, 7.6ms\n",
            "video 1/1 (frame 984/1001) /content/chess.mp4: 640x640 1 Bishop, 2 Kings, 4 Knights, 2 Queens, 4 Rooks, 8.2ms\n",
            "video 1/1 (frame 985/1001) /content/chess.mp4: 640x640 1 Bishop, 2 Kings, 4 Knights, 2 Queens, 4 Rooks, 8.6ms\n",
            "video 1/1 (frame 986/1001) /content/chess.mp4: 640x640 1 Bishop, 2 Kings, 4 Knights, 2 Queens, 4 Rooks, 7.7ms\n",
            "video 1/1 (frame 987/1001) /content/chess.mp4: 640x640 1 Bishop, 2 Kings, 4 Knights, 2 Queens, 4 Rooks, 7.7ms\n",
            "video 1/1 (frame 988/1001) /content/chess.mp4: 640x640 1 Bishop, 2 Kings, 4 Knights, 2 Queens, 4 Rooks, 7.7ms\n",
            "video 1/1 (frame 989/1001) /content/chess.mp4: 640x640 1 Bishop, 2 Kings, 4 Knights, 2 Queens, 4 Rooks, 7.7ms\n",
            "video 1/1 (frame 990/1001) /content/chess.mp4: 640x640 1 Bishop, 2 Kings, 4 Knights, 2 Queens, 4 Rooks, 8.0ms\n",
            "video 1/1 (frame 991/1001) /content/chess.mp4: 640x640 1 Bishop, 2 Kings, 4 Knights, 2 Queens, 4 Rooks, 7.7ms\n",
            "video 1/1 (frame 992/1001) /content/chess.mp4: 640x640 1 Bishop, 2 Kings, 4 Knights, 2 Queens, 4 Rooks, 7.8ms\n",
            "video 1/1 (frame 993/1001) /content/chess.mp4: 640x640 1 Bishop, 2 Kings, 4 Knights, 2 Queens, 4 Rooks, 7.7ms\n",
            "video 1/1 (frame 994/1001) /content/chess.mp4: 640x640 1 Bishop, 2 Kings, 4 Knights, 2 Queens, 4 Rooks, 8.1ms\n",
            "video 1/1 (frame 995/1001) /content/chess.mp4: 640x640 1 Bishop, 2 Kings, 4 Knights, 2 Queens, 4 Rooks, 8.0ms\n",
            "video 1/1 (frame 996/1001) /content/chess.mp4: 640x640 1 Bishop, 2 Kings, 4 Knights, 2 Queens, 4 Rooks, 8.8ms\n",
            "video 1/1 (frame 997/1001) /content/chess.mp4: 640x640 1 Bishop, 2 Kings, 4 Knights, 2 Queens, 4 Rooks, 8.0ms\n",
            "video 1/1 (frame 998/1001) /content/chess.mp4: 640x640 1 Bishop, 2 Kings, 4 Knights, 2 Queens, 4 Rooks, 7.8ms\n",
            "video 1/1 (frame 999/1001) /content/chess.mp4: 640x640 1 Bishop, 2 Kings, 4 Knights, 2 Queens, 4 Rooks, 7.9ms\n",
            "video 1/1 (frame 1000/1001) /content/chess.mp4: 640x640 1 Bishop, 2 Kings, 4 Knights, 2 Queens, 4 Rooks, 8.5ms\n",
            "video 1/1 (frame 1001/1001) /content/chess.mp4: 640x640 1 Bishop, 2 Kings, 4 Knights, 2 Queens, 4 Rooks, 10.1ms\n",
            "Speed: 3.1ms preprocess, 9.4ms inference, 1.7ms postprocess per image at shape (1, 3, 640, 640)\n",
            "Results saved to \u001b[1mruns/detect/predict6\u001b[0m\n",
            "💡 Learn more at https://docs.ultralytics.com/modes/predict\n"
          ]
        }
      ],
      "source": [
        "!yolo predict model=/content/runs/detect/train/weights/best.pt source=chess.mp4 show_conf=False"
      ]
    }
  ],
  "metadata": {
    "accelerator": "GPU",
    "colab": {
      "gpuType": "T4",
      "provenance": []
    },
    "kernelspec": {
      "display_name": "Python 3",
      "name": "python3"
    },
    "language_info": {
      "name": "python"
    }
  },
  "nbformat": 4,
  "nbformat_minor": 0
}
